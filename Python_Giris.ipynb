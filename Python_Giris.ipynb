{
  "cells": [
    {
      "cell_type": "markdown",
      "id": "2a5f5f26-d251-4ecc-967e-d79711c57be5",
      "metadata": {
        "id": "2a5f5f26-d251-4ecc-967e-d79711c57be5"
      },
      "source": [
        "# PYTHON GİRİŞ"
      ]
    },
    {
      "cell_type": "markdown",
      "id": "0c8d40b7-aa7d-4c79-b49c-acf373719524",
      "metadata": {
        "id": "0c8d40b7-aa7d-4c79-b49c-acf373719524"
      },
      "source": [
        "Bazı önemli kaynaklar:\n",
        "- https://docs.python.org/3/\n",
        "- https://www.programiz.com\n",
        "\n",
        "Bazı önemli python anahtar kelimeler:\n",
        "- https://www.w3schools.com/python/python_ref_keywords.asp\n",
        "\n",
        "Python liste metodu:\n",
        "- https://www.w3schools.com/python/python_ref_list.asp"
      ]
    },
    {
      "cell_type": "code",
      "execution_count": 2,
      "id": "7eaf74a0-5d81-4a68-b2d8-83fe1c21f279",
      "metadata": {
        "id": "7eaf74a0-5d81-4a68-b2d8-83fe1c21f279",
        "colab": {
          "base_uri": "https://localhost:8080/"
        },
        "outputId": "c121f47a-8cef-4f5f-92b3-300a23150b53"
      },
      "outputs": [
        {
          "output_type": "stream",
          "name": "stdout",
          "text": [
            "6\n"
          ]
        }
      ],
      "source": [
        "print(2+4)"
      ]
    },
    {
      "cell_type": "code",
      "execution_count": 3,
      "id": "94a033b9-716e-4e1e-8222-bfbd4bdf691f",
      "metadata": {
        "id": "94a033b9-716e-4e1e-8222-bfbd4bdf691f",
        "outputId": "82dab717-36c6-4ce2-8dbf-6e29d66626cf",
        "colab": {
          "base_uri": "https://localhost:8080/"
        }
      },
      "outputs": [
        {
          "output_type": "execute_result",
          "data": {
            "text/plain": [
              "6"
            ]
          },
          "metadata": {},
          "execution_count": 3
        }
      ],
      "source": [
        "2+4"
      ]
    },
    {
      "cell_type": "code",
      "execution_count": 4,
      "id": "c08bbfb0-02a2-4f98-819a-d932767e3200",
      "metadata": {
        "id": "c08bbfb0-02a2-4f98-819a-d932767e3200",
        "outputId": "36b892a5-ebb9-4791-8bd0-e668c87775bd",
        "colab": {
          "base_uri": "https://localhost:8080/"
        }
      },
      "outputs": [
        {
          "output_type": "stream",
          "name": "stdout",
          "text": [
            "2+4\n"
          ]
        }
      ],
      "source": [
        "print(\"2+4\")"
      ]
    },
    {
      "cell_type": "code",
      "execution_count": 5,
      "id": "462ec34c-1861-41b2-910a-d5ed1e215f0b",
      "metadata": {
        "id": "462ec34c-1861-41b2-910a-d5ed1e215f0b",
        "outputId": "e0d2e929-92a4-4f42-bd05-f668c982a769",
        "colab": {
          "base_uri": "https://localhost:8080/"
        }
      },
      "outputs": [
        {
          "output_type": "stream",
          "name": "stdout",
          "text": [
            "deneme\n"
          ]
        }
      ],
      "source": [
        "print(\"deneme\")"
      ]
    },
    {
      "cell_type": "code",
      "execution_count": 6,
      "id": "1f3182c1-d7af-47f1-8faa-89bb8235dab9",
      "metadata": {
        "id": "1f3182c1-d7af-47f1-8faa-89bb8235dab9",
        "outputId": "ceea6bbe-da4f-4b21-e2ac-c76937d28a12",
        "colab": {
          "base_uri": "https://localhost:8080/"
        }
      },
      "outputs": [
        {
          "output_type": "stream",
          "name": "stdout",
          "text": [
            "4\n"
          ]
        }
      ],
      "source": [
        "print(2**2)"
      ]
    },
    {
      "cell_type": "code",
      "execution_count": 7,
      "id": "050b9f77-0740-4573-a889-ab67d981ca78",
      "metadata": {
        "id": "050b9f77-0740-4573-a889-ab67d981ca78",
        "outputId": "a4fbb4b0-ceb0-40ac-a817-4f7617307ffa",
        "colab": {
          "base_uri": "https://localhost:8080/"
        }
      },
      "outputs": [
        {
          "output_type": "stream",
          "name": "stdout",
          "text": [
            "1.0\n"
          ]
        }
      ],
      "source": [
        "print(5/5)"
      ]
    },
    {
      "cell_type": "code",
      "execution_count": 8,
      "id": "49333e28-3056-4a06-9d5f-827807619b4c",
      "metadata": {
        "id": "49333e28-3056-4a06-9d5f-827807619b4c",
        "outputId": "0ba834b5-b359-49a3-d2f3-9825dca78dde",
        "colab": {
          "base_uri": "https://localhost:8080/"
        }
      },
      "outputs": [
        {
          "output_type": "stream",
          "name": "stdout",
          "text": [
            "1\n"
          ]
        }
      ],
      "source": [
        "print(5//5)"
      ]
    },
    {
      "cell_type": "code",
      "execution_count": null,
      "id": "85f5eb87-f236-4e34-9afd-a61f29e8b52b",
      "metadata": {
        "id": "85f5eb87-f236-4e34-9afd-a61f29e8b52b",
        "outputId": "7733ee59-b4ba-4dbf-cf40-e6397e9811b9"
      },
      "outputs": [
        {
          "name": "stdout",
          "output_type": "stream",
          "text": [
            "0.75\n"
          ]
        }
      ],
      "source": [
        "print(3/4)"
      ]
    },
    {
      "cell_type": "code",
      "execution_count": null,
      "id": "8d577452-a68a-499b-a37c-861270d493c9",
      "metadata": {
        "id": "8d577452-a68a-499b-a37c-861270d493c9",
        "outputId": "36e7fc40-d2ad-446a-c584-b08de9535ef6"
      },
      "outputs": [
        {
          "name": "stdout",
          "output_type": "stream",
          "text": [
            "0\n"
          ]
        }
      ],
      "source": [
        "print(3//4)"
      ]
    },
    {
      "cell_type": "code",
      "execution_count": 9,
      "id": "918b6d6d-0300-4429-9e7f-cd963e631fde",
      "metadata": {
        "id": "918b6d6d-0300-4429-9e7f-cd963e631fde",
        "outputId": "aa173719-369d-492c-8794-eceb62414116",
        "colab": {
          "base_uri": "https://localhost:8080/"
        }
      },
      "outputs": [
        {
          "output_type": "stream",
          "name": "stdout",
          "text": [
            "1\n"
          ]
        }
      ],
      "source": [
        "print(5%4) # 5'in 4'e bölümünden kalanı gösterir."
      ]
    },
    {
      "cell_type": "code",
      "execution_count": null,
      "id": "3c7dc07c-1e55-4dda-ab4d-18362d00a158",
      "metadata": {
        "id": "3c7dc07c-1e55-4dda-ab4d-18362d00a158",
        "outputId": "b45dc012-0476-49d2-8c12-a6c334402652"
      },
      "outputs": [
        {
          "name": "stdout",
          "output_type": "stream",
          "text": [
            "3\n"
          ]
        }
      ],
      "source": [
        "print(round(3.1))"
      ]
    },
    {
      "cell_type": "code",
      "execution_count": null,
      "id": "30344461-52ac-475c-8388-5ad2d87fafa8",
      "metadata": {
        "id": "30344461-52ac-475c-8388-5ad2d87fafa8",
        "outputId": "ad38ee42-0de6-46eb-e6ad-e7f8f1075a3e"
      },
      "outputs": [
        {
          "name": "stdout",
          "output_type": "stream",
          "text": [
            "4\n"
          ]
        }
      ],
      "source": [
        "print(round(3.9))"
      ]
    },
    {
      "cell_type": "code",
      "execution_count": null,
      "id": "091703a9-2a93-453b-9b16-9c39eb4f2beb",
      "metadata": {
        "id": "091703a9-2a93-453b-9b16-9c39eb4f2beb",
        "outputId": "3d9b6fed-c4f1-4b80-a266-992b9ec12230"
      },
      "outputs": [
        {
          "name": "stdout",
          "output_type": "stream",
          "text": [
            "3\n"
          ]
        }
      ],
      "source": [
        "print(abs (-3)) # mutlak değer alır."
      ]
    },
    {
      "cell_type": "markdown",
      "id": "5ea60071-b89f-4061-8147-f6c716ac93b5",
      "metadata": {
        "id": "5ea60071-b89f-4061-8147-f6c716ac93b5"
      },
      "source": [
        "### İşlem önceliği yukarıdan aşağıya sırasıyla;\n",
        "\n",
        "- ()\n",
        "- **\n",
        "- */\n",
        "- +-"
      ]
    },
    {
      "cell_type": "code",
      "execution_count": 10,
      "id": "95d9adcf-a0d6-46ee-a293-33d08a462cf0",
      "metadata": {
        "id": "95d9adcf-a0d6-46ee-a293-33d08a462cf0",
        "outputId": "8be14355-3f59-4ae5-d33c-90c29c060b74",
        "colab": {
          "base_uri": "https://localhost:8080/"
        }
      },
      "outputs": [
        {
          "output_type": "stream",
          "name": "stdout",
          "text": [
            "0b101\n"
          ]
        }
      ],
      "source": [
        "print (bin(5)) #binary sayı üretir"
      ]
    },
    {
      "cell_type": "code",
      "execution_count": null,
      "id": "85fb607c-c3b5-429a-a578-01448598643e",
      "metadata": {
        "id": "85fb607c-c3b5-429a-a578-01448598643e",
        "outputId": "ac03ebcb-b0d8-4315-aa55-46cf022348b0"
      },
      "outputs": [
        {
          "data": {
            "text/plain": [
              "20.0"
            ]
          },
          "execution_count": 71,
          "metadata": {},
          "output_type": "execute_result"
        }
      ],
      "source": [
        "iq = 100\n",
        "a = iq/5\n",
        "a"
      ]
    },
    {
      "cell_type": "code",
      "execution_count": null,
      "id": "a487bae8-8e4a-47d7-adba-b5962b7e1d68",
      "metadata": {
        "id": "a487bae8-8e4a-47d7-adba-b5962b7e1d68",
        "outputId": "65b7b358-6060-460c-b0d9-e2affa8eb465"
      },
      "outputs": [
        {
          "name": "stdout",
          "output_type": "stream",
          "text": [
            "20\n"
          ]
        }
      ],
      "source": [
        "iq = 100\n",
        "a = iq/5\n",
        "print(int(a))"
      ]
    },
    {
      "cell_type": "markdown",
      "id": "892bb1f2-8d22-4a8d-a1cd-e0e474bab7b6",
      "metadata": {
        "id": "892bb1f2-8d22-4a8d-a1cd-e0e474bab7b6"
      },
      "source": [
        "### Augmented Assignment Operator (Artırılmış Atama Operetörü)"
      ]
    },
    {
      "cell_type": "code",
      "execution_count": null,
      "id": "06fa2599-4613-4252-a86c-bfb2877ddede",
      "metadata": {
        "id": "06fa2599-4613-4252-a86c-bfb2877ddede",
        "outputId": "e7a580ae-7308-4709-ab97-2afd97bf41ca"
      },
      "outputs": [
        {
          "data": {
            "text/plain": [
              "7"
            ]
          },
          "execution_count": 78,
          "metadata": {},
          "output_type": "execute_result"
        }
      ],
      "source": [
        "a = 5\n",
        "a = a+2\n",
        "a"
      ]
    },
    {
      "cell_type": "code",
      "execution_count": null,
      "id": "b87f0057-218e-4c83-8af7-2ac11430b1a6",
      "metadata": {
        "id": "b87f0057-218e-4c83-8af7-2ac11430b1a6",
        "outputId": "3ddcf6f0-41ff-4114-bd32-7e3eeb2e9923"
      },
      "outputs": [
        {
          "data": {
            "text/plain": [
              "7"
            ]
          },
          "execution_count": 80,
          "metadata": {},
          "output_type": "execute_result"
        }
      ],
      "source": [
        "a = 5\n",
        "a += 2\n",
        "a"
      ]
    },
    {
      "cell_type": "code",
      "execution_count": null,
      "id": "e053b1c5-58dc-4a48-be0f-d47f8e8ae417",
      "metadata": {
        "id": "e053b1c5-58dc-4a48-be0f-d47f8e8ae417",
        "outputId": "1c7ad35f-2db1-415f-c7f9-0c3b09bd5169"
      },
      "outputs": [
        {
          "data": {
            "text/plain": [
              "3"
            ]
          },
          "execution_count": 84,
          "metadata": {},
          "output_type": "execute_result"
        }
      ],
      "source": [
        "a = 5\n",
        "a -= 2\n",
        "a"
      ]
    },
    {
      "cell_type": "code",
      "execution_count": null,
      "id": "0e56425e-19ce-4b10-81f9-316efb291846",
      "metadata": {
        "id": "0e56425e-19ce-4b10-81f9-316efb291846",
        "outputId": "47976edb-488e-4e2c-8cdf-a6c0912d8867"
      },
      "outputs": [
        {
          "name": "stdout",
          "output_type": "stream",
          "text": [
            "190\n"
          ]
        }
      ],
      "source": [
        "iq = 190\n",
        "print (iq)"
      ]
    },
    {
      "cell_type": "markdown",
      "id": "24c0f58f-77cd-41d1-be2d-0b2b55930da7",
      "metadata": {
        "id": "24c0f58f-77cd-41d1-be2d-0b2b55930da7"
      },
      "source": [
        "### Adlandırma Kuralları\n",
        "- Sneake case\n",
        "- Küçük harf ile başla ve alt tire kullan\n",
        "- Sistem büyük küçük harfe duyarlı\n",
        "- Anahtar kelime üzerine yazma, mavi renk ile vurgulanır\n",
        "- _user_iq örnek"
      ]
    },
    {
      "cell_type": "markdown",
      "id": "fa7486b9-548a-4921-8ccd-e39de4b8f9f9",
      "metadata": {
        "id": "fa7486b9-548a-4921-8ccd-e39de4b8f9f9"
      },
      "source": [
        "İki alt çizgi yaz ve tab tuşuna bas, uygulayabileceğin fonksiyonlar listelenir."
      ]
    },
    {
      "cell_type": "code",
      "execution_count": null,
      "id": "99250b8a-a5ea-45ad-b3c2-23d02d17f470",
      "metadata": {
        "id": "99250b8a-a5ea-45ad-b3c2-23d02d17f470",
        "outputId": "0d247b14-fa06-4ade-e468-42490fa27e36"
      },
      "outputs": [
        {
          "name": "stdout",
          "output_type": "stream",
          "text": [
            "1\n",
            "2\n"
          ]
        },
        {
          "data": {
            "text/plain": [
              "3"
            ]
          },
          "execution_count": 100,
          "metadata": {},
          "output_type": "execute_result"
        }
      ],
      "source": [
        "a,b,c = 1,2,3\n",
        "\n",
        "print(a)\n",
        "print(b)\n",
        "c"
      ]
    },
    {
      "cell_type": "code",
      "execution_count": null,
      "id": "a72e4d6e-47d1-4d33-9d91-b7caa5ca873b",
      "metadata": {
        "id": "a72e4d6e-47d1-4d33-9d91-b7caa5ca873b",
        "outputId": "6b3e4746-e806-44c0-dee3-c549f26fdf0a"
      },
      "outputs": [
        {
          "data": {
            "text/plain": [
              "(1, 2, 3)"
            ]
          },
          "execution_count": 102,
          "metadata": {},
          "output_type": "execute_result"
        }
      ],
      "source": [
        "a,b,c = 1,2,3\n",
        "a,b,c"
      ]
    },
    {
      "cell_type": "code",
      "execution_count": null,
      "id": "bec69c0d-5713-45c4-9685-8378d17c5aea",
      "metadata": {
        "id": "bec69c0d-5713-45c4-9685-8378d17c5aea",
        "outputId": "b32b6c62-934c-4e1d-80b3-5eabdc71d1ee"
      },
      "outputs": [
        {
          "data": {
            "text/plain": [
              "3"
            ]
          },
          "execution_count": 104,
          "metadata": {},
          "output_type": "execute_result"
        }
      ],
      "source": [
        "a,b,c = 1,2,3\n",
        "a\n",
        "b\n",
        "c"
      ]
    },
    {
      "cell_type": "code",
      "execution_count": null,
      "id": "db74d1f4-f529-4d71-a304-cde336e6ce79",
      "metadata": {
        "id": "db74d1f4-f529-4d71-a304-cde336e6ce79",
        "outputId": "35930616-db54-46e4-ef16-a3f961b4f13e"
      },
      "outputs": [
        {
          "name": "stdout",
          "output_type": "stream",
          "text": [
            "<class 'str'>\n"
          ]
        }
      ],
      "source": [
        "print(type(\"merhaba\"))"
      ]
    },
    {
      "cell_type": "code",
      "execution_count": null,
      "id": "df129fee-4168-44fa-b807-8215b24465e9",
      "metadata": {
        "id": "df129fee-4168-44fa-b807-8215b24465e9",
        "outputId": "64a57748-cb63-4710-e33e-cf7436dc6963"
      },
      "outputs": [
        {
          "name": "stdout",
          "output_type": "stream",
          "text": [
            "\n"
          ]
        }
      ],
      "source": [
        "long_string = \"\"\n",
        "print(long_string)"
      ]
    },
    {
      "cell_type": "code",
      "execution_count": null,
      "id": "700b7ced-9438-4af6-ad45-8754e52d7942",
      "metadata": {
        "id": "700b7ced-9438-4af6-ad45-8754e52d7942",
        "outputId": "74bae7ae-ba05-480e-f01c-1abeca4e8149"
      },
      "outputs": [
        {
          "data": {
            "text/plain": [
              "'Muhammed Barut'"
            ]
          },
          "execution_count": 116,
          "metadata": {},
          "output_type": "execute_result"
        }
      ],
      "source": [
        "isim = \"Muhammed\"\n",
        "soyisim = \"Barut\"\n",
        "isimsoyisim = isim + \" \" + soyisim\n",
        "isimsoyisim"
      ]
    },
    {
      "cell_type": "code",
      "execution_count": null,
      "id": "3e1b6cbb-9156-4d4e-aeb8-08190b0747c3",
      "metadata": {
        "id": "3e1b6cbb-9156-4d4e-aeb8-08190b0747c3",
        "outputId": "060e0472-027f-4faf-cce7-ace95ee38222"
      },
      "outputs": [
        {
          "name": "stdout",
          "output_type": "stream",
          "text": [
            "Muhammed Barut\n"
          ]
        }
      ],
      "source": [
        "isim = \"Muhammed\"\n",
        "soyisim = \"Barut\"\n",
        "isimsoyisim = isim + \" \" + soyisim\n",
        "print(isimsoyisim)"
      ]
    },
    {
      "cell_type": "code",
      "execution_count": null,
      "id": "321620e5-bd55-40bd-9c9b-3f5aaeaf1b05",
      "metadata": {
        "id": "321620e5-bd55-40bd-9c9b-3f5aaeaf1b05",
        "outputId": "ff270755-b9f2-47db-fcf2-b2ca92edb6bf"
      },
      "outputs": [
        {
          "name": "stdout",
          "output_type": "stream",
          "text": [
            "MuhammedBarut\n"
          ]
        }
      ],
      "source": [
        "print (\"Muhammed\" + \"Barut\")"
      ]
    },
    {
      "cell_type": "markdown",
      "id": "a8a44adb-26ce-4b84-825c-e902557d7a35",
      "metadata": {
        "id": "a8a44adb-26ce-4b84-825c-e902557d7a35"
      },
      "source": [
        "### Tür Değiştirme"
      ]
    },
    {
      "cell_type": "code",
      "execution_count": null,
      "id": "6ef2f512-f445-42fb-9555-5908dad56616",
      "metadata": {
        "id": "6ef2f512-f445-42fb-9555-5908dad56616",
        "outputId": "57254bda-2b34-49fa-c577-a164254e3095"
      },
      "outputs": [
        {
          "name": "stdout",
          "output_type": "stream",
          "text": [
            "<class 'int'>\n"
          ]
        }
      ],
      "source": [
        "print(type(11))"
      ]
    },
    {
      "cell_type": "code",
      "execution_count": null,
      "id": "83fad16c-31e0-4879-b088-9768c061b6d4",
      "metadata": {
        "id": "83fad16c-31e0-4879-b088-9768c061b6d4",
        "outputId": "01796da5-541f-4a86-b708-323271b3fdee"
      },
      "outputs": [
        {
          "name": "stdout",
          "output_type": "stream",
          "text": [
            "<class 'str'>\n"
          ]
        }
      ],
      "source": [
        "print (type (str(11)))"
      ]
    },
    {
      "cell_type": "code",
      "execution_count": null,
      "id": "0d6b8e7d-7fb6-4e0e-b9a4-5c2595b929e4",
      "metadata": {
        "id": "0d6b8e7d-7fb6-4e0e-b9a4-5c2595b929e4",
        "outputId": "29f0b102-de50-4ee0-ca91-14d5dd4c98cb"
      },
      "outputs": [
        {
          "name": "stdout",
          "output_type": "stream",
          "text": [
            "<class 'int'>\n"
          ]
        }
      ],
      "source": [
        "a = str(11)\n",
        "b = int(a)\n",
        "c = type (b)\n",
        "print (c)"
      ]
    },
    {
      "cell_type": "code",
      "execution_count": null,
      "id": "a1050247-8d40-4d00-b93f-18d9f230134a",
      "metadata": {
        "scrolled": true,
        "id": "a1050247-8d40-4d00-b93f-18d9f230134a"
      },
      "outputs": [],
      "source": [
        "isim = input (\"isminiz nedir?\")\n",
        "print (\"merhaba\" + isim) #veri giriş hücresi sorar ve çıktıya yazdırır."
      ]
    },
    {
      "cell_type": "markdown",
      "id": "1be4c3cb-34dc-4d60-b71c-94db7771b4f9",
      "metadata": {
        "id": "1be4c3cb-34dc-4d60-b71c-94db7771b4f9"
      },
      "source": [
        "### Hatalı Metin\n",
        "\n",
        "havadurumu = 'güneşli'\n",
        "Metinde bu hataya sebep olur. Bunu engellemek için kod başına çift tırnak ekle.\n",
        "\n",
        "option + soru işareti --> \\\n",
        "\n",
        "\"it's \"kind of\" sunny\" --> \"it\\s's \\\\ \"kind of\"\\ sunny\""
      ]
    },
    {
      "cell_type": "code",
      "execution_count": null,
      "id": "3aa15c7e-973b-4ab7-8604-1cb93475d3f7",
      "metadata": {
        "id": "3aa15c7e-973b-4ab7-8604-1cb93475d3f7"
      },
      "outputs": [],
      "source": [
        "# print(\"it's kind of sunny\") --> hata verir."
      ]
    },
    {
      "cell_type": "code",
      "execution_count": null,
      "id": "fb046e1a-d011-4162-b79b-af82a25443b7",
      "metadata": {
        "id": "fb046e1a-d011-4162-b79b-af82a25443b7",
        "outputId": "e4c273d0-795f-4397-e5a0-9a107852a123"
      },
      "outputs": [
        {
          "name": "stdout",
          "output_type": "stream",
          "text": [
            "it's 'kind of'\\ sunny\n"
          ]
        }
      ],
      "source": [
        "print(\"it\\'s \\'kind of'\\ sunny\")"
      ]
    },
    {
      "cell_type": "code",
      "execution_count": null,
      "id": "28d83705-a9fe-4b2b-a907-34b085bc7dc7",
      "metadata": {
        "id": "28d83705-a9fe-4b2b-a907-34b085bc7dc7",
        "outputId": "a1f2c6b9-300e-452a-d92b-dddc8745c850"
      },
      "outputs": [
        {
          "name": "stdout",
          "output_type": "stream",
          "text": [
            "deneme \n",
            " deneme\n"
          ]
        }
      ],
      "source": [
        "print(\"deneme \\n deneme\") # \\n ile bir alt satıra geç"
      ]
    },
    {
      "cell_type": "code",
      "execution_count": null,
      "id": "4c794b62-01dc-490b-9dca-4dceff6ea600",
      "metadata": {
        "id": "4c794b62-01dc-490b-9dca-4dceff6ea600",
        "outputId": "4791c84c-cb3b-4c05-bf4a-2c3c853032e4"
      },
      "outputs": [
        {
          "name": "stdout",
          "output_type": "stream",
          "text": [
            "deneme \t deneme\n"
          ]
        }
      ],
      "source": [
        "print(\"deneme \\t deneme\") # \\t ile bir karakter boşluk"
      ]
    },
    {
      "cell_type": "markdown",
      "id": "1bc84428-8409-4f4d-8251-e40826928220",
      "metadata": {
        "id": "1bc84428-8409-4f4d-8251-e40826928220"
      },
      "source": [
        "### Biçimlendirilmiş Metinler"
      ]
    },
    {
      "cell_type": "code",
      "execution_count": null,
      "id": "4cefe4bb-6d0f-4463-9b96-1af78da7b229",
      "metadata": {
        "id": "4cefe4bb-6d0f-4463-9b96-1af78da7b229",
        "outputId": "bf439bd0-8907-4dee-a762-bb64bfbd843b"
      },
      "outputs": [
        {
          "name": "stdout",
          "output_type": "stream",
          "text": [
            "merhabamuhammedsen33yaşındasın\n",
            "merhaba muhammedsen33yaşındasın\n"
          ]
        }
      ],
      "source": [
        "name = \"muhammed\"\n",
        "age = 33\n",
        "print (\"merhaba\" + name + \"sen\" + str(age) +\"yaşındasın\")\n",
        "print(f\"merhaba {name}sen{age}yaşındasın\")"
      ]
    },
    {
      "cell_type": "markdown",
      "id": "10c2c1fb-1bf5-41e5-bc00-bcb924fe9a42",
      "metadata": {
        "id": "10c2c1fb-1bf5-41e5-bc00-bcb924fe9a42"
      },
      "source": [
        "Baştaki f harfi ile çıktının bir metin olacağı ve değişkenleri metin içinde kullanabileceğimizi gösterir."
      ]
    },
    {
      "cell_type": "code",
      "execution_count": null,
      "id": "c435b6fa-1f04-41f5-a8b3-d51efae9e127",
      "metadata": {
        "id": "c435b6fa-1f04-41f5-a8b3-d51efae9e127",
        "outputId": "22d489d3-a894-4358-dbb4-f0533f3de6c6"
      },
      "outputs": [
        {
          "name": "stdout",
          "output_type": "stream",
          "text": [
            "merhaba muhammed sen 32 yaşındasın\n"
          ]
        }
      ],
      "source": [
        "print((\"merhaba {} sen {} yaşındasın\").format('muhammed','32'))"
      ]
    },
    {
      "cell_type": "code",
      "execution_count": null,
      "id": "e0cbb3c4-1853-4df5-baeb-e1de307afe3b",
      "metadata": {
        "id": "e0cbb3c4-1853-4df5-baeb-e1de307afe3b",
        "outputId": "a7175cd7-414f-4355-9d6b-5b74cd209b89"
      },
      "outputs": [
        {
          "name": "stdout",
          "output_type": "stream",
          "text": [
            "merhaba muhammed sen 33 yaşındasın\n"
          ]
        }
      ],
      "source": [
        "print((\"merhaba {} sen {} yaşındasın\").format(name, age))"
      ]
    },
    {
      "cell_type": "code",
      "execution_count": null,
      "id": "f5c7d1c3-f8f0-463e-8630-030c9fae9af7",
      "metadata": {
        "id": "f5c7d1c3-f8f0-463e-8630-030c9fae9af7",
        "outputId": "e662a442-121e-4dd0-b35e-d6681b3648b4"
      },
      "outputs": [
        {
          "name": "stdout",
          "output_type": "stream",
          "text": [
            "merhaba 33 sen muhammed yaşındasın\n"
          ]
        }
      ],
      "source": [
        "print((\"merhaba {1} sen {0} yaşındasın\").format(name, age))"
      ]
    },
    {
      "cell_type": "markdown",
      "id": "108cdc72-c9c2-4812-bef4-7bbc34e9c960",
      "metadata": {
        "id": "108cdc72-c9c2-4812-bef4-7bbc34e9c960"
      },
      "source": [
        "### Metinsel İfadelerde Index"
      ]
    },
    {
      "cell_type": "code",
      "execution_count": null,
      "id": "5d0dcee7-bd0e-4aac-9765-368ca59926dc",
      "metadata": {
        "id": "5d0dcee7-bd0e-4aac-9765-368ca59926dc",
        "outputId": "b15f5b02-9eda-4e5b-e312-4dd97905e6ed"
      },
      "outputs": [
        {
          "name": "stdout",
          "output_type": "stream",
          "text": [
            "d\n"
          ]
        }
      ],
      "source": [
        "deneme = \"denemebudur\"\n",
        "print(deneme[0])"
      ]
    },
    {
      "cell_type": "code",
      "execution_count": null,
      "id": "7012df34-efde-4bb3-8a03-26f395a98399",
      "metadata": {
        "id": "7012df34-efde-4bb3-8a03-26f395a98399"
      },
      "outputs": [],
      "source": [
        "rakam = \"01234567\""
      ]
    },
    {
      "cell_type": "code",
      "execution_count": null,
      "id": "c636c0ee-dc63-4227-a1fb-d36fff431000",
      "metadata": {
        "id": "c636c0ee-dc63-4227-a1fb-d36fff431000",
        "outputId": "d5c21620-3341-4342-c363-2881f62ee192"
      },
      "outputs": [
        {
          "name": "stdout",
          "output_type": "stream",
          "text": [
            "01\n"
          ]
        }
      ],
      "source": [
        "print(rakam[0:2])"
      ]
    },
    {
      "cell_type": "code",
      "execution_count": null,
      "id": "a622a68b-934e-4a2e-be12-4b3d65a4eb06",
      "metadata": {
        "id": "a622a68b-934e-4a2e-be12-4b3d65a4eb06",
        "outputId": "61f940c4-2197-4038-b922-f48666a43479"
      },
      "outputs": [
        {
          "name": "stdout",
          "output_type": "stream",
          "text": [
            "012\n"
          ]
        }
      ],
      "source": [
        "print(rakam[0:3])"
      ]
    },
    {
      "cell_type": "code",
      "execution_count": null,
      "id": "80298ebb-70c2-4082-aa01-0183647a13bc",
      "metadata": {
        "id": "80298ebb-70c2-4082-aa01-0183647a13bc",
        "outputId": "10fcd0d2-dc70-46e3-b111-87e86e69d1f9"
      },
      "outputs": [
        {
          "name": "stdout",
          "output_type": "stream",
          "text": [
            "2\n"
          ]
        }
      ],
      "source": [
        "print(rakam[2:3])"
      ]
    },
    {
      "cell_type": "code",
      "execution_count": null,
      "id": "a61b67b9-4079-48be-8cf6-0de601763f8c",
      "metadata": {
        "id": "a61b67b9-4079-48be-8cf6-0de601763f8c",
        "outputId": "7d3a91a4-2900-4dda-9e12-a940b16c8002"
      },
      "outputs": [
        {
          "name": "stdout",
          "output_type": "stream",
          "text": [
            "012\n"
          ]
        }
      ],
      "source": [
        "print(rakam[:3])"
      ]
    },
    {
      "cell_type": "code",
      "execution_count": null,
      "id": "64944d5c-6819-4382-a3e7-14dcfaab526e",
      "metadata": {
        "id": "64944d5c-6819-4382-a3e7-14dcfaab526e",
        "outputId": "ccf80121-69b6-4854-b8d9-4bb0c0ca83b0"
      },
      "outputs": [
        {
          "name": "stdout",
          "output_type": "stream",
          "text": [
            "34567\n"
          ]
        }
      ],
      "source": [
        "print(rakam[3:])"
      ]
    },
    {
      "cell_type": "code",
      "execution_count": null,
      "id": "6543da18-4077-441b-b236-6e2fe13dcd27",
      "metadata": {
        "id": "6543da18-4077-441b-b236-6e2fe13dcd27",
        "outputId": "efa8010d-a0b9-4558-af59-d50035a31501"
      },
      "outputs": [
        {
          "name": "stdout",
          "output_type": "stream",
          "text": [
            "01234\n"
          ]
        }
      ],
      "source": [
        "print(rakam[:-3])"
      ]
    },
    {
      "cell_type": "code",
      "execution_count": null,
      "id": "0d8007dc-4c80-485c-bfee-3a1d92ee0df0",
      "metadata": {
        "id": "0d8007dc-4c80-485c-bfee-3a1d92ee0df0",
        "outputId": "6e1d3a56-4558-4f94-9eb7-24da14b32556"
      },
      "outputs": [
        {
          "name": "stdout",
          "output_type": "stream",
          "text": [
            "567\n"
          ]
        }
      ],
      "source": [
        "print(rakam[-3:])"
      ]
    },
    {
      "cell_type": "code",
      "execution_count": null,
      "id": "259f95da-b7a0-4d5e-a95f-fdc75cc9611d",
      "metadata": {
        "id": "259f95da-b7a0-4d5e-a95f-fdc75cc9611d",
        "outputId": "afed3027-be55-4d7e-adf8-8835312e683a"
      },
      "outputs": [
        {
          "name": "stdout",
          "output_type": "stream",
          "text": [
            "7\n"
          ]
        }
      ],
      "source": [
        "print(rakam[-1]) # index sonundan saymaya başlar"
      ]
    },
    {
      "cell_type": "code",
      "execution_count": null,
      "id": "ef1b1bc6-faa1-4504-b51d-a18c164d2df3",
      "metadata": {
        "id": "ef1b1bc6-faa1-4504-b51d-a18c164d2df3",
        "outputId": "e30ba942-d0b4-4f4b-d757-e3362e981cf0"
      },
      "outputs": [
        {
          "name": "stdout",
          "output_type": "stream",
          "text": [
            "0\n"
          ]
        }
      ],
      "source": [
        "print(rakam[0:3:5])"
      ]
    },
    {
      "cell_type": "code",
      "execution_count": null,
      "id": "2596b65b-eb83-4559-a71f-c0732d8aae1e",
      "metadata": {
        "id": "2596b65b-eb83-4559-a71f-c0732d8aae1e",
        "outputId": "9fb5d2f1-0a7c-45f3-f721-6b2577137306"
      },
      "outputs": [
        {
          "name": "stdout",
          "output_type": "stream",
          "text": [
            "0246\n"
          ]
        }
      ],
      "source": [
        "print(rakam[0:8:2])"
      ]
    },
    {
      "cell_type": "code",
      "execution_count": null,
      "id": "9557576b-4bee-4568-a8a8-32397232d6ef",
      "metadata": {
        "id": "9557576b-4bee-4568-a8a8-32397232d6ef",
        "outputId": "6cf38e88-5e57-4119-f26d-0287b615b26e"
      },
      "outputs": [
        {
          "name": "stdout",
          "output_type": "stream",
          "text": [
            "01234567\n"
          ]
        }
      ],
      "source": [
        "print(rakam[::])"
      ]
    },
    {
      "cell_type": "code",
      "execution_count": null,
      "id": "b820caa1-77a7-4f57-81fa-d5eba5e98a5a",
      "metadata": {
        "id": "b820caa1-77a7-4f57-81fa-d5eba5e98a5a",
        "outputId": "df3c43de-c404-4f98-98a3-6ac9b5dabc29"
      },
      "outputs": [
        {
          "name": "stdout",
          "output_type": "stream",
          "text": [
            "76543210\n"
          ]
        }
      ],
      "source": [
        "print(rakam[::-1])"
      ]
    },
    {
      "cell_type": "markdown",
      "id": "4a6f8ef9-28d6-45a1-928b-4545f60060ce",
      "metadata": {
        "id": "4a6f8ef9-28d6-45a1-928b-4545f60060ce"
      },
      "source": [
        "### Değişmezlik"
      ]
    },
    {
      "cell_type": "code",
      "execution_count": null,
      "id": "c8c03903-6fa4-45d1-ba6e-d963c042ff0d",
      "metadata": {
        "id": "c8c03903-6fa4-45d1-ba6e-d963c042ff0d",
        "outputId": "4acd484d-fe11-4556-ff2e-2935bfd448a4"
      },
      "outputs": [
        {
          "ename": "TypeError",
          "evalue": "'str' object does not support item assignment",
          "output_type": "error",
          "traceback": [
            "\u001b[0;31m---------------------------------------------------------------------------\u001b[0m",
            "\u001b[0;31mTypeError\u001b[0m                                 Traceback (most recent call last)",
            "Cell \u001b[0;32mIn[69], line 1\u001b[0m\n\u001b[0;32m----> 1\u001b[0m rakam[\u001b[38;5;241m0\u001b[39m] \u001b[38;5;241m=\u001b[39m \u001b[38;5;241m8\u001b[39m\n",
            "\u001b[0;31mTypeError\u001b[0m: 'str' object does not support item assignment"
          ]
        }
      ],
      "source": [
        "rakam[0] = 8 # bunu yaparsan hata alırsın.\n",
        "# Metinin bir parçasını değiştiremezsin, ancak kendisini değiştirebilirsin."
      ]
    },
    {
      "cell_type": "markdown",
      "id": "3ea1112e-1498-4ee4-a1b6-7d6cd4a009ad",
      "metadata": {
        "id": "3ea1112e-1498-4ee4-a1b6-7d6cd4a009ad"
      },
      "source": [
        "### Buılt in Function + Metodlar"
      ]
    },
    {
      "cell_type": "code",
      "execution_count": null,
      "id": "c9df40fb-cf76-4379-8e41-3be9938a7562",
      "metadata": {
        "id": "c9df40fb-cf76-4379-8e41-3be9938a7562",
        "outputId": "4c613a53-555e-4aeb-ff99-bdb0f05559ca"
      },
      "outputs": [
        {
          "name": "stdout",
          "output_type": "stream",
          "text": [
            "4\n"
          ]
        }
      ],
      "source": [
        "print(len('1223')) # karakter uzunluğunu hesaplar."
      ]
    },
    {
      "cell_type": "code",
      "execution_count": null,
      "id": "e6457b42-d0a9-4fa5-897b-6707120261cc",
      "metadata": {
        "id": "e6457b42-d0a9-4fa5-897b-6707120261cc"
      },
      "outputs": [],
      "source": [
        "selamlama = 'Merhaba'"
      ]
    },
    {
      "cell_type": "code",
      "execution_count": null,
      "id": "2b2401f6-f07e-4e91-ba5c-b5f1951df9a9",
      "metadata": {
        "id": "2b2401f6-f07e-4e91-ba5c-b5f1951df9a9",
        "outputId": "410e4093-023b-4de5-bf42-2574e8bf19c0"
      },
      "outputs": [
        {
          "name": "stdout",
          "output_type": "stream",
          "text": [
            "Merhaba\n"
          ]
        }
      ],
      "source": [
        "print(selamlama[:])"
      ]
    },
    {
      "cell_type": "code",
      "execution_count": null,
      "id": "0a520799-a5dd-41c2-97c6-a495e4706626",
      "metadata": {
        "id": "0a520799-a5dd-41c2-97c6-a495e4706626",
        "outputId": "e18687cf-9450-4cf1-dee3-e6c2030d26af"
      },
      "outputs": [
        {
          "name": "stdout",
          "output_type": "stream",
          "text": [
            "Merhaba\n"
          ]
        }
      ],
      "source": [
        "print(selamlama[0:len(selamlama)])"
      ]
    },
    {
      "cell_type": "markdown",
      "id": "c046f12a-4d6e-40bd-b32c-27a15828b76a",
      "metadata": {
        "id": "c046f12a-4d6e-40bd-b32c-27a15828b76a"
      },
      "source": [
        "### Python String Metodlar"
      ]
    },
    {
      "cell_type": "code",
      "execution_count": null,
      "id": "94ac695b-9403-43d7-9175-022106a69a00",
      "metadata": {
        "id": "94ac695b-9403-43d7-9175-022106a69a00"
      },
      "outputs": [],
      "source": [
        "selamlama = 'merhabalar, nasılsınız?'"
      ]
    },
    {
      "cell_type": "code",
      "execution_count": null,
      "id": "0d67a133-cfbd-4fe9-b690-797951935abe",
      "metadata": {
        "id": "0d67a133-cfbd-4fe9-b690-797951935abe",
        "outputId": "96666129-9730-4805-e798-7422c910a8e1"
      },
      "outputs": [
        {
          "name": "stdout",
          "output_type": "stream",
          "text": [
            "MERHABALAR, NASILSINIZ?\n"
          ]
        }
      ],
      "source": [
        "print(selamlama.upper())"
      ]
    },
    {
      "cell_type": "code",
      "execution_count": null,
      "id": "078bd1a9-9968-433e-a112-c60ac096dd83",
      "metadata": {
        "id": "078bd1a9-9968-433e-a112-c60ac096dd83",
        "outputId": "14ce651a-9711-49f2-a95f-346ad2950d66"
      },
      "outputs": [
        {
          "name": "stdout",
          "output_type": "stream",
          "text": [
            "Merhabalar, nasılsınız?\n"
          ]
        }
      ],
      "source": [
        "print(selamlama.capitalize())"
      ]
    },
    {
      "cell_type": "code",
      "execution_count": null,
      "id": "64a2fbab-c216-403a-8e9e-1e977b518805",
      "metadata": {
        "id": "64a2fbab-c216-403a-8e9e-1e977b518805",
        "outputId": "d4ffaaf1-7d21-4c64-a172-aad7e8277f1b"
      },
      "outputs": [
        {
          "name": "stdout",
          "output_type": "stream",
          "text": [
            "12\n"
          ]
        }
      ],
      "source": [
        "print (selamlama.find(\"nasıl\")) #on ikinci sırada başlar"
      ]
    },
    {
      "cell_type": "code",
      "execution_count": null,
      "id": "44eb8878-31a6-4884-b7b2-fbaeac09581a",
      "metadata": {
        "id": "44eb8878-31a6-4884-b7b2-fbaeac09581a",
        "outputId": "2a31bc46-7bd8-4ea2-db34-54686053a64a"
      },
      "outputs": [
        {
          "name": "stdout",
          "output_type": "stream",
          "text": [
            "larhabalar, nasılsınız?\n"
          ]
        }
      ],
      "source": [
        "print(selamlama.replace(\"mer\",\"lar\"))"
      ]
    },
    {
      "cell_type": "code",
      "execution_count": null,
      "id": "a3e17645-31da-48f3-b850-f6a744275a7b",
      "metadata": {
        "id": "a3e17645-31da-48f3-b850-f6a744275a7b",
        "outputId": "8afb4f23-29a8-4284-fa87-08bef6eed3bb"
      },
      "outputs": [
        {
          "name": "stdout",
          "output_type": "stream",
          "text": [
            "merhabalar, nasılsınız?\n"
          ]
        }
      ],
      "source": [
        "print(selamlama) # çıktı aynı çünkü metinsel ifade değişmez"
      ]
    },
    {
      "cell_type": "markdown",
      "id": "12b77017-a1a0-445b-9587-6269d9e0c7fb",
      "metadata": {
        "id": "12b77017-a1a0-445b-9587-6269d9e0c7fb"
      },
      "source": [
        "### Booleans\n",
        "\n",
        "True ya da false çıktısı döndürür."
      ]
    },
    {
      "cell_type": "code",
      "execution_count": null,
      "id": "69353f01-b2eb-4b6f-abae-c635de5d070c",
      "metadata": {
        "id": "69353f01-b2eb-4b6f-abae-c635de5d070c",
        "outputId": "f5bae416-c00d-4cc5-c4db-b1f56e001f6e"
      },
      "outputs": [
        {
          "name": "stdout",
          "output_type": "stream",
          "text": [
            "True\n"
          ]
        }
      ],
      "source": [
        "print(bool(1))"
      ]
    },
    {
      "cell_type": "markdown",
      "id": "d78da8ed-6877-43d0-8d8a-6b66c8de7854",
      "metadata": {
        "id": "d78da8ed-6877-43d0-8d8a-6b66c8de7854"
      },
      "source": [
        "### Örnek: Tür değiştirme"
      ]
    },
    {
      "cell_type": "code",
      "execution_count": null,
      "id": "7b4904aa-448e-44a7-920e-d1651f500dae",
      "metadata": {
        "id": "7b4904aa-448e-44a7-920e-d1651f500dae"
      },
      "outputs": [],
      "source": [
        "dogum_yılı = input(\"ne zaman doğdun?\")\n",
        "age = 2024 - int(dogum_yılı)\n",
        "print (f'yaşınız {age}')"
      ]
    },
    {
      "cell_type": "markdown",
      "id": "633a12be-2f44-44c5-bcce-b73af0c9fa6e",
      "metadata": {
        "id": "633a12be-2f44-44c5-bcce-b73af0c9fa6e"
      },
      "source": [
        "Doğum yılı metin türünden giriliyor, bunu int yaparak sayıya dönüştürürsün ve hesaplama yapabilirsin.\n",
        "Int yerine float yazarsan .0'lı bir yaş çıktısı alırsın (float)."
      ]
    },
    {
      "cell_type": "markdown",
      "id": "bddb040b-4535-4ece-a001-aebdd0d7902d",
      "metadata": {
        "id": "bddb040b-4535-4ece-a001-aebdd0d7902d"
      },
      "source": [
        "### Örnek: Parola kontrolü"
      ]
    },
    {
      "cell_type": "code",
      "execution_count": null,
      "id": "d4e4e2fd-c880-48c5-94a0-8b7f432ef260",
      "metadata": {
        "colab": {
          "base_uri": "https://localhost:8080/"
        },
        "id": "d4e4e2fd-c880-48c5-94a0-8b7f432ef260",
        "outputId": "2c90a9ce-d1e0-4b00-d2c6-dc421e7c8b00"
      },
      "outputs": [
        {
          "output_type": "stream",
          "name": "stdout",
          "text": [
            "**********\n"
          ]
        }
      ],
      "source": [
        "print('*'*10)"
      ]
    },
    {
      "cell_type": "code",
      "execution_count": 12,
      "id": "96562714-d6e8-4767-b231-6a401580c502",
      "metadata": {
        "id": "96562714-d6e8-4767-b231-6a401580c502",
        "colab": {
          "base_uri": "https://localhost:8080/"
        },
        "outputId": "840e750f-d1a2-455d-bd0a-25be01f86fa0"
      },
      "outputs": [
        {
          "output_type": "stream",
          "name": "stdout",
          "text": [
            "isminiz nedir?Muhammed\n",
            "sifren nedir33\n",
            "Muhammed, sifreniz, 33, 2 uzunluğunda\n"
          ]
        }
      ],
      "source": [
        "isim = input('isminiz nedir?')\n",
        "sifre = input ('sifren nedir')\n",
        "print (f'{isim}, sifreniz, {sifre}, {len(sifre)} uzunluğunda')"
      ]
    },
    {
      "cell_type": "code",
      "source": [
        "isim = input('İsminiz nedir? ')\n",
        "sifre = input('Şifreniz nedir? ')\n",
        "sifre_uzunlugu = len(sifre)\n",
        "gizlenmis_sifre = '*' * sifre_uzunlugu\n",
        "print(f'{isim}, şifreniz {gizlenmis_sifre}, {sifre_uzunlugu} karakter uzunluğunda')"
      ],
      "metadata": {
        "colab": {
          "base_uri": "https://localhost:8080/"
        },
        "id": "q4rr_2xc_H3L",
        "outputId": "668631ef-ebf8-446c-d7c0-b32189c8e5bb"
      },
      "id": "q4rr_2xc_H3L",
      "execution_count": null,
      "outputs": [
        {
          "output_type": "stream",
          "name": "stdout",
          "text": [
            "İsminiz nedir? Muhammed\n",
            "Şifreniz nedir? 123445\n",
            "Muhammed, şifreniz ******, 6 karakter uzunluğunda\n"
          ]
        }
      ]
    },
    {
      "cell_type": "markdown",
      "id": "b342160c-342d-490d-bb78-e4f80db5e4e9",
      "metadata": {
        "id": "b342160c-342d-490d-bb78-e4f80db5e4e9"
      },
      "source": [
        "## Önemli Veri Türleri"
      ]
    },
    {
      "cell_type": "markdown",
      "id": "e4bb3260-ba66-477d-9318-4faf9283601a",
      "metadata": {
        "id": "e4bb3260-ba66-477d-9318-4faf9283601a"
      },
      "source": [
        "# Listeler"
      ]
    },
    {
      "cell_type": "code",
      "execution_count": null,
      "id": "9ae41703-68ba-437c-884f-bc43a43f363f",
      "metadata": {
        "id": "9ae41703-68ba-437c-884f-bc43a43f363f"
      },
      "outputs": [],
      "source": [
        "liste = [1,2,3,4]\n",
        "#veya\n",
        "liste2 = ['a',2,True]"
      ]
    },
    {
      "cell_type": "code",
      "execution_count": null,
      "id": "13b1d380-45ba-4958-9553-f73f7bc04edc",
      "metadata": {
        "colab": {
          "base_uri": "https://localhost:8080/"
        },
        "id": "13b1d380-45ba-4958-9553-f73f7bc04edc",
        "outputId": "cfacbea3-ae35-43fc-9d41-0f5b6073091c"
      },
      "outputs": [
        {
          "output_type": "stream",
          "name": "stdout",
          "text": [
            "bilgisayar\n"
          ]
        }
      ],
      "source": [
        "alısveris = [\"bilgisayar\",\"güneş gözlüğü\"]\n",
        "print(alısveris[0]) # 2 dersen hata alırsın."
      ]
    },
    {
      "cell_type": "markdown",
      "source": [
        "# Liste Dilimi (List Slicing)"
      ],
      "metadata": {
        "id": "7tfcY3PwEWpL"
      },
      "id": "7tfcY3PwEWpL"
    },
    {
      "cell_type": "code",
      "execution_count": null,
      "id": "1ce4d3c2-52fc-4c19-bff0-f0266626a41e",
      "metadata": {
        "id": "1ce4d3c2-52fc-4c19-bff0-f0266626a41e"
      },
      "outputs": [],
      "source": [
        "amazon_card = [\n",
        "    'bilgisayar',\n",
        "    'gözlük',\n",
        "    'oyuncak',\n",
        "    'kalem'\n",
        "]"
      ]
    },
    {
      "cell_type": "code",
      "execution_count": null,
      "id": "07f060e0-8827-4733-83ac-a02dea1dfaf1",
      "metadata": {
        "id": "07f060e0-8827-4733-83ac-a02dea1dfaf1",
        "colab": {
          "base_uri": "https://localhost:8080/"
        },
        "outputId": "f0028185-70be-486d-e037-74d250e1779d"
      },
      "outputs": [
        {
          "output_type": "stream",
          "name": "stdout",
          "text": [
            "['bilgisayar', 'gözlük']\n"
          ]
        }
      ],
      "source": [
        "print(amazon_card[0:2])"
      ]
    },
    {
      "cell_type": "code",
      "source": [
        "print(amazon_card[0::2])"
      ],
      "metadata": {
        "id": "m-u0C0zIExPl",
        "colab": {
          "base_uri": "https://localhost:8080/"
        },
        "outputId": "3f1c4d25-20d7-4f28-a3b1-20cc88c7e2a9"
      },
      "id": "m-u0C0zIExPl",
      "execution_count": null,
      "outputs": [
        {
          "output_type": "stream",
          "name": "stdout",
          "text": [
            "['bilgisayar', 'oyuncak']\n"
          ]
        }
      ]
    },
    {
      "cell_type": "code",
      "source": [
        "amazon_card[0]='tablet'\n",
        "print(amazon_card)"
      ],
      "metadata": {
        "id": "WntBCFcdE05q",
        "colab": {
          "base_uri": "https://localhost:8080/"
        },
        "outputId": "8f83a819-ccf4-4f62-91f4-b4150b582114"
      },
      "id": "WntBCFcdE05q",
      "execution_count": null,
      "outputs": [
        {
          "output_type": "stream",
          "name": "stdout",
          "text": [
            "['tablet', 'gözlük', 'oyuncak', 'kalem']\n"
          ]
        }
      ]
    },
    {
      "cell_type": "code",
      "source": [
        "amazon_card[0]=\"telefon\"\n",
        "new_card = amazon_card\n",
        "new_card[0]=\"samsung\"\n",
        "print(amazon_card)\n",
        "print(new_card)"
      ],
      "metadata": {
        "id": "xio--3lME-S-",
        "colab": {
          "base_uri": "https://localhost:8080/"
        },
        "outputId": "f886351a-b288-4b42-cfa0-f6a51fc4080f"
      },
      "id": "xio--3lME-S-",
      "execution_count": null,
      "outputs": [
        {
          "output_type": "stream",
          "name": "stdout",
          "text": [
            "['samsung', 'gözlük', 'oyuncak', 'kalem']\n",
            "['samsung', 'gözlük', 'oyuncak', 'kalem']\n"
          ]
        }
      ]
    },
    {
      "cell_type": "code",
      "source": [
        "new_card = amazon_card[:]\n",
        "new_card"
      ],
      "metadata": {
        "id": "BghxgphHFT10",
        "colab": {
          "base_uri": "https://localhost:8080/"
        },
        "outputId": "81dc5309-1565-4175-d25a-15c644f6e837"
      },
      "id": "BghxgphHFT10",
      "execution_count": null,
      "outputs": [
        {
          "output_type": "execute_result",
          "data": {
            "text/plain": [
              "['samsung', 'gözlük', 'oyuncak', 'kalem']"
            ]
          },
          "metadata": {},
          "execution_count": 6
        }
      ]
    },
    {
      "cell_type": "markdown",
      "source": [
        "# Matrisler"
      ],
      "metadata": {
        "id": "zoqkdBIFHayI"
      },
      "id": "zoqkdBIFHayI"
    },
    {
      "cell_type": "code",
      "source": [
        "matris = [\n",
        "    [1,2,3],\n",
        "    [4,5,6],\n",
        "    [7,8,9]\n",
        "]"
      ],
      "metadata": {
        "id": "xEX90KEaFYf1"
      },
      "id": "xEX90KEaFYf1",
      "execution_count": null,
      "outputs": []
    },
    {
      "cell_type": "code",
      "source": [
        "print(matris[0][1])"
      ],
      "metadata": {
        "colab": {
          "base_uri": "https://localhost:8080/"
        },
        "id": "Sqt_Jq9PHjmv",
        "outputId": "66548455-ef2e-4d90-cb87-226ae574449a"
      },
      "id": "Sqt_Jq9PHjmv",
      "execution_count": null,
      "outputs": [
        {
          "output_type": "stream",
          "name": "stdout",
          "text": [
            "2\n"
          ]
        }
      ]
    },
    {
      "cell_type": "code",
      "source": [
        "print(matris[2])"
      ],
      "metadata": {
        "colab": {
          "base_uri": "https://localhost:8080/"
        },
        "id": "79-Fn_8vHuxa",
        "outputId": "e557b64a-24fd-40dd-bd7d-9d3c89c351f4"
      },
      "id": "79-Fn_8vHuxa",
      "execution_count": null,
      "outputs": [
        {
          "output_type": "stream",
          "name": "stdout",
          "text": [
            "[7, 8, 9]\n"
          ]
        }
      ]
    },
    {
      "cell_type": "markdown",
      "source": [
        "# Liste Metodu"
      ],
      "metadata": {
        "id": "BSCqB2V3IFfh"
      },
      "id": "BSCqB2V3IFfh"
    },
    {
      "cell_type": "code",
      "source": [
        "sepet = [1,2,3,4,5]"
      ],
      "metadata": {
        "id": "S1vPlWBgIBbz"
      },
      "id": "S1vPlWBgIBbz",
      "execution_count": null,
      "outputs": []
    },
    {
      "cell_type": "code",
      "source": [
        "print(len(sepet))"
      ],
      "metadata": {
        "colab": {
          "base_uri": "https://localhost:8080/"
        },
        "id": "zVAEhd88Ixxp",
        "outputId": "09a69349-e0be-4b32-fdfb-b7be7d65bea2"
      },
      "id": "zVAEhd88Ixxp",
      "execution_count": null,
      "outputs": [
        {
          "output_type": "stream",
          "name": "stdout",
          "text": [
            "5\n"
          ]
        }
      ]
    },
    {
      "cell_type": "code",
      "source": [
        "yeni_sepet = sepet.append(100)\n",
        "print(sepet)\n",
        "print(yeni_sepet)"
      ],
      "metadata": {
        "colab": {
          "base_uri": "https://localhost:8080/"
        },
        "id": "ZfdE3ShYI0jP",
        "outputId": "51008912-3196-4192-b3ff-f500200545d1"
      },
      "id": "ZfdE3ShYI0jP",
      "execution_count": null,
      "outputs": [
        {
          "output_type": "stream",
          "name": "stdout",
          "text": [
            "[1, 2, 3, 4, 5, 100]\n",
            "None\n"
          ]
        }
      ]
    },
    {
      "cell_type": "markdown",
      "source": [
        "Sepete 100 ekledik ama atadığımızda yeni bir liste eklendi.\n",
        "Bu yeni liste tamamen sıfırdır ve bunun nedeni append’in listeyi yerinde değiştirmesidir.\n",
        "Append yaptığında ana listede bir değer üretmez yeni bir listeye ekler.\n"
      ],
      "metadata": {
        "id": "m_rDPBseJK2C"
      },
      "id": "m_rDPBseJK2C"
    },
    {
      "cell_type": "code",
      "source": [
        "sepet = [1,2,3,4,5]\n",
        "yeni_sepet = sepet.append(100)\n",
        "yeni_sepet = sepet\n",
        "print(sepet)\n",
        "print(yeni_sepet)"
      ],
      "metadata": {
        "colab": {
          "base_uri": "https://localhost:8080/"
        },
        "id": "ZVGiYVlHJBtM",
        "outputId": "0e720254-9072-4ad2-e434-b332e27927f5"
      },
      "id": "ZVGiYVlHJBtM",
      "execution_count": null,
      "outputs": [
        {
          "output_type": "stream",
          "name": "stdout",
          "text": [
            "[1, 2, 3, 4, 5, 100]\n",
            "[1, 2, 3, 4, 5, 100]\n"
          ]
        }
      ]
    },
    {
      "cell_type": "code",
      "source": [
        "sepet.insert(4,100)\n",
        "sepet"
      ],
      "metadata": {
        "colab": {
          "base_uri": "https://localhost:8080/"
        },
        "id": "Y7KvmGw0JcCz",
        "outputId": "022005c4-094c-48dc-a952-a39fb2beaa8b"
      },
      "id": "Y7KvmGw0JcCz",
      "execution_count": null,
      "outputs": [
        {
          "output_type": "execute_result",
          "data": {
            "text/plain": [
              "[1, 2, 3, 4, 100, 5, 100]"
            ]
          },
          "metadata": {},
          "execution_count": 22
        }
      ]
    },
    {
      "cell_type": "code",
      "source": [
        "sepet.insert(5,100)\n",
        "sepet"
      ],
      "metadata": {
        "colab": {
          "base_uri": "https://localhost:8080/"
        },
        "id": "nyuCQu3aJjTd",
        "outputId": "9c47bfba-1442-4bc7-fb81-add98ff5b865"
      },
      "id": "nyuCQu3aJjTd",
      "execution_count": null,
      "outputs": [
        {
          "output_type": "execute_result",
          "data": {
            "text/plain": [
              "[1, 2, 3, 4, 100, 100, 5, 100]"
            ]
          },
          "metadata": {},
          "execution_count": 23
        }
      ]
    },
    {
      "cell_type": "code",
      "source": [
        "sepet = [1,2,3,4,5]\n",
        "yeni_sepet = sepet.insert(5,100)\n",
        "print(sepet)\n",
        "print(yeni_sepet)"
      ],
      "metadata": {
        "colab": {
          "base_uri": "https://localhost:8080/"
        },
        "id": "dhPsiKSxJwmS",
        "outputId": "5b3cdf8d-9bfa-4ee7-8189-1739cd9f86f7"
      },
      "id": "dhPsiKSxJwmS",
      "execution_count": null,
      "outputs": [
        {
          "output_type": "stream",
          "name": "stdout",
          "text": [
            "[1, 2, 3, 4, 5, 100]\n",
            "None\n"
          ]
        }
      ]
    },
    {
      "cell_type": "code",
      "source": [
        "sepet = [1,2,3,4,5]\n",
        "yeni_sepet = sepet.extend([101,150])\n",
        "print(sepet)\n",
        "print(yeni_sepet)"
      ],
      "metadata": {
        "colab": {
          "base_uri": "https://localhost:8080/"
        },
        "id": "tZVB0qFwJ9M3",
        "outputId": "d9792918-2312-41ac-b948-ac89d33ba5cb"
      },
      "id": "tZVB0qFwJ9M3",
      "execution_count": null,
      "outputs": [
        {
          "output_type": "stream",
          "name": "stdout",
          "text": [
            "[1, 2, 3, 4, 5, 101, 150]\n",
            "None\n"
          ]
        }
      ]
    },
    {
      "cell_type": "markdown",
      "source": [
        "# Remove Metodu"
      ],
      "metadata": {
        "id": "7GREA5dPKtYR"
      },
      "id": "7GREA5dPKtYR"
    },
    {
      "cell_type": "code",
      "source": [
        "sepet = [1,2,3,4,5,100]"
      ],
      "metadata": {
        "id": "LV4OExl6KJ_o"
      },
      "id": "LV4OExl6KJ_o",
      "execution_count": null,
      "outputs": []
    },
    {
      "cell_type": "code",
      "source": [
        "sepet.pop()"
      ],
      "metadata": {
        "colab": {
          "base_uri": "https://localhost:8080/"
        },
        "id": "KF4weCtbgxrT",
        "outputId": "dc6b176f-d718-4228-8c90-74547f6814da"
      },
      "id": "KF4weCtbgxrT",
      "execution_count": null,
      "outputs": [
        {
          "output_type": "execute_result",
          "data": {
            "text/plain": [
              "100"
            ]
          },
          "metadata": {},
          "execution_count": 11
        }
      ]
    },
    {
      "cell_type": "code",
      "source": [
        "print(sepet)"
      ],
      "metadata": {
        "colab": {
          "base_uri": "https://localhost:8080/"
        },
        "id": "lTrvVwNVg0Jn",
        "outputId": "6f6e7119-ad1c-48ca-e8d4-095af18ec2d9"
      },
      "id": "lTrvVwNVg0Jn",
      "execution_count": null,
      "outputs": [
        {
          "output_type": "stream",
          "name": "stdout",
          "text": [
            "[1, 2, 3, 4, 5]\n"
          ]
        }
      ]
    },
    {
      "cell_type": "code",
      "source": [
        "sepet.pop(0) #Sıfır indeksini çıkarttık. Kodu her çalıştırdığında baştakini çıkarır.\n",
        "print(sepet)"
      ],
      "metadata": {
        "colab": {
          "base_uri": "https://localhost:8080/"
        },
        "id": "BU0ntnu_g2PF",
        "outputId": "b700f517-eb2e-42a6-d139-e8f4bf2a895f"
      },
      "id": "BU0ntnu_g2PF",
      "execution_count": null,
      "outputs": [
        {
          "output_type": "stream",
          "name": "stdout",
          "text": [
            "[2, 3, 4, 5]\n"
          ]
        }
      ]
    },
    {
      "cell_type": "code",
      "source": [
        "sepet = [1,2,3,4,5,100] #içeride 6 olmadığı için hata verir.\n",
        "sepet.remove(6)"
      ],
      "metadata": {
        "colab": {
          "base_uri": "https://localhost:8080/",
          "height": 156
        },
        "id": "0Xd6JS0Gg6dA",
        "outputId": "815900f5-96f8-42b1-f6d3-3698f8492179"
      },
      "id": "0Xd6JS0Gg6dA",
      "execution_count": null,
      "outputs": [
        {
          "output_type": "error",
          "ename": "ValueError",
          "evalue": "list.remove(x): x not in list",
          "traceback": [
            "\u001b[0;31m---------------------------------------------------------------------------\u001b[0m",
            "\u001b[0;31mValueError\u001b[0m                                Traceback (most recent call last)",
            "\u001b[0;32m<ipython-input-15-6dcc2c1fb008>\u001b[0m in \u001b[0;36m<cell line: 2>\u001b[0;34m()\u001b[0m\n\u001b[1;32m      1\u001b[0m \u001b[0msepet\u001b[0m \u001b[0;34m=\u001b[0m \u001b[0;34m[\u001b[0m\u001b[0;36m1\u001b[0m\u001b[0;34m,\u001b[0m\u001b[0;36m2\u001b[0m\u001b[0;34m,\u001b[0m\u001b[0;36m3\u001b[0m\u001b[0;34m,\u001b[0m\u001b[0;36m4\u001b[0m\u001b[0;34m,\u001b[0m\u001b[0;36m5\u001b[0m\u001b[0;34m,\u001b[0m\u001b[0;36m100\u001b[0m\u001b[0;34m]\u001b[0m \u001b[0;31m#içeride 6 olmadığı için hata verir.\u001b[0m\u001b[0;34m\u001b[0m\u001b[0;34m\u001b[0m\u001b[0m\n\u001b[0;32m----> 2\u001b[0;31m \u001b[0msepet\u001b[0m\u001b[0;34m.\u001b[0m\u001b[0mremove\u001b[0m\u001b[0;34m(\u001b[0m\u001b[0;36m6\u001b[0m\u001b[0;34m)\u001b[0m\u001b[0;34m\u001b[0m\u001b[0;34m\u001b[0m\u001b[0m\n\u001b[0m",
            "\u001b[0;31mValueError\u001b[0m: list.remove(x): x not in list"
          ]
        }
      ]
    },
    {
      "cell_type": "code",
      "source": [
        "sepet = [1,2,3,4,5,100] #içeride 6 olmadığı için hata verir.\n",
        "sepet.remove(100)\n",
        "print(sepet)"
      ],
      "metadata": {
        "colab": {
          "base_uri": "https://localhost:8080/"
        },
        "id": "qx4JX3ZUhUlo",
        "outputId": "e86df824-7dfd-4d73-acc1-4e2f55049a53"
      },
      "id": "qx4JX3ZUhUlo",
      "execution_count": null,
      "outputs": [
        {
          "output_type": "stream",
          "name": "stdout",
          "text": [
            "[1, 2, 3, 4, 5]\n"
          ]
        }
      ]
    },
    {
      "cell_type": "code",
      "source": [
        "sepet = [1,2,3,4,5]\n",
        "sepet.extend([199])\n",
        "yeni_sepet = sepet.clear()\n",
        "print(sepet)\n",
        "print(yeni_sepet)"
      ],
      "metadata": {
        "colab": {
          "base_uri": "https://localhost:8080/"
        },
        "id": "bG22g6YGhbNS",
        "outputId": "3c5b2664-ac9d-40d1-87c3-ac09a82f9ba7"
      },
      "id": "bG22g6YGhbNS",
      "execution_count": null,
      "outputs": [
        {
          "output_type": "stream",
          "name": "stdout",
          "text": [
            "[]\n",
            "None\n"
          ]
        }
      ]
    },
    {
      "cell_type": "code",
      "source": [
        "sepet = [1,2,3,4,5,5,5,5]\n",
        "sepet.count(5)"
      ],
      "metadata": {
        "colab": {
          "base_uri": "https://localhost:8080/"
        },
        "id": "hACzQTgKh1ke",
        "outputId": "15e3c515-4cef-4a9e-820c-8e203be7b3cc"
      },
      "id": "hACzQTgKh1ke",
      "execution_count": null,
      "outputs": [
        {
          "output_type": "execute_result",
          "data": {
            "text/plain": [
              "4"
            ]
          },
          "metadata": {},
          "execution_count": 26
        }
      ]
    },
    {
      "cell_type": "markdown",
      "source": [
        "# Indeksler"
      ],
      "metadata": {
        "id": "aEix7-YcjDhd"
      },
      "id": "aEix7-YcjDhd"
    },
    {
      "cell_type": "code",
      "source": [
        "sepet = [\"a\",\"b\",\"c\",\"d\",\"e\"]"
      ],
      "metadata": {
        "id": "MTUEEb6Iihyc"
      },
      "id": "MTUEEb6Iihyc",
      "execution_count": null,
      "outputs": []
    },
    {
      "cell_type": "code",
      "source": [
        "print(sepet.index(\"c\"))"
      ],
      "metadata": {
        "colab": {
          "base_uri": "https://localhost:8080/"
        },
        "id": "hW_XRtH6jNyi",
        "outputId": "be1974cb-16e9-41f2-e822-fe946d8f4b1f"
      },
      "id": "hW_XRtH6jNyi",
      "execution_count": null,
      "outputs": [
        {
          "output_type": "stream",
          "name": "stdout",
          "text": [
            "2\n"
          ]
        }
      ]
    },
    {
      "cell_type": "code",
      "source": [
        "print(sepet.index(\"1\")) #listede olmadığı için hata verecektir."
      ],
      "metadata": {
        "colab": {
          "base_uri": "https://localhost:8080/",
          "height": 139
        },
        "id": "sSHKZ5B6jQ43",
        "outputId": "c568fd23-6217-4dcd-a351-076f02407b81"
      },
      "id": "sSHKZ5B6jQ43",
      "execution_count": null,
      "outputs": [
        {
          "output_type": "error",
          "ename": "ValueError",
          "evalue": "'1' is not in list",
          "traceback": [
            "\u001b[0;31m---------------------------------------------------------------------------\u001b[0m",
            "\u001b[0;31mValueError\u001b[0m                                Traceback (most recent call last)",
            "\u001b[0;32m<ipython-input-30-2bfaaac12676>\u001b[0m in \u001b[0;36m<cell line: 1>\u001b[0;34m()\u001b[0m\n\u001b[0;32m----> 1\u001b[0;31m \u001b[0mprint\u001b[0m\u001b[0;34m(\u001b[0m\u001b[0msepet\u001b[0m\u001b[0;34m.\u001b[0m\u001b[0mindex\u001b[0m\u001b[0;34m(\u001b[0m\u001b[0;34m\"1\"\u001b[0m\u001b[0;34m)\u001b[0m\u001b[0;34m)\u001b[0m \u001b[0;31m#listede olmadığı için hata verecektir.\u001b[0m\u001b[0;34m\u001b[0m\u001b[0;34m\u001b[0m\u001b[0m\n\u001b[0m",
            "\u001b[0;31mValueError\u001b[0m: '1' is not in list"
          ]
        }
      ]
    },
    {
      "cell_type": "code",
      "source": [
        "print(sepet.index(\"c\",0,3)) # 0,2 --> Nereden bakmaya başlasın ve nerede dursun"
      ],
      "metadata": {
        "colab": {
          "base_uri": "https://localhost:8080/"
        },
        "id": "xV6qQakPjdgY",
        "outputId": "1e07dee7-54df-4ef2-c24c-f769ae08dd08"
      },
      "id": "xV6qQakPjdgY",
      "execution_count": null,
      "outputs": [
        {
          "output_type": "stream",
          "name": "stdout",
          "text": [
            "2\n"
          ]
        }
      ]
    },
    {
      "cell_type": "code",
      "source": [
        "print(sepet.index(\"a\",3,5)) #3-5 arasında a harfi olmayacağından hata verir."
      ],
      "metadata": {
        "colab": {
          "base_uri": "https://localhost:8080/",
          "height": 156
        },
        "id": "Sn7_7miTjw6m",
        "outputId": "8db56888-e19d-46b2-b951-02bdb722a7ad"
      },
      "id": "Sn7_7miTjw6m",
      "execution_count": null,
      "outputs": [
        {
          "output_type": "error",
          "ename": "ValueError",
          "evalue": "'a' is not in list",
          "traceback": [
            "\u001b[0;31m---------------------------------------------------------------------------\u001b[0m",
            "\u001b[0;31mValueError\u001b[0m                                Traceback (most recent call last)",
            "\u001b[0;32m<ipython-input-37-4db13050071e>\u001b[0m in \u001b[0;36m<cell line: 1>\u001b[0;34m()\u001b[0m\n\u001b[0;32m----> 1\u001b[0;31m \u001b[0mprint\u001b[0m\u001b[0;34m(\u001b[0m\u001b[0msepet\u001b[0m\u001b[0;34m.\u001b[0m\u001b[0mindex\u001b[0m\u001b[0;34m(\u001b[0m\u001b[0;34m\"a\"\u001b[0m\u001b[0;34m,\u001b[0m\u001b[0;36m3\u001b[0m\u001b[0;34m,\u001b[0m\u001b[0;36m5\u001b[0m\u001b[0;34m)\u001b[0m\u001b[0;34m)\u001b[0m \u001b[0;31m#3-5 arasında a harfi olmayacağından hata verir.\u001b[0m\u001b[0;34m\u001b[0m\u001b[0;34m\u001b[0m\u001b[0m\n\u001b[0m",
            "\u001b[0;31mValueError\u001b[0m: 'a' is not in list"
          ]
        }
      ]
    },
    {
      "cell_type": "code",
      "source": [
        "print(\"d\" in sepet) # in anahtar kelimedir"
      ],
      "metadata": {
        "colab": {
          "base_uri": "https://localhost:8080/"
        },
        "id": "_6QUm-Ffj8Dg",
        "outputId": "1ea0acda-3ebf-478a-b922-cc424e8fa820"
      },
      "id": "_6QUm-Ffj8Dg",
      "execution_count": null,
      "outputs": [
        {
          "output_type": "stream",
          "name": "stdout",
          "text": [
            "True\n"
          ]
        }
      ]
    },
    {
      "cell_type": "code",
      "source": [
        "print(\"m\" in \"Muhammed\") # kelimede m harfi geçiyorsa True değerini döndürür."
      ],
      "metadata": {
        "colab": {
          "base_uri": "https://localhost:8080/"
        },
        "id": "WqQ5rUeIkVow",
        "outputId": "b83407d9-7b48-441b-afb8-159cd8c81527"
      },
      "id": "WqQ5rUeIkVow",
      "execution_count": null,
      "outputs": [
        {
          "output_type": "stream",
          "name": "stdout",
          "text": [
            "True\n"
          ]
        }
      ]
    },
    {
      "cell_type": "markdown",
      "source": [
        "# Düzenleme (Sort)"
      ],
      "metadata": {
        "id": "9Q4Bur7WkqYX"
      },
      "id": "9Q4Bur7WkqYX"
    },
    {
      "cell_type": "code",
      "source": [
        "sepet = [\"a\",\"b\",\"c\",\"d\",\"e\"]"
      ],
      "metadata": {
        "id": "HYwbuCUxkg-G"
      },
      "id": "HYwbuCUxkg-G",
      "execution_count": null,
      "outputs": []
    },
    {
      "cell_type": "code",
      "source": [
        "print(sepet.sort())"
      ],
      "metadata": {
        "colab": {
          "base_uri": "https://localhost:8080/"
        },
        "id": "qlW6pE5bkvnE",
        "outputId": "5ce59c3d-45f7-4c09-c07b-d87a5507b72a"
      },
      "id": "qlW6pE5bkvnE",
      "execution_count": null,
      "outputs": [
        {
          "output_type": "stream",
          "name": "stdout",
          "text": [
            "None\n"
          ]
        }
      ]
    },
    {
      "cell_type": "code",
      "source": [
        "sepet2 = [\"d\",\"a\",\"e\",\"d\",\"f\"]\n",
        "sepet2.sort()\n",
        "print(sepet2) #a'dan z'ye sıralamak için"
      ],
      "metadata": {
        "colab": {
          "base_uri": "https://localhost:8080/"
        },
        "id": "j_qpLKfckzW9",
        "outputId": "e0f3c06a-c530-4a15-e042-e6a5e6a5707d"
      },
      "id": "j_qpLKfckzW9",
      "execution_count": null,
      "outputs": [
        {
          "output_type": "stream",
          "name": "stdout",
          "text": [
            "['a', 'd', 'd', 'e', 'f']\n"
          ]
        }
      ]
    },
    {
      "cell_type": "code",
      "source": [
        "sepet2 = [\"d\",\"a\",\"e\",\"d\",\"f\"]\n",
        "print(sorted(sepet2)) #sorted fonks. sepeti yerinde değiştirmez, kopyasını oluşturur.\n",
        "print(sepet2)"
      ],
      "metadata": {
        "colab": {
          "base_uri": "https://localhost:8080/"
        },
        "id": "xFJycKDmk75f",
        "outputId": "20ae40b7-a7b9-41c8-84c2-2b5766be8621"
      },
      "id": "xFJycKDmk75f",
      "execution_count": null,
      "outputs": [
        {
          "output_type": "stream",
          "name": "stdout",
          "text": [
            "['a', 'd', 'd', 'e', 'f']\n",
            "['d', 'a', 'e', 'd', 'f']\n"
          ]
        }
      ]
    },
    {
      "cell_type": "code",
      "source": [
        "sepet = [\"d\",\"a\",\"e\",\"d\",\"f\"]\n",
        "yeni_sepet = sepet [:]\n",
        "yeni_sepet.sort()\n",
        "print(sepet)\n",
        "print(yeni_sepet)"
      ],
      "metadata": {
        "colab": {
          "base_uri": "https://localhost:8080/"
        },
        "id": "Jfjguu8TlXly",
        "outputId": "dca1717a-0209-4660-dc0e-ec39c3350bbd"
      },
      "id": "Jfjguu8TlXly",
      "execution_count": null,
      "outputs": [
        {
          "output_type": "stream",
          "name": "stdout",
          "text": [
            "['d', 'a', 'e', 'd', 'f']\n",
            "['a', 'd', 'd', 'e', 'f']\n"
          ]
        }
      ]
    },
    {
      "cell_type": "markdown",
      "source": [
        "Bir eylemi yerinde gerçekleştiren veya başlamak için tamamen yeni bir liste oluşturan belirli eylemlerle dikkat etmek gerekir."
      ],
      "metadata": {
        "id": "DCmFc_5ZmKTu"
      },
      "id": "DCmFc_5ZmKTu"
    },
    {
      "cell_type": "code",
      "source": [
        "sepet = [\"d\",\"a\",\"e\",\"d\",\"f\"]\n",
        "sepet.reverse()\n",
        "print(sepet) # tam tersine döndürür."
      ],
      "metadata": {
        "colab": {
          "base_uri": "https://localhost:8080/"
        },
        "id": "7IuOEfWOmEd2",
        "outputId": "796115a7-3a4c-46f5-d430-dc55e09580b5"
      },
      "id": "7IuOEfWOmEd2",
      "execution_count": null,
      "outputs": [
        {
          "output_type": "stream",
          "name": "stdout",
          "text": [
            "['f', 'd', 'e', 'a', 'd']\n"
          ]
        }
      ]
    },
    {
      "cell_type": "code",
      "source": [
        "sepet # orjinal değişti"
      ],
      "metadata": {
        "colab": {
          "base_uri": "https://localhost:8080/"
        },
        "id": "uAXyBGBZmShl",
        "outputId": "56d80569-cbce-4ba8-bbe6-40cfd680c688"
      },
      "id": "uAXyBGBZmShl",
      "execution_count": null,
      "outputs": [
        {
          "output_type": "execute_result",
          "data": {
            "text/plain": [
              "['f', 'd', 'e', 'a', 'd']"
            ]
          },
          "metadata": {},
          "execution_count": 55
        }
      ]
    },
    {
      "cell_type": "code",
      "source": [
        "sepet = [\"d\",\"a\",\"e\",\"d\",\"f\"]\n",
        "sepet2 = sepet.copy()\n",
        "print(sepet)\n",
        "print(sepet2)"
      ],
      "metadata": {
        "colab": {
          "base_uri": "https://localhost:8080/"
        },
        "id": "8vSrJDGEmW9W",
        "outputId": "f60573ca-e201-41ad-e2ab-356da291583f"
      },
      "id": "8vSrJDGEmW9W",
      "execution_count": null,
      "outputs": [
        {
          "output_type": "stream",
          "name": "stdout",
          "text": [
            "['d', 'a', 'e', 'd', 'f']\n",
            "['d', 'a', 'e', 'd', 'f']\n"
          ]
        }
      ]
    },
    {
      "cell_type": "code",
      "source": [
        "sepet = [\"d\",\"a\",\"e\",\"d\",\"f\"]\n",
        "print(sepet [::-1])"
      ],
      "metadata": {
        "colab": {
          "base_uri": "https://localhost:8080/"
        },
        "id": "OmTWM81gmh3E",
        "outputId": "d5914737-3a77-46fa-fe6b-476ef7a14366"
      },
      "id": "OmTWM81gmh3E",
      "execution_count": null,
      "outputs": [
        {
          "output_type": "stream",
          "name": "stdout",
          "text": [
            "['f', 'd', 'e', 'a', 'd']\n"
          ]
        }
      ]
    },
    {
      "cell_type": "code",
      "source": [
        "print(list(range(1,100))) #1'den başlar"
      ],
      "metadata": {
        "colab": {
          "base_uri": "https://localhost:8080/"
        },
        "id": "4N7Ykn52mrxR",
        "outputId": "4f350bba-7c66-4738-e7b1-b7f070206edb"
      },
      "id": "4N7Ykn52mrxR",
      "execution_count": null,
      "outputs": [
        {
          "output_type": "stream",
          "name": "stdout",
          "text": [
            "[1, 2, 3, 4, 5, 6, 7, 8, 9, 10, 11, 12, 13, 14, 15, 16, 17, 18, 19, 20, 21, 22, 23, 24, 25, 26, 27, 28, 29, 30, 31, 32, 33, 34, 35, 36, 37, 38, 39, 40, 41, 42, 43, 44, 45, 46, 47, 48, 49, 50, 51, 52, 53, 54, 55, 56, 57, 58, 59, 60, 61, 62, 63, 64, 65, 66, 67, 68, 69, 70, 71, 72, 73, 74, 75, 76, 77, 78, 79, 80, 81, 82, 83, 84, 85, 86, 87, 88, 89, 90, 91, 92, 93, 94, 95, 96, 97, 98, 99]\n"
          ]
        }
      ]
    },
    {
      "cell_type": "code",
      "source": [
        "print(list(range(100))) #0'dan başlar"
      ],
      "metadata": {
        "colab": {
          "base_uri": "https://localhost:8080/"
        },
        "id": "njPBP8Ngm5EY",
        "outputId": "293f3726-2c46-48c7-ae45-3e8a2812d498"
      },
      "id": "njPBP8Ngm5EY",
      "execution_count": null,
      "outputs": [
        {
          "output_type": "stream",
          "name": "stdout",
          "text": [
            "[0, 1, 2, 3, 4, 5, 6, 7, 8, 9, 10, 11, 12, 13, 14, 15, 16, 17, 18, 19, 20, 21, 22, 23, 24, 25, 26, 27, 28, 29, 30, 31, 32, 33, 34, 35, 36, 37, 38, 39, 40, 41, 42, 43, 44, 45, 46, 47, 48, 49, 50, 51, 52, 53, 54, 55, 56, 57, 58, 59, 60, 61, 62, 63, 64, 65, 66, 67, 68, 69, 70, 71, 72, 73, 74, 75, 76, 77, 78, 79, 80, 81, 82, 83, 84, 85, 86, 87, 88, 89, 90, 91, 92, 93, 94, 95, 96, 97, 98, 99]\n"
          ]
        }
      ]
    },
    {
      "cell_type": "code",
      "source": [
        "cümle = \"!\"\n",
        "cümle.join([\"merhaba\",\"benim\",\"adım\",\"Muhammed\"])\n",
        "print(cümle)"
      ],
      "metadata": {
        "colab": {
          "base_uri": "https://localhost:8080/"
        },
        "id": "otJHUvXMnCxs",
        "outputId": "293ac0ea-1bd5-456e-bb6e-588eaf5a9a2b"
      },
      "id": "otJHUvXMnCxs",
      "execution_count": null,
      "outputs": [
        {
          "output_type": "stream",
          "name": "stdout",
          "text": [
            "!\n"
          ]
        }
      ]
    },
    {
      "cell_type": "code",
      "source": [
        "cümle = \"!\"\n",
        "yeni_cümle = cümle.join([\"merhaba\",\"benim\",\"adım\",\"Muhammed\"])\n",
        "print(cümle)\n",
        "print(yeni_cümle)"
      ],
      "metadata": {
        "colab": {
          "base_uri": "https://localhost:8080/"
        },
        "id": "h2uD_YSwnTfv",
        "outputId": "b117e7cb-c56a-426a-aab1-832b24109163"
      },
      "id": "h2uD_YSwnTfv",
      "execution_count": null,
      "outputs": [
        {
          "output_type": "stream",
          "name": "stdout",
          "text": [
            "!\n",
            "merhaba!benim!adım!Muhammed\n"
          ]
        }
      ]
    },
    {
      "cell_type": "markdown",
      "source": [
        "Join bu küçük yinelenebilir öğeleri bu listeleri önünde ne varsa onunla birleştirir.\n",
        "Eğer ! yerine boşluk koyarsan kelime aralarında bir boşluk alan oluşur.\n"
      ],
      "metadata": {
        "id": "1RS29Cq3nnNj"
      },
      "id": "1RS29Cq3nnNj"
    },
    {
      "cell_type": "code",
      "source": [
        "yeni_cümle = \" \".join([\"merhaba\",\"benim\",\"adım\",\"Muhammed\"])\n",
        "print(yeni_cümle)"
      ],
      "metadata": {
        "colab": {
          "base_uri": "https://localhost:8080/"
        },
        "id": "L0VWc6-qnjPi",
        "outputId": "3be4c46c-b6c8-4d10-a789-e685fab09d43"
      },
      "id": "L0VWc6-qnjPi",
      "execution_count": null,
      "outputs": [
        {
          "output_type": "stream",
          "name": "stdout",
          "text": [
            "merhaba benim adım Muhammed\n"
          ]
        }
      ]
    },
    {
      "cell_type": "code",
      "source": [
        "a,b,c = 1,2,3\n",
        "print(a)\n",
        "print(b)\n",
        "print(c)"
      ],
      "metadata": {
        "colab": {
          "base_uri": "https://localhost:8080/"
        },
        "id": "1aj2kBORnyUo",
        "outputId": "4f3d7f12-124e-4f1c-ab45-1a015be7d9c6"
      },
      "id": "1aj2kBORnyUo",
      "execution_count": null,
      "outputs": [
        {
          "output_type": "stream",
          "name": "stdout",
          "text": [
            "1\n",
            "2\n",
            "3\n"
          ]
        }
      ]
    },
    {
      "cell_type": "code",
      "source": [
        "a,b,c, *dıgerlerı = [1,2,3,4,5,6,7,8,9]\n",
        "print(a)\n",
        "print(b)\n",
        "print(c)\n",
        "print(dıgerlerı)"
      ],
      "metadata": {
        "colab": {
          "base_uri": "https://localhost:8080/"
        },
        "id": "V1fAPS5Sn9DY",
        "outputId": "8b5679dc-1f71-44e5-f07b-feb43ed012a9"
      },
      "id": "V1fAPS5Sn9DY",
      "execution_count": null,
      "outputs": [
        {
          "output_type": "stream",
          "name": "stdout",
          "text": [
            "1\n",
            "2\n",
            "3\n",
            "[4, 5, 6, 7, 8, 9]\n"
          ]
        }
      ]
    },
    {
      "cell_type": "code",
      "source": [
        "a,b,c, *dıgerlerı, e = [1,2,3,4,5,6,7,8,9]\n",
        "print(a)\n",
        "print(b)\n",
        "print(c)\n",
        "print(dıgerlerı)\n",
        "print (e)"
      ],
      "metadata": {
        "colab": {
          "base_uri": "https://localhost:8080/"
        },
        "id": "VsMTRAS7oLAX",
        "outputId": "d0926daf-cbb4-4df8-d4a8-c071c9e4f3fd"
      },
      "id": "VsMTRAS7oLAX",
      "execution_count": null,
      "outputs": [
        {
          "output_type": "stream",
          "name": "stdout",
          "text": [
            "1\n",
            "2\n",
            "3\n",
            "[4, 5, 6, 7, 8]\n",
            "9\n"
          ]
        }
      ]
    },
    {
      "cell_type": "code",
      "source": [
        "a = None\n",
        "print(a)"
      ],
      "metadata": {
        "colab": {
          "base_uri": "https://localhost:8080/"
        },
        "id": "B0pC1x_4oZqj",
        "outputId": "e1c5728e-b4b3-4254-ca50-31c60ff6abf7"
      },
      "id": "B0pC1x_4oZqj",
      "execution_count": null,
      "outputs": [
        {
          "output_type": "stream",
          "name": "stdout",
          "text": [
            "None\n"
          ]
        }
      ]
    },
    {
      "cell_type": "markdown",
      "source": [
        "# Dictionary (Sözlük)"
      ],
      "metadata": {
        "id": "TyQW-uFrojLk"
      },
      "id": "TyQW-uFrojLk"
    },
    {
      "cell_type": "code",
      "source": [
        "sozluk = {\n",
        "    \"a\":1,\n",
        "    \"b\":2\n",
        "}\n",
        "\n",
        "print(sozluk)"
      ],
      "metadata": {
        "id": "jnlgq74hof4s",
        "colab": {
          "base_uri": "https://localhost:8080/"
        },
        "outputId": "a5930bd7-1d1d-408b-ed8a-97264244ac8a"
      },
      "id": "jnlgq74hof4s",
      "execution_count": null,
      "outputs": [
        {
          "output_type": "stream",
          "name": "stdout",
          "text": [
            "{'a': 1, 'b': 2}\n"
          ]
        }
      ]
    },
    {
      "cell_type": "markdown",
      "source": [
        "Bir değişken sözlüğüne sabit oluruz. Print [\"b\"] de diyebilirdik böylece şunu demiş olurduk: sözlüğe git b var mı kontrol et, eğer varsa değerini yazdır.\n",
        "\n",
        "Sözlükler sıralanmamış bir anahatr değer çiftidir. Sıra, bellekte hemen birbiri ardına olmamalarıdır."
      ],
      "metadata": {
        "id": "frdetJ4hOH-V"
      },
      "id": "frdetJ4hOH-V"
    },
    {
      "cell_type": "code",
      "source": [
        "sozluk = {\n",
        "    \"a\":[1,2,3],\n",
        "    \"b\":\"merhaba\",\n",
        "    \"c\":True\n",
        "}"
      ],
      "metadata": {
        "id": "9Iby2UQyOGq9"
      },
      "id": "9Iby2UQyOGq9",
      "execution_count": null,
      "outputs": []
    },
    {
      "cell_type": "code",
      "source": [
        "print(sozluk[\"a\"][1])"
      ],
      "metadata": {
        "colab": {
          "base_uri": "https://localhost:8080/"
        },
        "id": "JmZhYUIYOyCo",
        "outputId": "f8d47e48-2c69-4db7-d96f-d147c3935272"
      },
      "id": "JmZhYUIYOyCo",
      "execution_count": null,
      "outputs": [
        {
          "output_type": "stream",
          "name": "stdout",
          "text": [
            "2\n"
          ]
        }
      ]
    },
    {
      "cell_type": "code",
      "source": [
        "listem = [\n",
        "  {\n",
        "    \"a\": [1, 2, 3],\n",
        "    \"b\": \"merhaba\",\n",
        "    \"c\": True\n",
        "  },\n",
        "  {\n",
        "    \"a\": [4, 5, 6],\n",
        "    \"b\": \"merhaba\",\n",
        "    \"c\": True\n",
        "  }\n",
        "]\n"
      ],
      "metadata": {
        "id": "xY0WOZuiO43f"
      },
      "id": "xY0WOZuiO43f",
      "execution_count": null,
      "outputs": []
    },
    {
      "cell_type": "code",
      "source": [
        "print( listem[0][\"a\"][2])"
      ],
      "metadata": {
        "colab": {
          "base_uri": "https://localhost:8080/"
        },
        "id": "Fp2CjuJMPH9u",
        "outputId": "c63fb09b-3c2a-4ec2-8137-d86622fd53cd"
      },
      "id": "Fp2CjuJMPH9u",
      "execution_count": null,
      "outputs": [
        {
          "output_type": "stream",
          "name": "stdout",
          "text": [
            "3\n"
          ]
        }
      ]
    },
    {
      "cell_type": "code",
      "source": [
        "sozluk = {\n",
        "    123: [1, 2, 3],\n",
        "    True: \"merhaba\",\n",
        "    (100,): True  # Tuple kullanarak değiştirilemez bir anahtar kullanıldı\n",
        "}\n",
        "\n",
        "print (sozluk[123])"
      ],
      "metadata": {
        "colab": {
          "base_uri": "https://localhost:8080/"
        },
        "id": "gE9R8UokQbf6",
        "outputId": "1d32bb8e-cd25-43e8-f1e0-57b2814cd9ac"
      },
      "id": "gE9R8UokQbf6",
      "execution_count": null,
      "outputs": [
        {
          "output_type": "stream",
          "name": "stdout",
          "text": [
            "[1, 2, 3]\n"
          ]
        }
      ]
    },
    {
      "cell_type": "code",
      "source": [
        "print(sozluk[(100,)])"
      ],
      "metadata": {
        "colab": {
          "base_uri": "https://localhost:8080/"
        },
        "id": "eEjYei2yQtfM",
        "outputId": "871597e2-e255-4738-a2a0-daeb5429422c"
      },
      "id": "eEjYei2yQtfM",
      "execution_count": null,
      "outputs": [
        {
          "output_type": "stream",
          "name": "stdout",
          "text": [
            "True\n"
          ]
        }
      ]
    },
    {
      "cell_type": "markdown",
      "source": [
        "# Sözlük Metodu"
      ],
      "metadata": {
        "id": "mrx1Lk1oRfu5"
      },
      "id": "mrx1Lk1oRfu5"
    },
    {
      "cell_type": "code",
      "source": [
        "sozluk = {\n",
        "    \"sepet\": [1,2,3],\n",
        "    \"selamlama\": \"merhaba\"\n",
        "}\n",
        "\n",
        "print (sozluk.keys())"
      ],
      "metadata": {
        "colab": {
          "base_uri": "https://localhost:8080/"
        },
        "id": "6r_dzlvNRatM",
        "outputId": "083ffc8d-a313-40d2-be43-58473aca2170"
      },
      "id": "6r_dzlvNRatM",
      "execution_count": null,
      "outputs": [
        {
          "output_type": "stream",
          "name": "stdout",
          "text": [
            "dict_keys(['sepet', 'selamlama'])\n"
          ]
        }
      ]
    },
    {
      "cell_type": "code",
      "source": [
        "print(sozluk.values())"
      ],
      "metadata": {
        "colab": {
          "base_uri": "https://localhost:8080/"
        },
        "id": "W0QyiPmkR8e-",
        "outputId": "9fa8c6b2-9b8f-4d89-d750-544d25aeeacb"
      },
      "id": "W0QyiPmkR8e-",
      "execution_count": null,
      "outputs": [
        {
          "output_type": "stream",
          "name": "stdout",
          "text": [
            "dict_values([[1, 2, 3], 'merhaba'])\n"
          ]
        }
      ]
    },
    {
      "cell_type": "code",
      "source": [
        "print(sozluk.items()) # tüm değerleri alır."
      ],
      "metadata": {
        "colab": {
          "base_uri": "https://localhost:8080/"
        },
        "id": "M6XXjXx3SFqZ",
        "outputId": "3f384800-291a-4f1c-a896-b473e164943d"
      },
      "id": "M6XXjXx3SFqZ",
      "execution_count": null,
      "outputs": [
        {
          "output_type": "stream",
          "name": "stdout",
          "text": [
            "dict_items([('a', [1, 2, 3]), ('b', 'merhaba'), ('c', 20)])\n"
          ]
        }
      ]
    },
    {
      "cell_type": "code",
      "source": [
        "print(sozluk[\"sepet\"])"
      ],
      "metadata": {
        "colab": {
          "base_uri": "https://localhost:8080/"
        },
        "id": "yfHsPnX-SMUx",
        "outputId": "5979bb1d-5089-4fd0-dcaf-51fca40680c7"
      },
      "id": "yfHsPnX-SMUx",
      "execution_count": null,
      "outputs": [
        {
          "output_type": "stream",
          "name": "stdout",
          "text": [
            "[1, 2, 3]\n"
          ]
        }
      ]
    },
    {
      "cell_type": "code",
      "source": [
        "print(sozluk.get(\"sepet\"))"
      ],
      "metadata": {
        "colab": {
          "base_uri": "https://localhost:8080/"
        },
        "id": "Rpsh31u_SU_Y",
        "outputId": "21f7d373-d935-4de7-93dd-58f178eb0962"
      },
      "id": "Rpsh31u_SU_Y",
      "execution_count": null,
      "outputs": [
        {
          "output_type": "stream",
          "name": "stdout",
          "text": [
            "[1, 2, 3]\n"
          ]
        }
      ]
    },
    {
      "cell_type": "code",
      "source": [
        "print(sozluk.get(\"yaş\")) # bu değer olmadığı için çıktı vermeyecek."
      ],
      "metadata": {
        "colab": {
          "base_uri": "https://localhost:8080/"
        },
        "id": "aCzHpxWpSXPD",
        "outputId": "a3a04ca3-9218-4316-afcc-23732bcad01c"
      },
      "id": "aCzHpxWpSXPD",
      "execution_count": null,
      "outputs": [
        {
          "output_type": "stream",
          "name": "stdout",
          "text": [
            "None\n"
          ]
        }
      ]
    },
    {
      "cell_type": "code",
      "source": [
        "print(sozluk.get(\"yaş\", 33)) # sözlükte bulamadığı değeri burada belirttiysen alır."
      ],
      "metadata": {
        "colab": {
          "base_uri": "https://localhost:8080/"
        },
        "id": "fGAfSlHIS0R8",
        "outputId": "8bf07315-28fd-4ce4-f151-b40377b9126c"
      },
      "id": "fGAfSlHIS0R8",
      "execution_count": null,
      "outputs": [
        {
          "output_type": "stream",
          "name": "stdout",
          "text": [
            "33\n"
          ]
        }
      ]
    },
    {
      "cell_type": "code",
      "source": [
        "kullanıcı = dict(isim = \"Muhammed\", yas = 33)\n",
        "print(kullanıcı)"
      ],
      "metadata": {
        "colab": {
          "base_uri": "https://localhost:8080/"
        },
        "id": "Yc6--IXHS-rg",
        "outputId": "be8bf092-8921-44fd-d9c0-64875d19fd2a"
      },
      "id": "Yc6--IXHS-rg",
      "execution_count": null,
      "outputs": [
        {
          "output_type": "stream",
          "name": "stdout",
          "text": [
            "{'isim': 'Muhammed', 'yas': 33}\n"
          ]
        }
      ]
    },
    {
      "cell_type": "code",
      "source": [
        "sozluk = {\n",
        "    \"a\":[1,2,3],\n",
        "    \"b\":\"merhaba\",\n",
        "    \"c\":20\n",
        "}"
      ],
      "metadata": {
        "id": "ImjRDxFtT52F"
      },
      "id": "ImjRDxFtT52F",
      "execution_count": null,
      "outputs": []
    },
    {
      "cell_type": "code",
      "source": [
        "print(\"20\" in sozluk)"
      ],
      "metadata": {
        "colab": {
          "base_uri": "https://localhost:8080/"
        },
        "id": "AhdOVjFDVLX-",
        "outputId": "9dc3e64a-2889-4b85-cf1b-df21c7bc9a37"
      },
      "id": "AhdOVjFDVLX-",
      "execution_count": null,
      "outputs": [
        {
          "output_type": "stream",
          "name": "stdout",
          "text": [
            "False\n"
          ]
        }
      ]
    },
    {
      "cell_type": "code",
      "source": [
        "print(\"c\" in sozluk)"
      ],
      "metadata": {
        "colab": {
          "base_uri": "https://localhost:8080/"
        },
        "id": "ktVNbgREVVal",
        "outputId": "8550ae63-2058-428a-f236-6db821554a07"
      },
      "id": "ktVNbgREVVal",
      "execution_count": null,
      "outputs": [
        {
          "output_type": "stream",
          "name": "stdout",
          "text": [
            "True\n"
          ]
        }
      ]
    },
    {
      "cell_type": "code",
      "source": [
        "print(\"c\" in sozluk.keys())\n",
        "# keys metodu ile sadece anahtarlar kontrol edilir.\n",
        "# \"merhaba\" aratsan hata alırdın çünkü \"merhaba\" bir değerdir."
      ],
      "metadata": {
        "colab": {
          "base_uri": "https://localhost:8080/"
        },
        "id": "innUsoeaVeLS",
        "outputId": "9aef1ee0-2858-475d-d239-cc260b2f4a7a"
      },
      "id": "innUsoeaVeLS",
      "execution_count": null,
      "outputs": [
        {
          "output_type": "stream",
          "name": "stdout",
          "text": [
            "True\n"
          ]
        }
      ]
    },
    {
      "cell_type": "code",
      "source": [
        "print(20 in sozluk.values())"
      ],
      "metadata": {
        "colab": {
          "base_uri": "https://localhost:8080/"
        },
        "id": "qkVnbihNVmH0",
        "outputId": "db3fc8ab-6521-4014-ced7-182f6f5cc975"
      },
      "id": "qkVnbihNVmH0",
      "execution_count": null,
      "outputs": [
        {
          "output_type": "stream",
          "name": "stdout",
          "text": [
            "True\n"
          ]
        }
      ]
    },
    {
      "cell_type": "code",
      "source": [
        "print(sozluk.clear())"
      ],
      "metadata": {
        "colab": {
          "base_uri": "https://localhost:8080/"
        },
        "id": "IVBuyYqIV3a7",
        "outputId": "dbcc200f-10f1-42a9-c064-c6e22c3b045a"
      },
      "id": "IVBuyYqIV3a7",
      "execution_count": null,
      "outputs": [
        {
          "output_type": "stream",
          "name": "stdout",
          "text": [
            "None\n"
          ]
        }
      ]
    },
    {
      "cell_type": "code",
      "source": [
        "print(sozluk)\n",
        "# yukarıda clear metodu ile sözlüğü temizlemiştik."
      ],
      "metadata": {
        "colab": {
          "base_uri": "https://localhost:8080/"
        },
        "id": "CpxhRtSVWF5r",
        "outputId": "e828980f-6cfd-42fe-e9d4-9ef61564e886"
      },
      "id": "CpxhRtSVWF5r",
      "execution_count": null,
      "outputs": [
        {
          "output_type": "stream",
          "name": "stdout",
          "text": [
            "{}\n"
          ]
        }
      ]
    },
    {
      "cell_type": "code",
      "source": [
        "sozluk2 = sozluk.copy()\n",
        "print(sozluk2)"
      ],
      "metadata": {
        "colab": {
          "base_uri": "https://localhost:8080/"
        },
        "id": "D7mjkNfAWJI_",
        "outputId": "cdee8453-4ac9-4b5a-db91-01b41b15c569"
      },
      "id": "D7mjkNfAWJI_",
      "execution_count": null,
      "outputs": [
        {
          "output_type": "stream",
          "name": "stdout",
          "text": [
            "{}\n"
          ]
        }
      ]
    },
    {
      "cell_type": "code",
      "source": [
        "sozluk = {\n",
        "    \"a\":[1,2,3],\n",
        "    \"b\":\"merhaba\",\n",
        "    \"c\":20\n",
        "}"
      ],
      "metadata": {
        "id": "zek8RMqSWVXd"
      },
      "id": "zek8RMqSWVXd",
      "execution_count": null,
      "outputs": []
    },
    {
      "cell_type": "code",
      "source": [
        "print(sozluk.pop(\"a\"))\n",
        "# pop ile kaldırılan şeyin değerini döndürür."
      ],
      "metadata": {
        "colab": {
          "base_uri": "https://localhost:8080/"
        },
        "id": "qJvCjAlRWgTG",
        "outputId": "d2c1478e-d752-4bce-c15f-35b22a45870e"
      },
      "id": "qJvCjAlRWgTG",
      "execution_count": null,
      "outputs": [
        {
          "output_type": "stream",
          "name": "stdout",
          "text": [
            "[1, 2, 3]\n"
          ]
        }
      ]
    },
    {
      "cell_type": "code",
      "source": [
        "print(sozluk)\n",
        "# pop ile kaldırdığımız değer artık yok."
      ],
      "metadata": {
        "colab": {
          "base_uri": "https://localhost:8080/"
        },
        "id": "s6Pv4ZcKWn-y",
        "outputId": "1b31e265-3ad4-4e79-df1a-1afb5f3f1947"
      },
      "id": "s6Pv4ZcKWn-y",
      "execution_count": null,
      "outputs": [
        {
          "output_type": "stream",
          "name": "stdout",
          "text": [
            "{'b': 'merhaba', 'c': 20}\n"
          ]
        }
      ]
    },
    {
      "cell_type": "code",
      "source": [
        "sozluk = {\n",
        "    \"a\":[1,2,3],\n",
        "    \"b\":\"merhaba\",\n",
        "    \"c\":20\n",
        "}\n",
        "\n",
        "print(sozluk.popitem())\n",
        "print(sozluk)\n",
        "# popitems ile sözlükteki son öge sözlüğün sırasız olduğunu hatırlayarak kaldırılır."
      ],
      "metadata": {
        "colab": {
          "base_uri": "https://localhost:8080/"
        },
        "id": "Ndk6CrhaWzoy",
        "outputId": "2a2938c5-e89b-482f-814c-2acc61ca35d6"
      },
      "id": "Ndk6CrhaWzoy",
      "execution_count": null,
      "outputs": [
        {
          "output_type": "stream",
          "name": "stdout",
          "text": [
            "('c', 20)\n",
            "{'a': [1, 2, 3], 'b': 'merhaba'}\n"
          ]
        }
      ]
    },
    {
      "cell_type": "code",
      "source": [
        "sozluk = {\n",
        "    \"a\":[1,2,3],\n",
        "    \"b\":\"merhaba\",\n",
        "    \"c\":20\n",
        "}\n",
        "\n",
        "print(sozluk.setdefault(\"d\", 30))"
      ],
      "metadata": {
        "colab": {
          "base_uri": "https://localhost:8080/"
        },
        "id": "c0jheAx4XEvf",
        "outputId": "e5afaf86-7117-4c29-ccfd-5ae242e41019"
      },
      "id": "c0jheAx4XEvf",
      "execution_count": null,
      "outputs": [
        {
          "output_type": "stream",
          "name": "stdout",
          "text": [
            "30\n"
          ]
        }
      ]
    },
    {
      "cell_type": "code",
      "source": [
        "print(sozluk)"
      ],
      "metadata": {
        "colab": {
          "base_uri": "https://localhost:8080/"
        },
        "id": "81g9A0Y-Xt7Z",
        "outputId": "628a5425-0ed5-4b7a-b08c-14c8e359023f"
      },
      "id": "81g9A0Y-Xt7Z",
      "execution_count": null,
      "outputs": [
        {
          "output_type": "stream",
          "name": "stdout",
          "text": [
            "{'a': [1, 2, 3], 'b': 'merhaba', 'c': 20, 'd': 30}\n"
          ]
        }
      ]
    },
    {
      "cell_type": "code",
      "source": [
        "print(sozluk.update( {\"a\": \"bu bir denemedir\"} ))\n",
        "print(sozluk)"
      ],
      "metadata": {
        "colab": {
          "base_uri": "https://localhost:8080/"
        },
        "id": "1gQB_GxJX1jU",
        "outputId": "58290944-6a8f-4c53-c748-4380e15caa7a"
      },
      "id": "1gQB_GxJX1jU",
      "execution_count": null,
      "outputs": [
        {
          "output_type": "stream",
          "name": "stdout",
          "text": [
            "None\n",
            "{'a': 'bu bir denemedir', 'b': 'merhaba', 'c': 20, 'd': 30}\n"
          ]
        }
      ]
    },
    {
      "cell_type": "markdown",
      "source": [
        "# Tuples\n",
        "\n",
        "Listeler gibidir ama onları değiştiremeyiz."
      ],
      "metadata": {
        "id": "qsRB3bYJYJEw"
      },
      "id": "qsRB3bYJYJEw"
    },
    {
      "cell_type": "code",
      "source": [
        "my_tuples = (1,2,3)\n",
        "print(my_tuples)"
      ],
      "metadata": {
        "colab": {
          "base_uri": "https://localhost:8080/"
        },
        "id": "WAUgwe0VYDL4",
        "outputId": "41d30e4a-9688-4352-8e07-9664d0c2a8b7"
      },
      "id": "WAUgwe0VYDL4",
      "execution_count": null,
      "outputs": [
        {
          "output_type": "stream",
          "name": "stdout",
          "text": [
            "(1, 2, 3)\n"
          ]
        }
      ]
    },
    {
      "cell_type": "code",
      "source": [
        "print(my_tuples[0])"
      ],
      "metadata": {
        "colab": {
          "base_uri": "https://localhost:8080/"
        },
        "id": "z1MqhMxqYcny",
        "outputId": "9d4369ab-0740-4cef-ec85-860dfbd45d6a"
      },
      "id": "z1MqhMxqYcny",
      "execution_count": null,
      "outputs": [
        {
          "output_type": "stream",
          "name": "stdout",
          "text": [
            "1\n"
          ]
        }
      ]
    },
    {
      "cell_type": "code",
      "source": [
        "my_tuples[0] = \"c\"\n",
        "print(my_tuples)\n",
        "# Bu kod hata alırsın çünkü tuple listesi değiştirilmez."
      ],
      "metadata": {
        "colab": {
          "base_uri": "https://localhost:8080/",
          "height": 173
        },
        "id": "JiMCorIxYjOp",
        "outputId": "35ff285d-0c0b-451c-eea4-a51f72c609fa"
      },
      "id": "JiMCorIxYjOp",
      "execution_count": null,
      "outputs": [
        {
          "output_type": "error",
          "ename": "TypeError",
          "evalue": "'tuple' object does not support item assignment",
          "traceback": [
            "\u001b[0;31m---------------------------------------------------------------------------\u001b[0m",
            "\u001b[0;31mTypeError\u001b[0m                                 Traceback (most recent call last)",
            "\u001b[0;32m<ipython-input-59-11e785316900>\u001b[0m in \u001b[0;36m<cell line: 1>\u001b[0;34m()\u001b[0m\n\u001b[0;32m----> 1\u001b[0;31m \u001b[0mmy_tuples\u001b[0m\u001b[0;34m[\u001b[0m\u001b[0;36m0\u001b[0m\u001b[0;34m]\u001b[0m \u001b[0;34m=\u001b[0m \u001b[0;34m\"c\"\u001b[0m\u001b[0;34m\u001b[0m\u001b[0;34m\u001b[0m\u001b[0m\n\u001b[0m\u001b[1;32m      2\u001b[0m \u001b[0mprint\u001b[0m\u001b[0;34m(\u001b[0m\u001b[0mmy_tuples\u001b[0m\u001b[0;34m)\u001b[0m\u001b[0;34m\u001b[0m\u001b[0;34m\u001b[0m\u001b[0m\n\u001b[1;32m      3\u001b[0m \u001b[0;31m# Bu kod hata alırsın çünkü tuple listesi değiştirilmez.\u001b[0m\u001b[0;34m\u001b[0m\u001b[0;34m\u001b[0m\u001b[0m\n",
            "\u001b[0;31mTypeError\u001b[0m: 'tuple' object does not support item assignment"
          ]
        }
      ]
    },
    {
      "cell_type": "code",
      "source": [
        "my_tuples = (1, 2, 3)\n",
        "# Eğer tuple'ın elemanlarını değiştirmek istiyorsanız, yeni bir tuple oluşturmalısınız\n",
        "new_tuples = (\"c\",) + my_tuples[1:]\n",
        "print(new_tuples)  # (\"c\", 2, 3)\n"
      ],
      "metadata": {
        "colab": {
          "base_uri": "https://localhost:8080/"
        },
        "id": "B2OjytX2Y2Dn",
        "outputId": "33968fa9-7129-4236-e339-f81b9df9f623"
      },
      "id": "B2OjytX2Y2Dn",
      "execution_count": null,
      "outputs": [
        {
          "output_type": "stream",
          "name": "stdout",
          "text": [
            "('c', 2, 3)\n"
          ]
        }
      ]
    },
    {
      "cell_type": "code",
      "source": [
        "print(3 in my_tuples)"
      ],
      "metadata": {
        "colab": {
          "base_uri": "https://localhost:8080/"
        },
        "id": "-oeZJr7BZKb0",
        "outputId": "cfbaa8e9-30ef-486d-fce5-f8e5ea231c7c"
      },
      "id": "-oeZJr7BZKb0",
      "execution_count": null,
      "outputs": [
        {
          "output_type": "stream",
          "name": "stdout",
          "text": [
            "True\n"
          ]
        }
      ]
    },
    {
      "cell_type": "markdown",
      "source": [
        "Avantajı daha hızlı, veriyi değiştirmeye ihtiyacın yoksa güvenilirdir.\n",
        "\n",
        "daha çok harita, konum enlem vb bilgilerinde kullanılır."
      ],
      "metadata": {
        "id": "jTHVJVjSZaSa"
      },
      "id": "jTHVJVjSZaSa"
    },
    {
      "cell_type": "code",
      "source": [
        "kullanıcı = {\n",
        "\t\t (1,2) : [1,2,3],\n",
        "\t\t \"selamlama\" : \"merhaba\",\n",
        "\t\t \"yaş\" : 33\n",
        "}"
      ],
      "metadata": {
        "id": "4JIsM1kTZYZx"
      },
      "id": "4JIsM1kTZYZx",
      "execution_count": null,
      "outputs": []
    },
    {
      "cell_type": "code",
      "source": [
        "print(kullanıcı [(1,2)])"
      ],
      "metadata": {
        "id": "Ol_8advHZqTu",
        "colab": {
          "base_uri": "https://localhost:8080/"
        },
        "outputId": "0a94f2f5-e1b5-45d7-8e1b-56f42940dba8"
      },
      "id": "Ol_8advHZqTu",
      "execution_count": null,
      "outputs": [
        {
          "output_type": "stream",
          "name": "stdout",
          "text": [
            "[1, 2, 3]\n"
          ]
        }
      ]
    },
    {
      "cell_type": "code",
      "source": [
        "benim_tuple = (1,2,3,4,5)\n",
        "yeni_benim_tuple = benim_tuple [1:2]\n",
        "print(yeni_benim_tuple)\n",
        "print(benim_tuple)"
      ],
      "metadata": {
        "colab": {
          "base_uri": "https://localhost:8080/"
        },
        "id": "Jkifm21x343s",
        "outputId": "4e27d740-11e3-4742-9aa8-65621bee868d"
      },
      "id": "Jkifm21x343s",
      "execution_count": null,
      "outputs": [
        {
          "output_type": "stream",
          "name": "stdout",
          "text": [
            "(2,)\n",
            "(1, 2, 3, 4, 5)\n"
          ]
        }
      ]
    },
    {
      "cell_type": "code",
      "source": [
        "print(benim_tuple.count(5)) #5'ten bir adet var."
      ],
      "metadata": {
        "colab": {
          "base_uri": "https://localhost:8080/"
        },
        "id": "SwMUF1__4Id9",
        "outputId": "9b721e6f-d704-4d5d-da4d-169b41c928fe"
      },
      "id": "SwMUF1__4Id9",
      "execution_count": null,
      "outputs": [
        {
          "output_type": "stream",
          "name": "stdout",
          "text": [
            "1\n"
          ]
        }
      ]
    },
    {
      "cell_type": "code",
      "source": [
        "print(benim_tuple.index(5)) #5'in indexi"
      ],
      "metadata": {
        "colab": {
          "base_uri": "https://localhost:8080/"
        },
        "id": "ZRyOpCaQ4f2g",
        "outputId": "514a5b1f-4429-48f2-fa04-f295137782c7"
      },
      "id": "ZRyOpCaQ4f2g",
      "execution_count": null,
      "outputs": [
        {
          "output_type": "stream",
          "name": "stdout",
          "text": [
            "4\n"
          ]
        }
      ]
    },
    {
      "cell_type": "code",
      "source": [
        "print(len(benim_tuple))"
      ],
      "metadata": {
        "colab": {
          "base_uri": "https://localhost:8080/"
        },
        "id": "CoZG0LBd4nJ3",
        "outputId": "68612f15-634a-4afe-d3e1-1f592c97281c"
      },
      "id": "CoZG0LBd4nJ3",
      "execution_count": null,
      "outputs": [
        {
          "output_type": "stream",
          "name": "stdout",
          "text": [
            "5\n"
          ]
        }
      ]
    },
    {
      "cell_type": "markdown",
      "source": [
        "# Setler\n",
        "\n",
        "Kümedir. Benzersiz nesnelerin sıralanmış koleksiyonudur. Bir sözlük gibi parantezler ile oluşturulur ama anahtar değer çifti yoktur."
      ],
      "metadata": {
        "id": "kio8tI_d4vAm"
      },
      "id": "kio8tI_d4vAm"
    },
    {
      "cell_type": "code",
      "source": [
        "setim = {1,2,3,4,5}\n",
        "print(setim)"
      ],
      "metadata": {
        "colab": {
          "base_uri": "https://localhost:8080/"
        },
        "id": "b3dkC4PW4tAs",
        "outputId": "110faca9-397b-4a6d-9425-64edaef1076b"
      },
      "id": "b3dkC4PW4tAs",
      "execution_count": null,
      "outputs": [
        {
          "output_type": "stream",
          "name": "stdout",
          "text": [
            "{1, 2, 3, 4, 5}\n"
          ]
        }
      ]
    },
    {
      "cell_type": "code",
      "source": [
        "setim = {1,2,3,4,5,4,5,2,2}\n",
        "print(setim)"
      ],
      "metadata": {
        "colab": {
          "base_uri": "https://localhost:8080/"
        },
        "id": "b9PtxlKC5AhW",
        "outputId": "3e910c2a-5bea-453b-f70f-cf135d59c4fc"
      },
      "id": "b9PtxlKC5AhW",
      "execution_count": null,
      "outputs": [
        {
          "output_type": "stream",
          "name": "stdout",
          "text": [
            "{1, 2, 3, 4, 5}\n"
          ]
        }
      ]
    },
    {
      "cell_type": "code",
      "source": [
        "setim = {1,2,3,4,5}\n",
        "setim.add(6)\n",
        "setim.add(2) #var olan elemanı eklesen bile işe yaramaz.\n",
        "print(setim)"
      ],
      "metadata": {
        "colab": {
          "base_uri": "https://localhost:8080/"
        },
        "id": "aeUOJL8P5FkM",
        "outputId": "ad33596b-a80a-44b3-db71-7114949d9d5a"
      },
      "id": "aeUOJL8P5FkM",
      "execution_count": null,
      "outputs": [
        {
          "output_type": "stream",
          "name": "stdout",
          "text": [
            "{1, 2, 3, 4, 5, 6}\n"
          ]
        }
      ]
    },
    {
      "cell_type": "code",
      "source": [
        "# Benzersiz ögelerden oluşan liste oluştur.\n",
        "\n",
        "listem = [1,2,2,3,4,5,5,5]\n",
        "print(set(listem))"
      ],
      "metadata": {
        "colab": {
          "base_uri": "https://localhost:8080/"
        },
        "id": "VjFdH1eo5Og0",
        "outputId": "1e3688f7-3e65-4f41-9cee-e2990430c7b9"
      },
      "id": "VjFdH1eo5Og0",
      "execution_count": null,
      "outputs": [
        {
          "output_type": "stream",
          "name": "stdout",
          "text": [
            "{1, 2, 3, 4, 5}\n"
          ]
        }
      ]
    },
    {
      "cell_type": "code",
      "source": [
        "setim = {1,2,3,4,5}\n",
        "print(setim.difference([1,2,3]))"
      ],
      "metadata": {
        "colab": {
          "base_uri": "https://localhost:8080/"
        },
        "id": "tVbEthrm5gf3",
        "outputId": "e1020d94-722e-494b-9236-563349841ea7"
      },
      "id": "tVbEthrm5gf3",
      "execution_count": null,
      "outputs": [
        {
          "output_type": "stream",
          "name": "stdout",
          "text": [
            "{4, 5}\n"
          ]
        }
      ]
    },
    {
      "cell_type": "code",
      "source": [
        "print(setim[0])\n",
        "# Çıktıda hata alırsın. Set nesnesi dizi oluşturmayı desteklemez.\n",
        "# Bir sete erişmek için içindeki ögeyi yakalamalısın."
      ],
      "metadata": {
        "colab": {
          "base_uri": "https://localhost:8080/",
          "height": 173
        },
        "id": "P7DaXTXS5nHK",
        "outputId": "3324a59e-cd66-4345-e7a4-8345df1bae32"
      },
      "id": "P7DaXTXS5nHK",
      "execution_count": null,
      "outputs": [
        {
          "output_type": "error",
          "ename": "TypeError",
          "evalue": "'set' object is not subscriptable",
          "traceback": [
            "\u001b[0;31m---------------------------------------------------------------------------\u001b[0m",
            "\u001b[0;31mTypeError\u001b[0m                                 Traceback (most recent call last)",
            "\u001b[0;32m<ipython-input-18-59ba9488693e>\u001b[0m in \u001b[0;36m<cell line: 1>\u001b[0;34m()\u001b[0m\n\u001b[0;32m----> 1\u001b[0;31m \u001b[0mprint\u001b[0m\u001b[0;34m(\u001b[0m\u001b[0msetim\u001b[0m\u001b[0;34m[\u001b[0m\u001b[0;36m0\u001b[0m\u001b[0;34m]\u001b[0m\u001b[0;34m)\u001b[0m\u001b[0;34m\u001b[0m\u001b[0;34m\u001b[0m\u001b[0m\n\u001b[0m\u001b[1;32m      2\u001b[0m \u001b[0;31m# Çıktıda hata alırsın. Set nesnesi dizi oluşturmayı desteklemez.\u001b[0m\u001b[0;34m\u001b[0m\u001b[0;34m\u001b[0m\u001b[0m\n\u001b[1;32m      3\u001b[0m \u001b[0;31m# Bir sete erişmek için içindeki ögeyi yakalamalısın.\u001b[0m\u001b[0;34m\u001b[0m\u001b[0;34m\u001b[0m\u001b[0m\n",
            "\u001b[0;31mTypeError\u001b[0m: 'set' object is not subscriptable"
          ]
        }
      ]
    },
    {
      "cell_type": "code",
      "source": [
        "print(1 in setim) # 1 setim içinde var mı?\n",
        "print(len(setim)) # set içinde kaç eleman benzersiz?"
      ],
      "metadata": {
        "colab": {
          "base_uri": "https://localhost:8080/"
        },
        "id": "Y5aklNng5-g0",
        "outputId": "2e9205f9-c7c3-4bfd-a0f1-56ad0e26269f"
      },
      "id": "Y5aklNng5-g0",
      "execution_count": null,
      "outputs": [
        {
          "output_type": "stream",
          "name": "stdout",
          "text": [
            "True\n",
            "5\n"
          ]
        }
      ]
    },
    {
      "cell_type": "code",
      "source": [
        "setim = {1,2,3,4,5}\n",
        "yeni_setim = setim.copy()\n",
        "setim.clear()\n",
        "\n",
        "print(setim)\n",
        "print(yeni_setim)"
      ],
      "metadata": {
        "colab": {
          "base_uri": "https://localhost:8080/"
        },
        "id": "FMbTCXlI6Q1z",
        "outputId": "f849e5d2-c638-4baa-e357-9e07305385f2"
      },
      "id": "FMbTCXlI6Q1z",
      "execution_count": null,
      "outputs": [
        {
          "output_type": "stream",
          "name": "stdout",
          "text": [
            "set()\n",
            "{1, 2, 3, 4, 5}\n"
          ]
        }
      ]
    },
    {
      "cell_type": "code",
      "source": [
        "set_1 = {1,2,3,4,5}\n",
        "set_2 = {1,2,3}\n",
        "\n",
        "print(set_2.issubset(set_1)) # set_2, set_1'in alt kümesi midir?\n",
        "print(set_1.difference(set_2)) # set_1'in set_2'den farkı"
      ],
      "metadata": {
        "colab": {
          "base_uri": "https://localhost:8080/"
        },
        "id": "2ObEXp526e4G",
        "outputId": "416d6adc-436a-4782-8dad-f570f0832fc0"
      },
      "id": "2ObEXp526e4G",
      "execution_count": null,
      "outputs": [
        {
          "output_type": "stream",
          "name": "stdout",
          "text": [
            "True\n",
            "{4, 5}\n"
          ]
        }
      ]
    },
    {
      "cell_type": "code",
      "source": [
        "set_1.discard(5) # 5'i setten çıkar.\n",
        "print(set_1)"
      ],
      "metadata": {
        "colab": {
          "base_uri": "https://localhost:8080/"
        },
        "id": "doqsaU6Y6lCo",
        "outputId": "f58fa9f8-09a4-4cc0-f937-f355c65c13a5"
      },
      "id": "doqsaU6Y6lCo",
      "execution_count": null,
      "outputs": [
        {
          "output_type": "stream",
          "name": "stdout",
          "text": [
            "{1, 2, 3, 4}\n"
          ]
        }
      ]
    },
    {
      "cell_type": "code",
      "source": [
        "print(set_1.intersection(set_2)) # kesişimleri?"
      ],
      "metadata": {
        "colab": {
          "base_uri": "https://localhost:8080/"
        },
        "id": "ldw3blTo66pp",
        "outputId": "d1fc3754-341b-4825-922d-4e3f5fb42d60"
      },
      "id": "ldw3blTo66pp",
      "execution_count": null,
      "outputs": [
        {
          "output_type": "stream",
          "name": "stdout",
          "text": [
            "{1, 2, 3}\n"
          ]
        }
      ]
    },
    {
      "cell_type": "code",
      "source": [
        "print(set_1.isdisjoint(set_2)) # kesişimi boş mu?"
      ],
      "metadata": {
        "colab": {
          "base_uri": "https://localhost:8080/"
        },
        "id": "Qo-MqX8W7BSg",
        "outputId": "2dfcbd3c-a4b7-4c2d-d727-1c59837d5d7b"
      },
      "id": "Qo-MqX8W7BSg",
      "execution_count": null,
      "outputs": [
        {
          "output_type": "stream",
          "name": "stdout",
          "text": [
            "False\n"
          ]
        }
      ]
    },
    {
      "cell_type": "code",
      "source": [
        "print(set_1.union(set_2)) # birleşim"
      ],
      "metadata": {
        "colab": {
          "base_uri": "https://localhost:8080/"
        },
        "id": "jZFB9oSg7IRQ",
        "outputId": "1973d403-0c33-4b03-c4d2-7068a7d39497"
      },
      "id": "jZFB9oSg7IRQ",
      "execution_count": null,
      "outputs": [
        {
          "output_type": "stream",
          "name": "stdout",
          "text": [
            "{1, 2, 3, 4}\n"
          ]
        }
      ]
    },
    {
      "cell_type": "code",
      "source": [
        "print(set_1.symmetric_difference(set_2)) # farkların birleşim"
      ],
      "metadata": {
        "colab": {
          "base_uri": "https://localhost:8080/"
        },
        "id": "Rk3MwALW7N1T",
        "outputId": "f2740e69-7447-445e-e706-6d105fde0cd9"
      },
      "id": "Rk3MwALW7N1T",
      "execution_count": null,
      "outputs": [
        {
          "output_type": "stream",
          "name": "stdout",
          "text": [
            "{4}\n"
          ]
        }
      ]
    },
    {
      "cell_type": "code",
      "source": [
        "set_1 = {1,2,3,4,5}\n",
        "set_2 = {1,2,3}\n",
        "\n",
        "print(set_1 | set_2) # birleşim\n",
        "print(set_1 & set_2) # kesişim\n",
        "print(set_1 - set_2) # fark\n",
        "print(set_1 ^ set_2) # farkların birleşim"
      ],
      "metadata": {
        "colab": {
          "base_uri": "https://localhost:8080/"
        },
        "id": "RmIV6p8V7R1B",
        "outputId": "7e5661f1-993b-4a4e-df93-60d8ce54a293"
      },
      "id": "RmIV6p8V7R1B",
      "execution_count": null,
      "outputs": [
        {
          "output_type": "stream",
          "name": "stdout",
          "text": [
            "{1, 2, 3, 4, 5}\n",
            "{1, 2, 3}\n",
            "{4, 5}\n",
            "{4, 5}\n"
          ]
        }
      ]
    },
    {
      "cell_type": "markdown",
      "source": [
        "# Eğer Koşulu (Conditional Logic)\n",
        "\n",
        "Not: if'ten sonra gelecek satırın girintili olması önemlidir, yoksa python bunu yeni bir ayrı satır gibi algılar. Girintili kod ile onu bir kod bloğu yapabilirsin."
      ],
      "metadata": {
        "id": "RDqHV1vX704A"
      },
      "id": "RDqHV1vX704A"
    },
    {
      "cell_type": "code",
      "source": [
        "yas = 18\n",
        "if yas >= 18:\n",
        "    print(\"yaşınız uygun\")\n",
        "elif yas < 18:\n",
        "        print(\"yaşınız uygun değil\")\n",
        "else:\n",
        "        print(\"yaşınız 18\")"
      ],
      "metadata": {
        "colab": {
          "base_uri": "https://localhost:8080/"
        },
        "id": "2Ot464UW7xlW",
        "outputId": "812ef940-defe-48a8-bcd2-db94c2b2df0d"
      },
      "id": "2Ot464UW7xlW",
      "execution_count": null,
      "outputs": [
        {
          "output_type": "stream",
          "name": "stdout",
          "text": [
            "yaşınız uygun\n"
          ]
        }
      ]
    },
    {
      "cell_type": "markdown",
      "source": [
        "- Boşluk dört spacelik alana eşit.\n",
        "- Boşluklu kod satırı üstteki if değerine bağlıdır.\n",
        "\n",
        "subset --> alt küme, superset --> üst küme\n",
        "\n",
        "| --> option ve - tuşlarına bas."
      ],
      "metadata": {
        "id": "XRbAkupR9Oqb"
      },
      "id": "XRbAkupR9Oqb"
    },
    {
      "cell_type": "code",
      "source": [
        "set_1 = {4,5}\n",
        "set_2 = {1,2,3,4,5}\n",
        "\n",
        "print(set_1.issubset(set_2))\n",
        "print(set_2.issuperset(set_1))\n",
        "#"
      ],
      "metadata": {
        "id": "CwuMomnh8mF-",
        "colab": {
          "base_uri": "https://localhost:8080/"
        },
        "outputId": "4617f8ba-1c3e-4431-e1c4-b544d69b09e3"
      },
      "id": "CwuMomnh8mF-",
      "execution_count": null,
      "outputs": [
        {
          "output_type": "stream",
          "name": "stdout",
          "text": [
            "True\n",
            "True\n"
          ]
        }
      ]
    },
    {
      "cell_type": "markdown",
      "source": [
        "# Truthy vs Falsey"
      ],
      "metadata": {
        "id": "1Htq_arjCo7l"
      },
      "id": "1Htq_arjCo7l"
    },
    {
      "cell_type": "code",
      "source": [
        "print(bool(\"hello\"))\n",
        "print(bool(5))\n"
      ],
      "metadata": {
        "id": "kNq1gr-g9x84",
        "colab": {
          "base_uri": "https://localhost:8080/"
        },
        "outputId": "ee3facae-aa81-443c-dc71-bfc9a451a474"
      },
      "id": "kNq1gr-g9x84",
      "execution_count": null,
      "outputs": [
        {
          "output_type": "stream",
          "name": "stdout",
          "text": [
            "True\n",
            "True\n"
          ]
        }
      ]
    },
    {
      "cell_type": "markdown",
      "source": [
        "Doğruluk değeri; üzerinde Boolean tip dönüşümünü çalıştırırsak, yani yanlış bir değer olan şeyi doğru olarak değerlendirir."
      ],
      "metadata": {
        "id": "Tjs6-ChnDEfg"
      },
      "id": "Tjs6-ChnDEfg"
    },
    {
      "cell_type": "code",
      "source": [
        "print(bool(\" \"))\n",
        "print(bool(0))\n"
      ],
      "metadata": {
        "colab": {
          "base_uri": "https://localhost:8080/"
        },
        "id": "MECw2wDYC_7a",
        "outputId": "3e08a4b7-3606-4e42-f2b7-6cba7322ba6c"
      },
      "id": "MECw2wDYC_7a",
      "execution_count": null,
      "outputs": [
        {
          "output_type": "stream",
          "name": "stdout",
          "text": [
            "True\n",
            "False\n"
          ]
        }
      ]
    },
    {
      "cell_type": "markdown",
      "source": [
        "Hangi değerlerin True veya False olabileceği ile ilgili kaynak --> https://stackoverflow.com/questions/39983695/what-is-truthy-and-falsy-how-is-it-different-from-true-and-false\n",
        "\n",
        "True ve False bool değerlerinden ayırt etmek için \"truthy\" ve \"falsy\"yi kullanırız. \"Doğru\" bir değer, if veya while ifadeleri tarafından gerçekleştirilen kontrolü karşılayacaktır. Belgelerde açıklandığı gibi, aşağıdaki \"sahte\" değerler dışında tüm değerler \"doğru\" olarak kabul edilir:\n",
        "\n",
        "•\tNone\n",
        "•\tFalse\n",
        "•\tNumbers that are numerically equal to zero, including:\n",
        "•\t0\n",
        "•\t0.0\n",
        "•\t0j\n",
        "•\tdecimal.Decimal(0)\n",
        "•\tfraction.Fraction(0, 1)\n",
        "•\tEmpty sequences and collections, including:\n",
        "•\t[] - an empty list\n",
        "•\t{} - an empty dict\n",
        "•\t() - an empty tuple\n",
        "•\tset() - an empty set\n",
        "•\t'' - an empty str\n",
        "•\tb'' - an empty bytes\n",
        "•\tbytearray(b'') - an empty bytearray\n",
        "•\tmemoryview(b'') - an empty memoryview\n",
        "•\tan empty range, like range(0)\n",
        "•\tobjects for which\n",
        "•\tobj.__bool__() returns False\n",
        "•\tobj.__len__() returns 0, given that obj.__bool__ is undefined\n"
      ],
      "metadata": {
        "id": "qCLmzTkcDTBu"
      },
      "id": "qCLmzTkcDTBu"
    },
    {
      "cell_type": "markdown",
      "source": [
        "# Ternary Operator\n",
        "\n",
        "Kodu daha temiz hale getirmek için bir yol.\n",
        "\n",
        "Condition_if_true\n",
        "\n",
        "if_condition_else\n",
        "\n",
        "Condition_if_false\n",
        "\n",
        "Aynı excel eğer formülü gibi.\n",
        "\n",
        "Bir kişi sizin arkadaşınız mı değil miye bakacaksınız. Belki fb’da size doğrudan mesaj gönderebilecek kişileri belirleyeceksiniz.\n"
      ],
      "metadata": {
        "id": "RxXE9QssDsL5"
      },
      "id": "RxXE9QssDsL5"
    },
    {
      "cell_type": "code",
      "source": [
        "is_friend = True\n",
        "can_message = \"message allowed\" if is_friend else \"not allowed to message\"\n",
        "print(can_message)\n"
      ],
      "metadata": {
        "colab": {
          "base_uri": "https://localhost:8080/"
        },
        "id": "bUmEm3lUDIlP",
        "outputId": "d17b8dd5-7bc1-4bb0-fbbb-1452a66395b4"
      },
      "id": "bUmEm3lUDIlP",
      "execution_count": null,
      "outputs": [
        {
          "output_type": "stream",
          "name": "stdout",
          "text": [
            "message allowed\n"
          ]
        }
      ]
    },
    {
      "cell_type": "markdown",
      "source": [
        "# Short Circuiting"
      ],
      "metadata": {
        "id": "ZTWO0nVqD95P"
      },
      "id": "ZTWO0nVqD95P"
    },
    {
      "cell_type": "code",
      "source": [
        "a = True\n",
        "b = True\n",
        "\n",
        "print(a or b)\n",
        "print(a and b)"
      ],
      "metadata": {
        "colab": {
          "base_uri": "https://localhost:8080/"
        },
        "id": "X8KpkXb6D5yk",
        "outputId": "04bc9277-0a6e-409d-a380-f05f0afe62bf"
      },
      "id": "X8KpkXb6D5yk",
      "execution_count": null,
      "outputs": [
        {
          "output_type": "stream",
          "name": "stdout",
          "text": [
            "True\n",
            "True\n"
          ]
        }
      ]
    },
    {
      "cell_type": "code",
      "source": [
        "if a and b:\n",
        "  print (\"her iki seçenek de doğru\")"
      ],
      "metadata": {
        "colab": {
          "base_uri": "https://localhost:8080/"
        },
        "id": "MroCsr2eETAC",
        "outputId": "327d8ebf-44dc-47c2-df5e-4d19095a3370"
      },
      "id": "MroCsr2eETAC",
      "execution_count": null,
      "outputs": [
        {
          "output_type": "stream",
          "name": "stdout",
          "text": [
            "her iki seçenek de doğru\n"
          ]
        }
      ]
    },
    {
      "cell_type": "markdown",
      "source": [
        "And yerine or yazdan aynı çıktıyı elde edersin. Peki hangisi en iyi performanslı?\n",
        "Or. İlk koşulu sağlarsa python ikincisine bakmakla uğraşmaz.\n"
      ],
      "metadata": {
        "id": "Ffvf-42uEpov"
      },
      "id": "Ffvf-42uEpov"
    },
    {
      "cell_type": "code",
      "source": [
        "if False and a:\n",
        "  print (\"hata var burada\")"
      ],
      "metadata": {
        "id": "m28MO1ftEcrL"
      },
      "id": "m28MO1ftEcrL",
      "execution_count": null,
      "outputs": []
    },
    {
      "cell_type": "markdown",
      "source": [
        "# Mantıksal Operatörler"
      ],
      "metadata": {
        "id": "Z5IE9qNsE3IS"
      },
      "id": "Z5IE9qNsE3IS"
    },
    {
      "cell_type": "code",
      "source": [
        "print (4<5)"
      ],
      "metadata": {
        "id": "Mn1zkZhfEx2n",
        "colab": {
          "base_uri": "https://localhost:8080/"
        },
        "outputId": "7ec9d165-cd88-4757-c0cd-053c11f5b7c9"
      },
      "id": "Mn1zkZhfEx2n",
      "execution_count": null,
      "outputs": [
        {
          "output_type": "stream",
          "name": "stdout",
          "text": [
            "True\n"
          ]
        }
      ]
    },
    {
      "cell_type": "code",
      "source": [
        "4=5 # hata alırsın, == kullanmalısın.\n",
        "# 4=5 'i python değişken gibi algılar ve değer atayamaz."
      ],
      "metadata": {
        "colab": {
          "base_uri": "https://localhost:8080/",
          "height": 105
        },
        "id": "mStyVxmxsIfb",
        "outputId": "cc401661-e87b-4fab-9e46-eba5c48c1e56"
      },
      "id": "mStyVxmxsIfb",
      "execution_count": null,
      "outputs": [
        {
          "output_type": "error",
          "ename": "SyntaxError",
          "evalue": "cannot assign to literal here. Maybe you meant '==' instead of '='? (<ipython-input-3-35695e7bc888>, line 1)",
          "traceback": [
            "\u001b[0;36m  File \u001b[0;32m\"<ipython-input-3-35695e7bc888>\"\u001b[0;36m, line \u001b[0;32m1\u001b[0m\n\u001b[0;31m    4=5 # hata alırsın, == kullanmalısın.\u001b[0m\n\u001b[0m    ^\u001b[0m\n\u001b[0;31mSyntaxError\u001b[0m\u001b[0;31m:\u001b[0m cannot assign to literal here. Maybe you meant '==' instead of '='?\n"
          ]
        }
      ]
    },
    {
      "cell_type": "code",
      "source": [
        "print ('a'>'A')"
      ],
      "metadata": {
        "colab": {
          "base_uri": "https://localhost:8080/"
        },
        "id": "JgvSMl5asMm4",
        "outputId": "a9f9cb99-1e1f-4266-e0f9-219dc1b9b429"
      },
      "id": "JgvSMl5asMm4",
      "execution_count": null,
      "outputs": [
        {
          "output_type": "stream",
          "name": "stdout",
          "text": [
            "True\n"
          ]
        }
      ]
    },
    {
      "cell_type": "code",
      "source": [
        "print ('a'>'b')"
      ],
      "metadata": {
        "colab": {
          "base_uri": "https://localhost:8080/"
        },
        "id": "sW5Q6K3hsxAf",
        "outputId": "9dc1c516-df09-4752-8f1e-82bd20ed02b1"
      },
      "id": "sW5Q6K3hsxAf",
      "execution_count": null,
      "outputs": [
        {
          "output_type": "stream",
          "name": "stdout",
          "text": [
            "False\n"
          ]
        }
      ]
    },
    {
      "cell_type": "markdown",
      "source": [
        "- bu benzeri işare >=\n",
        "- and\n",
        "- or\n",
        "- not\n",
        "- != eşit değil"
      ],
      "metadata": {
        "id": "R2l1I5Ehs8yD"
      },
      "id": "R2l1I5Ehs8yD"
    },
    {
      "cell_type": "code",
      "source": [
        "print (not(False))"
      ],
      "metadata": {
        "colab": {
          "base_uri": "https://localhost:8080/"
        },
        "id": "QSbmo6Gls5KK",
        "outputId": "4bbb9176-78c6-4aa9-c42f-03f9e08f2ab3"
      },
      "id": "QSbmo6Gls5KK",
      "execution_count": null,
      "outputs": [
        {
          "output_type": "stream",
          "name": "stdout",
          "text": [
            "True\n"
          ]
        }
      ]
    },
    {
      "cell_type": "markdown",
      "source": [
        "# Örnek"
      ],
      "metadata": {
        "id": "qoLtL_J9tU6k"
      },
      "id": "qoLtL_J9tU6k"
    },
    {
      "cell_type": "code",
      "source": [
        "is_programmer = False\n",
        "is_expert = True\n",
        "\n",
        "# programcı ve uzman ise \"uzman seviyede programcısın\" çıktısı aldır.\n",
        "\n",
        "if is_programmer and is_expert:\n",
        "  print (\"uzman seviyede programcısın\")\n",
        "\n",
        "# programcı ama uzman değil se \"en azından doğru yoldasın\" çıktısı aldır.\n",
        "\n",
        "elif is_programmer and not is_expert:\n",
        "  print (\"en azından doğru yoldasın\")\n",
        "\n",
        "# Her iki kod bloğu da doğru olsa asla çalışmayacaktır.\n",
        "\n",
        "# eğer programcı değilsen \"programlama eğitimi al\" çıktısını aldır.\n",
        "\n",
        "elif not is_programmer:\n",
        "  print (\"programlama eğitimi al\")"
      ],
      "metadata": {
        "colab": {
          "base_uri": "https://localhost:8080/"
        },
        "id": "CszebICatQce",
        "outputId": "85843e07-61a6-4afe-cbeb-e4d036d7bee1"
      },
      "id": "CszebICatQce",
      "execution_count": null,
      "outputs": [
        {
          "output_type": "stream",
          "name": "stdout",
          "text": [
            "programlama eğitimi al\n"
          ]
        }
      ]
    },
    {
      "cell_type": "markdown",
      "source": [
        "# is vs =="
      ],
      "metadata": {
        "id": "vNdJ-GR4u3l5"
      },
      "id": "vNdJ-GR4u3l5"
    },
    {
      "cell_type": "code",
      "source": [
        "print(True == 1)\n",
        "bool(1)"
      ],
      "metadata": {
        "colab": {
          "base_uri": "https://localhost:8080/"
        },
        "id": "7z_sj6p4uuVX",
        "outputId": "420e15f7-22c1-4c32-b5b7-c3591f5c90be"
      },
      "id": "7z_sj6p4uuVX",
      "execution_count": null,
      "outputs": [
        {
          "output_type": "stream",
          "name": "stdout",
          "text": [
            "True\n"
          ]
        },
        {
          "output_type": "execute_result",
          "data": {
            "text/plain": [
              "True"
            ]
          },
          "metadata": {},
          "execution_count": 10
        }
      ]
    },
    {
      "cell_type": "code",
      "source": [
        "print (True is 1)\n",
        "print ('' is 1)"
      ],
      "metadata": {
        "colab": {
          "base_uri": "https://localhost:8080/"
        },
        "id": "VC3drhMYv0_q",
        "outputId": "f46f2acd-de10-4d98-f288-e0f32bac12de"
      },
      "id": "VC3drhMYv0_q",
      "execution_count": null,
      "outputs": [
        {
          "output_type": "stream",
          "name": "stdout",
          "text": [
            "False\n",
            "False\n"
          ]
        },
        {
          "output_type": "stream",
          "name": "stderr",
          "text": [
            "<>:1: SyntaxWarning: \"is\" with a literal. Did you mean \"==\"?\n",
            "<>:2: SyntaxWarning: \"is\" with a literal. Did you mean \"==\"?\n",
            "<>:1: SyntaxWarning: \"is\" with a literal. Did you mean \"==\"?\n",
            "<>:2: SyntaxWarning: \"is\" with a literal. Did you mean \"==\"?\n",
            "<ipython-input-16-bbd25cc7ee4a>:1: SyntaxWarning: \"is\" with a literal. Did you mean \"==\"?\n",
            "  print (True is 1)\n",
            "<ipython-input-16-bbd25cc7ee4a>:2: SyntaxWarning: \"is\" with a literal. Did you mean \"==\"?\n",
            "  print ('' is 1)\n"
          ]
        }
      ]
    },
    {
      "cell_type": "code",
      "source": [
        "print ('' == 1)\n",
        "print ([] == 1)\n",
        "print (10 == 10.0)"
      ],
      "metadata": {
        "colab": {
          "base_uri": "https://localhost:8080/"
        },
        "id": "ZHlu-wZSvDJP",
        "outputId": "2764b8c2-105c-41f7-81ed-5d240de69470"
      },
      "id": "ZHlu-wZSvDJP",
      "execution_count": null,
      "outputs": [
        {
          "output_type": "stream",
          "name": "stdout",
          "text": [
            "False\n",
            "False\n",
            "True\n"
          ]
        }
      ]
    },
    {
      "cell_type": "code",
      "source": [
        "print([] is 1)\n",
        "print(10 is 10.0)\n",
        "print([1,2,3] is [1,2,3])"
      ],
      "metadata": {
        "colab": {
          "base_uri": "https://localhost:8080/"
        },
        "id": "5Z9AkN7Sv9Hc",
        "outputId": "322f0b53-a498-45fb-e385-5f16c39ef943"
      },
      "id": "5Z9AkN7Sv9Hc",
      "execution_count": null,
      "outputs": [
        {
          "output_type": "stream",
          "name": "stdout",
          "text": [
            "False\n",
            "False\n",
            "False\n"
          ]
        },
        {
          "output_type": "stream",
          "name": "stderr",
          "text": [
            "<>:1: SyntaxWarning: \"is\" with a literal. Did you mean \"==\"?\n",
            "<>:2: SyntaxWarning: \"is\" with a literal. Did you mean \"==\"?\n",
            "<>:1: SyntaxWarning: \"is\" with a literal. Did you mean \"==\"?\n",
            "<>:2: SyntaxWarning: \"is\" with a literal. Did you mean \"==\"?\n",
            "<ipython-input-17-7e5822ba7f3b>:1: SyntaxWarning: \"is\" with a literal. Did you mean \"==\"?\n",
            "  print([] is 1)\n",
            "<ipython-input-17-7e5822ba7f3b>:2: SyntaxWarning: \"is\" with a literal. Did you mean \"==\"?\n",
            "  print(10 is 10.0)\n"
          ]
        }
      ]
    },
    {
      "cell_type": "code",
      "source": [
        "print ([] == [])\n",
        "print ([1,2,3] == [1,2,3])"
      ],
      "metadata": {
        "colab": {
          "base_uri": "https://localhost:8080/"
        },
        "id": "CsBWwuhAvIcF",
        "outputId": "d8ebd85e-d50d-417c-c234-e3363c652498"
      },
      "id": "CsBWwuhAvIcF",
      "execution_count": null,
      "outputs": [
        {
          "output_type": "stream",
          "name": "stdout",
          "text": [
            "True\n",
            "True\n"
          ]
        }
      ]
    },
    {
      "cell_type": "code",
      "source": [
        "print(True is True)\n",
        "print('1' is 1)\n",
        "print([] is [])"
      ],
      "metadata": {
        "colab": {
          "base_uri": "https://localhost:8080/"
        },
        "id": "FNkc3W8ovhmW",
        "outputId": "21d0bcf6-0ff2-440d-a0be-f50e83f5b976"
      },
      "id": "FNkc3W8ovhmW",
      "execution_count": null,
      "outputs": [
        {
          "output_type": "stream",
          "name": "stdout",
          "text": [
            "True\n",
            "False\n",
            "False\n"
          ]
        },
        {
          "output_type": "stream",
          "name": "stderr",
          "text": [
            "<>:2: SyntaxWarning: \"is\" with a literal. Did you mean \"==\"?\n",
            "<>:2: SyntaxWarning: \"is\" with a literal. Did you mean \"==\"?\n",
            "<ipython-input-18-0a5893aa67e0>:2: SyntaxWarning: \"is\" with a literal. Did you mean \"==\"?\n",
            "  print('1' is 1)\n"
          ]
        }
      ]
    },
    {
      "cell_type": "markdown",
      "source": [
        "False olanlar için bellekteki konumları farklıdır."
      ],
      "metadata": {
        "id": "9vgO19VKwhy0"
      },
      "id": "9vgO19VKwhy0"
    },
    {
      "cell_type": "code",
      "source": [
        "a = [1,2,3]\n",
        "b = [1,2,3]\n",
        "print(a is b)\n",
        "print(a == b)"
      ],
      "metadata": {
        "colab": {
          "base_uri": "https://localhost:8080/"
        },
        "id": "mrVwC5BkwfCz",
        "outputId": "41ed28ab-3b82-4d68-a1e4-5616aab9b6a4"
      },
      "id": "mrVwC5BkwfCz",
      "execution_count": null,
      "outputs": [
        {
          "output_type": "stream",
          "name": "stdout",
          "text": [
            "False\n",
            "True\n"
          ]
        }
      ]
    },
    {
      "cell_type": "markdown",
      "source": [
        "# For Döngüsü\n",
        "\n",
        "Her öğe için bir şey yap. Item bir değişkendir ve ‘den sonraki her öğe için burada bir değişken oluşturulur.\n",
        "Bir iterable, her bir öğe üzerinde yineleme yapmak için bir iterable içindeki bir şey için bu notasyonu kullanmamızı söyler.\n"
      ],
      "metadata": {
        "id": "tg7ogJDtwskp"
      },
      "id": "tg7ogJDtwskp"
    },
    {
      "cell_type": "code",
      "source": [
        "for item in \"merhaba\":\n",
        "  print(item)"
      ],
      "metadata": {
        "colab": {
          "base_uri": "https://localhost:8080/"
        },
        "id": "IelLgOzmwqcj",
        "outputId": "ac4fb16a-f49c-44bc-f840-91d4aa8d70b1"
      },
      "id": "IelLgOzmwqcj",
      "execution_count": null,
      "outputs": [
        {
          "output_type": "stream",
          "name": "stdout",
          "text": [
            "m\n",
            "e\n",
            "r\n",
            "h\n",
            "a\n",
            "b\n",
            "a\n"
          ]
        }
      ]
    },
    {
      "cell_type": "markdown",
      "source": [
        "Her harf makinemizin belleğindeki her kitaplığa gider ve her bir öğeyi teker teker yazdırır."
      ],
      "metadata": {
        "id": "cXTFlmrZxAIe"
      },
      "id": "cXTFlmrZxAIe"
    },
    {
      "cell_type": "code",
      "source": [
        "for item in [1,2,3,4,5,6,6]:\n",
        "  print(item)"
      ],
      "metadata": {
        "colab": {
          "base_uri": "https://localhost:8080/"
        },
        "id": "S7ZJYQZ1w810",
        "outputId": "3b4df721-5657-4873-a473-052bb9f735cc"
      },
      "id": "S7ZJYQZ1w810",
      "execution_count": null,
      "outputs": [
        {
          "output_type": "stream",
          "name": "stdout",
          "text": [
            "1\n",
            "2\n",
            "3\n",
            "4\n",
            "5\n",
            "6\n",
            "6\n"
          ]
        }
      ]
    },
    {
      "cell_type": "markdown",
      "source": [
        "[] veya {} ile de yazsan aynı sonuca ulaşırdın."
      ],
      "metadata": {
        "id": "KHZFIU-4xK8p"
      },
      "id": "KHZFIU-4xK8p"
    },
    {
      "cell_type": "code",
      "source": [
        "for item in [1,2,3,4,5]:\n",
        "  print(item)\n",
        "  print(item)\n",
        "  print(item)"
      ],
      "metadata": {
        "colab": {
          "base_uri": "https://localhost:8080/"
        },
        "id": "RzuWC5GgxHgZ",
        "outputId": "b5532b8c-7518-4084-ff23-8b8f62562c5b"
      },
      "id": "RzuWC5GgxHgZ",
      "execution_count": null,
      "outputs": [
        {
          "output_type": "stream",
          "name": "stdout",
          "text": [
            "1\n",
            "1\n",
            "1\n",
            "2\n",
            "2\n",
            "2\n",
            "3\n",
            "3\n",
            "3\n",
            "4\n",
            "4\n",
            "4\n",
            "5\n",
            "5\n",
            "5\n"
          ]
        }
      ]
    },
    {
      "cell_type": "code",
      "source": [
        "for item in [1,2,3,4,5]:\n",
        "  print(item)\n",
        "  print(item)\n",
        "  print(item)\n",
        "print(\"merhaba\") # merhaba girintili olmadığı için bağımsız gibidir."
      ],
      "metadata": {
        "colab": {
          "base_uri": "https://localhost:8080/"
        },
        "id": "l6-pHgMgxVit",
        "outputId": "73dc3e11-f98c-4886-bb29-55b4c58839a7"
      },
      "id": "l6-pHgMgxVit",
      "execution_count": null,
      "outputs": [
        {
          "output_type": "stream",
          "name": "stdout",
          "text": [
            "1\n",
            "1\n",
            "1\n",
            "2\n",
            "2\n",
            "2\n",
            "3\n",
            "3\n",
            "3\n",
            "4\n",
            "4\n",
            "4\n",
            "5\n",
            "5\n",
            "5\n",
            "merhaba\n"
          ]
        }
      ]
    },
    {
      "cell_type": "code",
      "source": [
        "for item in (1,2,3,4,5):\n",
        "  for x in ['a','b','c']:\n",
        "    print(item, x)"
      ],
      "metadata": {
        "colab": {
          "base_uri": "https://localhost:8080/"
        },
        "id": "h3NbIf_Zxf23",
        "outputId": "4af1d7a1-45a9-4092-a361-079616acf0a7"
      },
      "id": "h3NbIf_Zxf23",
      "execution_count": null,
      "outputs": [
        {
          "output_type": "stream",
          "name": "stdout",
          "text": [
            "1 a\n",
            "1 b\n",
            "1 c\n",
            "2 a\n",
            "2 b\n",
            "2 c\n",
            "3 a\n",
            "3 b\n",
            "3 c\n",
            "4 a\n",
            "4 b\n",
            "4 c\n",
            "5 a\n",
            "5 b\n",
            "5 c\n"
          ]
        }
      ]
    },
    {
      "cell_type": "markdown",
      "source": [
        "# Iterables\n",
        "\n",
        "Yinelenebilir, üzerinde yineleme yapılabilen bir nesne ya da koleksiyondur. List, dict, tuple, set, string olabilir.\n",
        "Yinelenebilir olması teker teker gidebilir, koleksiyondaki her bir öğeyi kontrol etmek için.\n"
      ],
      "metadata": {
        "id": "R3bNMoTXx1tG"
      },
      "id": "R3bNMoTXx1tG"
    },
    {
      "cell_type": "code",
      "source": [
        "user = {\n",
        "\t'name' : \"animal\",\n",
        "\t'age' : 12,\n",
        "\t'can_swim' : False\n",
        "}\n",
        "for item in user:\n",
        "\tprint(item)\n"
      ],
      "metadata": {
        "colab": {
          "base_uri": "https://localhost:8080/"
        },
        "id": "mJhw0O5txtCv",
        "outputId": "228eadd9-18c6-443b-a60f-698a08089caf"
      },
      "id": "mJhw0O5txtCv",
      "execution_count": null,
      "outputs": [
        {
          "output_type": "stream",
          "name": "stdout",
          "text": [
            "name\n",
            "age\n",
            "can_swim\n"
          ]
        }
      ]
    },
    {
      "cell_type": "markdown",
      "source": [
        "Sözlükler, anahtarları ve değerleri üzerinde döngü yapmak istediğimizde gerçekten çok yararlı olan üç yönteme sahiptir. Bu yöntemler ile sözlükler üzerinde yineleme yapılabilir."
      ],
      "metadata": {
        "id": "YI8B9xZe9TkA"
      },
      "id": "YI8B9xZe9TkA"
    },
    {
      "cell_type": "code",
      "source": [
        "for item in user.items():\n",
        "\tprint(item)"
      ],
      "metadata": {
        "colab": {
          "base_uri": "https://localhost:8080/"
        },
        "id": "Y_bbhOrB9GBa",
        "outputId": "97872bfe-4166-4764-aa10-87b56f2a11f0"
      },
      "id": "Y_bbhOrB9GBa",
      "execution_count": null,
      "outputs": [
        {
          "output_type": "stream",
          "name": "stdout",
          "text": [
            "('name', 'animal')\n",
            "('age', 12)\n",
            "('can_swim', False)\n"
          ]
        }
      ]
    },
    {
      "cell_type": "code",
      "source": [
        "for item in user.values():\n",
        "\tprint(item)"
      ],
      "metadata": {
        "colab": {
          "base_uri": "https://localhost:8080/"
        },
        "id": "c-2FIy8q9baU",
        "outputId": "66c24d22-ce23-4c12-9c35-d27db65da2ee"
      },
      "id": "c-2FIy8q9baU",
      "execution_count": null,
      "outputs": [
        {
          "output_type": "stream",
          "name": "stdout",
          "text": [
            "animal\n",
            "12\n",
            "False\n"
          ]
        }
      ]
    },
    {
      "cell_type": "code",
      "source": [
        "for item in user.keys():\n",
        "\tprint(item)"
      ],
      "metadata": {
        "colab": {
          "base_uri": "https://localhost:8080/"
        },
        "id": "34br8DaQ9g8w",
        "outputId": "c17b91e0-2386-47e1-82ab-f16ef6bd3006"
      },
      "id": "34br8DaQ9g8w",
      "execution_count": null,
      "outputs": [
        {
          "output_type": "stream",
          "name": "stdout",
          "text": [
            "name\n",
            "age\n",
            "can_swim\n"
          ]
        }
      ]
    },
    {
      "cell_type": "code",
      "source": [
        "for item in user.items() :\n",
        "\tkey, value = item;\n",
        "\tprint(key, value)"
      ],
      "metadata": {
        "colab": {
          "base_uri": "https://localhost:8080/"
        },
        "id": "DdGjzQel9lRf",
        "outputId": "026a5267-79b6-4985-e754-0e02b89c64d1"
      },
      "id": "DdGjzQel9lRf",
      "execution_count": null,
      "outputs": [
        {
          "output_type": "stream",
          "name": "stdout",
          "text": [
            "name animal\n",
            "age 12\n",
            "can_swim False\n"
          ]
        }
      ]
    },
    {
      "cell_type": "code",
      "source": [
        "for keys, value in user.items():\n",
        "  print(keys, value)"
      ],
      "metadata": {
        "colab": {
          "base_uri": "https://localhost:8080/"
        },
        "id": "fW7hRNQm95yb",
        "outputId": "261692ac-f8a3-4c9e-a51e-961c7a42c9a1"
      },
      "id": "fW7hRNQm95yb",
      "execution_count": null,
      "outputs": [
        {
          "output_type": "stream",
          "name": "stdout",
          "text": [
            "name animal\n",
            "age 12\n",
            "can_swim False\n"
          ]
        }
      ]
    },
    {
      "cell_type": "markdown",
      "source": [
        "Eğer bir sözlüğün öğelerini topluyorsan, onları değere ayırabileceğin ve hatta farklı isimlendirme yapabileceğin bir model oluşturabilirsin."
      ],
      "metadata": {
        "id": "fldcAczy-RIr"
      },
      "id": "fldcAczy-RIr"
    },
    {
      "cell_type": "markdown",
      "source": [
        "# Örnek"
      ],
      "metadata": {
        "id": "7EPF8cc8-hEe"
      },
      "id": "7EPF8cc8-hEe"
    },
    {
      "cell_type": "markdown",
      "source": [
        "Yinelenebilir liste üzerinde döngü yapıp listenin toplamını toplamak için döngü kullan.\n",
        "Başlangıçta sıfıra eşit olacak sayaç değişkeni oluştur.\n"
      ],
      "metadata": {
        "id": "hu0gl3SZGoeS"
      },
      "id": "hu0gl3SZGoeS"
    },
    {
      "cell_type": "code",
      "source": [
        "listem = [1,2,3,4,5]\n",
        "toplam = 0\n",
        "for sayi in listem:\n",
        "  toplam = toplam + sayi\n",
        "print(toplam)"
      ],
      "metadata": {
        "colab": {
          "base_uri": "https://localhost:8080/"
        },
        "id": "DjRaMyR7GtOk",
        "outputId": "e83e24e7-9fdf-41cd-9122-e42a88f7109a"
      },
      "id": "DjRaMyR7GtOk",
      "execution_count": null,
      "outputs": [
        {
          "output_type": "stream",
          "name": "stdout",
          "text": [
            "15\n"
          ]
        }
      ]
    },
    {
      "cell_type": "code",
      "source": [
        "for sayi in listem:\n",
        "  toplam = toplam + sayi\n",
        "  print(sayi)"
      ],
      "metadata": {
        "colab": {
          "base_uri": "https://localhost:8080/"
        },
        "id": "8LkThe0DGtL8",
        "outputId": "fe4028ee-087a-47c4-de6b-cafd9241d8d6"
      },
      "id": "8LkThe0DGtL8",
      "execution_count": null,
      "outputs": [
        {
          "output_type": "stream",
          "name": "stdout",
          "text": [
            "1\n",
            "2\n",
            "3\n",
            "4\n",
            "5\n"
          ]
        }
      ]
    },
    {
      "cell_type": "markdown",
      "source": [
        "Kod bloğunun bir parçası olur ve öğe sayısı kadar yazdırılır.\n",
        "\n",
        "Tüm bu öğelerin bir sayacını veya toplamını tutabilmeniz için, döngünün dışında bir değişkene sahip olduğunuzdan emin ol. Çünkü döngü kodu tekrar tekrar çalıştırır.  \n"
      ],
      "metadata": {
        "id": "xdGQRJ2ZHRfT"
      },
      "id": "xdGQRJ2ZHRfT"
    },
    {
      "cell_type": "markdown",
      "source": [
        "# Range()"
      ],
      "metadata": {
        "id": "0cKgXTXtHgI0"
      },
      "id": "0cKgXTXtHgI0"
    },
    {
      "cell_type": "code",
      "source": [
        "print(range(100)) # range bir aralık nesnesidir."
      ],
      "metadata": {
        "colab": {
          "base_uri": "https://localhost:8080/"
        },
        "id": "Y_cpndq8GtJH",
        "outputId": "5a2f446d-b122-450d-e76c-485c13df604a"
      },
      "id": "Y_cpndq8GtJH",
      "execution_count": null,
      "outputs": [
        {
          "output_type": "stream",
          "name": "stdout",
          "text": [
            "range(0, 100)\n"
          ]
        }
      ]
    },
    {
      "cell_type": "code",
      "source": [
        "for sayi in range(50, 100):\n",
        "  print(sayi)\n",
        "\n",
        "# 99'da biter çünkü 50'de başlar ve 50 kere döngüsü vardır."
      ],
      "metadata": {
        "colab": {
          "base_uri": "https://localhost:8080/"
        },
        "id": "BV31KQXzGtGU",
        "outputId": "5d6f17c4-2ddd-48e0-b241-6516499396ce"
      },
      "id": "BV31KQXzGtGU",
      "execution_count": null,
      "outputs": [
        {
          "output_type": "stream",
          "name": "stdout",
          "text": [
            "50\n",
            "51\n",
            "52\n",
            "53\n",
            "54\n",
            "55\n",
            "56\n",
            "57\n",
            "58\n",
            "59\n",
            "60\n",
            "61\n",
            "62\n",
            "63\n",
            "64\n",
            "65\n",
            "66\n",
            "67\n",
            "68\n",
            "69\n",
            "70\n",
            "71\n",
            "72\n",
            "73\n",
            "74\n",
            "75\n",
            "76\n",
            "77\n",
            "78\n",
            "79\n",
            "80\n",
            "81\n",
            "82\n",
            "83\n",
            "84\n",
            "85\n",
            "86\n",
            "87\n",
            "88\n",
            "89\n",
            "90\n",
            "91\n",
            "92\n",
            "93\n",
            "94\n",
            "95\n",
            "96\n",
            "97\n",
            "98\n",
            "99\n"
          ]
        }
      ]
    },
    {
      "cell_type": "code",
      "source": [
        "for sayi in range(50, 80, 2):\n",
        "  print(sayi)"
      ],
      "metadata": {
        "colab": {
          "base_uri": "https://localhost:8080/"
        },
        "id": "cEbbDm7AGtCX",
        "outputId": "c4298044-637f-4f30-a9ad-790a6a0b6098"
      },
      "id": "cEbbDm7AGtCX",
      "execution_count": null,
      "outputs": [
        {
          "output_type": "stream",
          "name": "stdout",
          "text": [
            "50\n",
            "52\n",
            "54\n",
            "56\n",
            "58\n",
            "60\n",
            "62\n",
            "64\n",
            "66\n",
            "68\n",
            "70\n",
            "72\n",
            "74\n",
            "76\n",
            "78\n"
          ]
        }
      ]
    },
    {
      "cell_type": "code",
      "source": [
        "for sayi in range (0, 10):\n",
        "  print(\"merhaba\")"
      ],
      "metadata": {
        "colab": {
          "base_uri": "https://localhost:8080/"
        },
        "id": "f2HbuzGNGs_S",
        "outputId": "dad375fe-1cd4-49de-e81a-ac56257d7677"
      },
      "id": "f2HbuzGNGs_S",
      "execution_count": null,
      "outputs": [
        {
          "output_type": "stream",
          "name": "stdout",
          "text": [
            "merhaba\n",
            "merhaba\n",
            "merhaba\n",
            "merhaba\n",
            "merhaba\n",
            "merhaba\n",
            "merhaba\n",
            "merhaba\n",
            "merhaba\n",
            "merhaba\n"
          ]
        }
      ]
    },
    {
      "cell_type": "code",
      "source": [
        "for _ in range(0, 10):\n",
        "  print(_)"
      ],
      "metadata": {
        "id": "XX1BEik799_I",
        "colab": {
          "base_uri": "https://localhost:8080/"
        },
        "outputId": "e5e450cb-6b05-4412-f171-c81d7c901d5c"
      },
      "id": "XX1BEik799_I",
      "execution_count": null,
      "outputs": [
        {
          "output_type": "stream",
          "name": "stdout",
          "text": [
            "0\n",
            "1\n",
            "2\n",
            "3\n",
            "4\n",
            "5\n",
            "6\n",
            "7\n",
            "8\n",
            "9\n"
          ]
        }
      ]
    },
    {
      "cell_type": "code",
      "source": [
        "for _ in range(0, 10, 2):\n",
        "  print(_)"
      ],
      "metadata": {
        "id": "3UDPEu0b-n14",
        "colab": {
          "base_uri": "https://localhost:8080/"
        },
        "outputId": "04a3f335-c459-4e13-de29-69288d536ebe"
      },
      "id": "3UDPEu0b-n14",
      "execution_count": null,
      "outputs": [
        {
          "output_type": "stream",
          "name": "stdout",
          "text": [
            "0\n",
            "2\n",
            "4\n",
            "6\n",
            "8\n"
          ]
        }
      ]
    },
    {
      "cell_type": "markdown",
      "source": [
        "Range üzerinde yineleme yapabileceğimiz özel bir nesen oluşturur. Geri adım attıracaksan eksiyi kullan."
      ],
      "metadata": {
        "id": "WGuiSFEYKm2h"
      },
      "id": "WGuiSFEYKm2h"
    },
    {
      "cell_type": "code",
      "source": [
        "for _ in range(10, 0, -1):\n",
        "  print(_)"
      ],
      "metadata": {
        "colab": {
          "base_uri": "https://localhost:8080/"
        },
        "id": "shw0LpcWJSca",
        "outputId": "2323c0df-5027-464b-a2ce-7c29bcbc8064"
      },
      "id": "shw0LpcWJSca",
      "execution_count": null,
      "outputs": [
        {
          "output_type": "stream",
          "name": "stdout",
          "text": [
            "10\n",
            "9\n",
            "8\n",
            "7\n",
            "6\n",
            "5\n",
            "4\n",
            "3\n",
            "2\n",
            "1\n"
          ]
        }
      ]
    },
    {
      "cell_type": "code",
      "source": [
        "for _ in range(10, 0, -2):\n",
        "  print(list(range(10)))"
      ],
      "metadata": {
        "colab": {
          "base_uri": "https://localhost:8080/"
        },
        "id": "yweACx79Kx-g",
        "outputId": "f320a372-a7d5-4e8f-d1c0-8ffcdbb62ef7"
      },
      "id": "yweACx79Kx-g",
      "execution_count": null,
      "outputs": [
        {
          "output_type": "stream",
          "name": "stdout",
          "text": [
            "[0, 1, 2, 3, 4, 5, 6, 7, 8, 9]\n",
            "[0, 1, 2, 3, 4, 5, 6, 7, 8, 9]\n",
            "[0, 1, 2, 3, 4, 5, 6, 7, 8, 9]\n",
            "[0, 1, 2, 3, 4, 5, 6, 7, 8, 9]\n",
            "[0, 1, 2, 3, 4, 5, 6, 7, 8, 9]\n"
          ]
        }
      ]
    },
    {
      "cell_type": "code",
      "source": [
        "for _ in range(2):\n",
        "  print(list(range(10)))"
      ],
      "metadata": {
        "colab": {
          "base_uri": "https://localhost:8080/"
        },
        "id": "-zqHdlJKK8QM",
        "outputId": "f72ae0db-797b-4a4c-99f1-7e51f90d81a5"
      },
      "id": "-zqHdlJKK8QM",
      "execution_count": null,
      "outputs": [
        {
          "output_type": "stream",
          "name": "stdout",
          "text": [
            "[0, 1, 2, 3, 4, 5, 6, 7, 8, 9]\n",
            "[0, 1, 2, 3, 4, 5, 6, 7, 8, 9]\n"
          ]
        }
      ]
    },
    {
      "cell_type": "markdown",
      "source": [
        "# Enumarate"
      ],
      "metadata": {
        "id": "KJwcHoiFLJ9u"
      },
      "id": "KJwcHoiFLJ9u"
    },
    {
      "cell_type": "markdown",
      "source": [
        "Numaralandırmak istediğin şeyin etrafını sarar. Yineleme yapılabilecek bir şey verilmeli.\n",
        "\n",
        "Özeldir, çünkü bize vereceği şey bir iterable nesnesi alır ve size bir indeks sayacı ve indeksin öğesini verir.\n"
      ],
      "metadata": {
        "id": "8QROdmyZLT_K"
      },
      "id": "8QROdmyZLT_K"
    },
    {
      "cell_type": "code",
      "source": [
        "for a, b in enumerate (\"merhaba\"):\n",
        "  print(a, b)"
      ],
      "metadata": {
        "colab": {
          "base_uri": "https://localhost:8080/"
        },
        "id": "gUryG_JeLHV2",
        "outputId": "1d26ede9-3b4e-4444-b847-09ba95b67e4b"
      },
      "id": "gUryG_JeLHV2",
      "execution_count": null,
      "outputs": [
        {
          "output_type": "stream",
          "name": "stdout",
          "text": [
            "0 m\n",
            "1 e\n",
            "2 r\n",
            "3 h\n",
            "4 a\n",
            "5 b\n",
            "6 a\n"
          ]
        }
      ]
    },
    {
      "cell_type": "markdown",
      "source": [
        "Numaralandırma yapmasaydık sadece \"merhaba\" yazardı ama enumerate kullandığımız için her öğenin bir gözünü veya dizinini veya dizinde nerede olduğunu alırız."
      ],
      "metadata": {
        "id": "asheZlLaM5yh"
      },
      "id": "asheZlLaM5yh"
    },
    {
      "cell_type": "markdown",
      "source": [
        "Python'da enumerate() fonksiyonu, bir iterable'ı alır ve her bir öğe için sıra numarası ve öğeyi içeren bir tuple döndürür. Ancak, enumerate() fonksiyonu tek bir iterable alır. Verilen kodda ise enumerate'ın aldığı argümanlar çok fazla."
      ],
      "metadata": {
        "id": "tGZf3MyNR6cy"
      },
      "id": "tGZf3MyNR6cy"
    },
    {
      "cell_type": "code",
      "source": [
        "for a, b in enumerate (1, 2, 3, 4, 5, 6):\n",
        "  print(a, b)"
      ],
      "metadata": {
        "colab": {
          "base_uri": "https://localhost:8080/",
          "height": 190
        },
        "id": "SofiSFC8Lt7i",
        "outputId": "a600cc56-9015-4433-81df-f29d63648fbb"
      },
      "id": "SofiSFC8Lt7i",
      "execution_count": null,
      "outputs": [
        {
          "output_type": "error",
          "ename": "TypeError",
          "evalue": "enumerate() takes at most 2 arguments (6 given)",
          "traceback": [
            "\u001b[0;31m---------------------------------------------------------------------------\u001b[0m",
            "\u001b[0;31mTypeError\u001b[0m                                 Traceback (most recent call last)",
            "\u001b[0;32m<ipython-input-18-e0aca6491a49>\u001b[0m in \u001b[0;36m<cell line: 1>\u001b[0;34m()\u001b[0m\n\u001b[0;32m----> 1\u001b[0;31m \u001b[0;32mfor\u001b[0m \u001b[0ma\u001b[0m\u001b[0;34m,\u001b[0m \u001b[0mb\u001b[0m \u001b[0;32min\u001b[0m \u001b[0menumerate\u001b[0m \u001b[0;34m(\u001b[0m\u001b[0;36m1\u001b[0m\u001b[0;34m,\u001b[0m \u001b[0;36m2\u001b[0m\u001b[0;34m,\u001b[0m \u001b[0;36m3\u001b[0m\u001b[0;34m,\u001b[0m \u001b[0;36m4\u001b[0m\u001b[0;34m,\u001b[0m \u001b[0;36m5\u001b[0m\u001b[0;34m,\u001b[0m \u001b[0;36m6\u001b[0m\u001b[0;34m)\u001b[0m\u001b[0;34m:\u001b[0m\u001b[0;34m\u001b[0m\u001b[0;34m\u001b[0m\u001b[0m\n\u001b[0m\u001b[1;32m      2\u001b[0m   \u001b[0mprint\u001b[0m\u001b[0;34m(\u001b[0m\u001b[0ma\u001b[0m\u001b[0;34m,\u001b[0m \u001b[0mb\u001b[0m\u001b[0;34m)\u001b[0m\u001b[0;34m\u001b[0m\u001b[0;34m\u001b[0m\u001b[0m\n",
            "\u001b[0;31mTypeError\u001b[0m: enumerate() takes at most 2 arguments (6 given)"
          ]
        }
      ]
    },
    {
      "cell_type": "code",
      "source": [
        "for a, b in enumerate([1, 2, 3, 4, 5, 6]):\n",
        "    print(a, b)\n"
      ],
      "metadata": {
        "colab": {
          "base_uri": "https://localhost:8080/"
        },
        "id": "iBcpBXCSNFEa",
        "outputId": "dd1db8a4-8004-485f-f155-5b6dee99d9ee"
      },
      "id": "iBcpBXCSNFEa",
      "execution_count": null,
      "outputs": [
        {
          "output_type": "stream",
          "name": "stdout",
          "text": [
            "0 1\n",
            "1 2\n",
            "2 3\n",
            "3 4\n",
            "4 5\n",
            "5 6\n"
          ]
        }
      ]
    },
    {
      "cell_type": "code",
      "source": [
        "for a, b in enumerate((1, 2, 3, 4, 5, 6)):\n",
        "    print(a, b)\n"
      ],
      "metadata": {
        "colab": {
          "base_uri": "https://localhost:8080/"
        },
        "id": "c8p-5joGR-Uq",
        "outputId": "8609343f-d512-4f56-a27a-c261b872e4b8"
      },
      "id": "c8p-5joGR-Uq",
      "execution_count": null,
      "outputs": [
        {
          "output_type": "stream",
          "name": "stdout",
          "text": [
            "0 1\n",
            "1 2\n",
            "2 3\n",
            "3 4\n",
            "4 5\n",
            "5 6\n"
          ]
        }
      ]
    },
    {
      "cell_type": "markdown",
      "source": [
        "Döngüye soktuğunuz öğenin indeks sayacına ihtiyacın varsa kullanışlı."
      ],
      "metadata": {
        "id": "Yjf9GN-fSPhU"
      },
      "id": "Yjf9GN-fSPhU"
    },
    {
      "cell_type": "code",
      "source": [
        "# 100’e kadar sayaç yazdır ve 50’nin indeksini yazdır.\n",
        "for a, b in enumerate(list(range(100))):\n",
        "  if b == 50:\n",
        "    print(f'50 indexi: {a}')"
      ],
      "metadata": {
        "colab": {
          "base_uri": "https://localhost:8080/"
        },
        "id": "07r8EICASKQj",
        "outputId": "a92502de-1923-4042-9838-814b5c4d4405"
      },
      "id": "07r8EICASKQj",
      "execution_count": null,
      "outputs": [
        {
          "output_type": "stream",
          "name": "stdout",
          "text": [
            "50 indexi: 50\n"
          ]
        }
      ]
    },
    {
      "cell_type": "code",
      "source": [
        "for a, b in enumerate(list(range(100))):\n",
        "  print(a, b)\n",
        "  if b == 50:\n",
        "    print(f'50 indexi: {a}')"
      ],
      "metadata": {
        "colab": {
          "base_uri": "https://localhost:8080/"
        },
        "id": "4QvDtJLhSiAP",
        "outputId": "a2b3ae3a-9abe-4fea-e7eb-547fd9594b34"
      },
      "id": "4QvDtJLhSiAP",
      "execution_count": null,
      "outputs": [
        {
          "output_type": "stream",
          "name": "stdout",
          "text": [
            "0 0\n",
            "1 1\n",
            "2 2\n",
            "3 3\n",
            "4 4\n",
            "5 5\n",
            "6 6\n",
            "7 7\n",
            "8 8\n",
            "9 9\n",
            "10 10\n",
            "11 11\n",
            "12 12\n",
            "13 13\n",
            "14 14\n",
            "15 15\n",
            "16 16\n",
            "17 17\n",
            "18 18\n",
            "19 19\n",
            "20 20\n",
            "21 21\n",
            "22 22\n",
            "23 23\n",
            "24 24\n",
            "25 25\n",
            "26 26\n",
            "27 27\n",
            "28 28\n",
            "29 29\n",
            "30 30\n",
            "31 31\n",
            "32 32\n",
            "33 33\n",
            "34 34\n",
            "35 35\n",
            "36 36\n",
            "37 37\n",
            "38 38\n",
            "39 39\n",
            "40 40\n",
            "41 41\n",
            "42 42\n",
            "43 43\n",
            "44 44\n",
            "45 45\n",
            "46 46\n",
            "47 47\n",
            "48 48\n",
            "49 49\n",
            "50 50\n",
            "50 indexi: 50\n",
            "51 51\n",
            "52 52\n",
            "53 53\n",
            "54 54\n",
            "55 55\n",
            "56 56\n",
            "57 57\n",
            "58 58\n",
            "59 59\n",
            "60 60\n",
            "61 61\n",
            "62 62\n",
            "63 63\n",
            "64 64\n",
            "65 65\n",
            "66 66\n",
            "67 67\n",
            "68 68\n",
            "69 69\n",
            "70 70\n",
            "71 71\n",
            "72 72\n",
            "73 73\n",
            "74 74\n",
            "75 75\n",
            "76 76\n",
            "77 77\n",
            "78 78\n",
            "79 79\n",
            "80 80\n",
            "81 81\n",
            "82 82\n",
            "83 83\n",
            "84 84\n",
            "85 85\n",
            "86 86\n",
            "87 87\n",
            "88 88\n",
            "89 89\n",
            "90 90\n",
            "91 91\n",
            "92 92\n",
            "93 93\n",
            "94 94\n",
            "95 95\n",
            "96 96\n",
            "97 97\n",
            "98 98\n",
            "99 99\n"
          ]
        }
      ]
    },
    {
      "cell_type": "markdown",
      "source": [
        "# While Döngüsü"
      ],
      "metadata": {
        "id": "vc37QSVnS6Us"
      },
      "id": "vc37QSVnS6Us"
    },
    {
      "cell_type": "code",
      "source": [
        "# i = 0\n",
        "# while i < 50:\n",
        "#  print(i)\n",
        "\n",
        "# i 50'den küçük olduğu müddetçe yazdırmaya devam eder. Sürekli yazdırır."
      ],
      "metadata": {
        "id": "5jtvrGz8SutT"
      },
      "id": "5jtvrGz8SutT",
      "execution_count": null,
      "outputs": []
    },
    {
      "cell_type": "code",
      "source": [
        "i = 0\n",
        "while 0 < 50:\n",
        "  print(i)\n",
        "  break"
      ],
      "metadata": {
        "id": "zcSNnKcGS_Rc"
      },
      "id": "zcSNnKcGS_Rc",
      "execution_count": null,
      "outputs": []
    },
    {
      "cell_type": "code",
      "source": [
        "i = 0\n",
        "while i < 50:\n",
        "  print(i)\n",
        "  i = i + 1 # veya i += 49\n",
        "else:\n",
        "  print(\"while döngüsü bitti\") # 1'den 50'ye kadar alt alta yazdırılır."
      ],
      "metadata": {
        "id": "1pEn6J5DN8T5",
        "colab": {
          "base_uri": "https://localhost:8080/"
        },
        "outputId": "50a23532-199b-408a-d03a-467711dcdc5e"
      },
      "id": "1pEn6J5DN8T5",
      "execution_count": null,
      "outputs": [
        {
          "output_type": "stream",
          "name": "stdout",
          "text": [
            "0\n",
            "1\n",
            "2\n",
            "3\n",
            "4\n",
            "5\n",
            "6\n",
            "7\n",
            "8\n",
            "9\n",
            "10\n",
            "11\n",
            "12\n",
            "13\n",
            "14\n",
            "15\n",
            "16\n",
            "17\n",
            "18\n",
            "19\n",
            "20\n",
            "21\n",
            "22\n",
            "23\n",
            "24\n",
            "25\n",
            "26\n",
            "27\n",
            "28\n",
            "29\n",
            "30\n",
            "31\n",
            "32\n",
            "33\n",
            "34\n",
            "35\n",
            "36\n",
            "37\n",
            "38\n",
            "39\n",
            "40\n",
            "41\n",
            "42\n",
            "43\n",
            "44\n",
            "45\n",
            "46\n",
            "47\n",
            "48\n",
            "49\n",
            "while döngüsü bitti\n"
          ]
        }
      ]
    },
    {
      "cell_type": "code",
      "source": [
        "i = 0\n",
        "while i < 50:\n",
        "  print(i)\n",
        "  i = i + 1\n",
        "  break\n",
        "else:\n",
        "  print(\"while döngüsü bitti\")\n",
        "\n",
        "# else bloğu break olmadığında çalışır."
      ],
      "metadata": {
        "id": "TLSrPam3OPf1",
        "colab": {
          "base_uri": "https://localhost:8080/"
        },
        "outputId": "caa0dddd-97cf-4ca3-ff60-f4bef5c9dbe6"
      },
      "id": "TLSrPam3OPf1",
      "execution_count": null,
      "outputs": [
        {
          "output_type": "stream",
          "name": "stdout",
          "text": [
            "0\n"
          ]
        }
      ]
    },
    {
      "cell_type": "code",
      "source": [
        "i = 0\n",
        "while i < 50:\n",
        "  i = i + 1\n",
        "  print(i)\n",
        "else:\n",
        "  print(\"while döngüsü bitti\")"
      ],
      "metadata": {
        "colab": {
          "base_uri": "https://localhost:8080/"
        },
        "id": "rk6F98X5Sq5T",
        "outputId": "46d659c9-855a-440e-a14d-765fd94e90ca"
      },
      "id": "rk6F98X5Sq5T",
      "execution_count": null,
      "outputs": [
        {
          "output_type": "stream",
          "name": "stdout",
          "text": [
            "1\n",
            "2\n",
            "3\n",
            "4\n",
            "5\n",
            "6\n",
            "7\n",
            "8\n",
            "9\n",
            "10\n",
            "11\n",
            "12\n",
            "13\n",
            "14\n",
            "15\n",
            "16\n",
            "17\n",
            "18\n",
            "19\n",
            "20\n",
            "21\n",
            "22\n",
            "23\n",
            "24\n",
            "25\n",
            "26\n",
            "27\n",
            "28\n",
            "29\n",
            "30\n",
            "31\n",
            "32\n",
            "33\n",
            "34\n",
            "35\n",
            "36\n",
            "37\n",
            "38\n",
            "39\n",
            "40\n",
            "41\n",
            "42\n",
            "43\n",
            "44\n",
            "45\n",
            "46\n",
            "47\n",
            "48\n",
            "49\n",
            "50\n",
            "while döngüsü bitti\n"
          ]
        }
      ]
    },
    {
      "cell_type": "code",
      "source": [
        "listem = [1,2,3,4,5]\n",
        "for a in listem:\n",
        "  print(a)"
      ],
      "metadata": {
        "colab": {
          "base_uri": "https://localhost:8080/"
        },
        "id": "T92ZcmBCSzUV",
        "outputId": "3b6b50b3-8130-4965-974f-eb722281102b"
      },
      "id": "T92ZcmBCSzUV",
      "execution_count": null,
      "outputs": [
        {
          "output_type": "stream",
          "name": "stdout",
          "text": [
            "1\n",
            "2\n",
            "3\n",
            "4\n",
            "5\n"
          ]
        }
      ]
    },
    {
      "cell_type": "code",
      "source": [
        "a = 0\n",
        "while a < len(listem):\n",
        "  print(listem[a])\n",
        "  a += 1"
      ],
      "metadata": {
        "colab": {
          "base_uri": "https://localhost:8080/"
        },
        "id": "ulH1pNQcTZlc",
        "outputId": "8af0a542-4cdd-4dd2-8a08-fbf394170cca"
      },
      "id": "ulH1pNQcTZlc",
      "execution_count": null,
      "outputs": [
        {
          "output_type": "stream",
          "name": "stdout",
          "text": [
            "1\n",
            "2\n",
            "3\n",
            "4\n",
            "5\n"
          ]
        }
      ]
    },
    {
      "cell_type": "markdown",
      "source": [
        "For döngüsü basittir, okuması kolaydır. While ise çok esnektir. While için bu değişkeni oluşturmamız ve sürekli devam eden bir döngü yaşamamak için değişkeni arttırmayı unutmadığımızdan emin olmalıyız.\n",
        "\n",
        "Basit döngüler ve yinelenebilir nesneler üzerinde for döngüsü kullanmalısın. Ama bir şey üzerinde kaç kez döngü yapmak istediğinden emin değilsen, bir şey doğruysa döngüye devam etmeli diyorsan while kullanmalısın.\n",
        "\n",
        "Diyelim ki bir liste var liste başı mail atmak istiyorsun. Burada kullan.\n",
        "\n",
        "while True:\n",
        "\n",
        "    input(‘say sth’)\n",
        "\n",
        "Çıktıda sürekli bunu sorar cevap girdikçe.\n"
      ],
      "metadata": {
        "id": "YfHiwvdeT893"
      },
      "id": "YfHiwvdeT893"
    },
    {
      "cell_type": "code",
      "source": [
        "while True:\n",
        "  cevap = input(\"cevap yazınız\")\n",
        "  if cevap == \"güle güle\":\n",
        "    break"
      ],
      "metadata": {
        "colab": {
          "base_uri": "https://localhost:8080/"
        },
        "id": "19YDr-gyT6BR",
        "outputId": "434f81e9-0f67-47be-d80e-4f9b4b3ec6c1"
      },
      "id": "19YDr-gyT6BR",
      "execution_count": null,
      "outputs": [
        {
          "name": "stdout",
          "output_type": "stream",
          "text": [
            "cevap yazınıza\n",
            "cevap yazınıza\n",
            "cevap yazınızgüle güle\n"
          ]
        }
      ]
    },
    {
      "cell_type": "markdown",
      "source": [
        "# Break, Continue, Pass\n",
        "\n",
        "Continue’yi gördüğünde döngüye devam eder ve döngü bitene kadar devam eder, devam eder, böylece aslında hiçbir zaman yeni satırlara ulaşamaz.\n",
        "\n",
        "Pass hiçbir işe yaramaz, sadece yer tutucu varsa faydalı. Örneğin for döngüsü içinde döngü yapmak istersin, ancak kodda henüz ne yapmak istediğini bilmiyorsun.\n"
      ],
      "metadata": {
        "id": "HJ16B9-rVZs3"
      },
      "id": "HJ16B9-rVZs3"
    },
    {
      "cell_type": "markdown",
      "source": [
        "# Örnek\n",
        "\n",
        "Listeler arasında dolaş ve her sıfırla karşılaştığında ekranda boş bir alan göster. 0'sa boşluk 1 se *"
      ],
      "metadata": {
        "id": "PXGOxapeVzIn"
      },
      "id": "PXGOxapeVzIn"
    },
    {
      "cell_type": "code",
      "source": [
        "resim = [\n",
        "[0, 0, 0, 1, 0, 0, 0],\n",
        "[0, 0, 1, 1, 1, 0, 0],\n",
        "[0, 1, 1, 1, 1, 1, 0],\n",
        "[1, 1, 1, 1, 1, 1, 1],\n",
        "[0, 0, 0, 1, 0, 0, 0],\n",
        "[0, 0, 0, 1, 0, 0, 0]\n",
        "]\n",
        "\n",
        "for satir in resim:\n",
        "  for sutun in satir:\n",
        "    if sutun == 1:\n",
        "      print(\"*\", end=\" \")\n",
        "    else:\n",
        "      print(\" \", end=\" \")\n",
        "  print(\" \")"
      ],
      "metadata": {
        "colab": {
          "base_uri": "https://localhost:8080/"
        },
        "id": "ZhbYU1inUurV",
        "outputId": "dc04925b-ef2f-4b48-84ba-009697dda5ca"
      },
      "id": "ZhbYU1inUurV",
      "execution_count": null,
      "outputs": [
        {
          "output_type": "stream",
          "name": "stdout",
          "text": [
            "      *        \n",
            "    * * *      \n",
            "  * * * * *    \n",
            "* * * * * * *  \n",
            "      *        \n",
            "      *        \n"
          ]
        }
      ]
    },
    {
      "cell_type": "markdown",
      "source": [
        "# Unutma\n",
        "\n",
        "Yalın kod;\n",
        "- okunabilirlik\n",
        "- tahmin edilebilirlik\n",
        "- kendini tekrar etmeyen"
      ],
      "metadata": {
        "id": "6a1gxbu2Wgl0"
      },
      "id": "6a1gxbu2Wgl0"
    },
    {
      "cell_type": "markdown",
      "source": [
        "# Örnek: Kopyaları bul\n",
        "\n",
        "Yinelenen değerleri kontrol et. \"kopyalar\" isminde bir değişken oluştur ve yinelenen değerleri dolduracağımız boş bir liste oluştur. Sonra bu liste üzerinde döngü yap. Eğer liste sayılmazsa count bir ögenin kaç kere var olduğunu sayar. Eğer 1'den büyükse bunun kopyası var demektir. Öyleyse kopyalar içine eklenir (append ile).\n",
        "\n",
        "if deger not in kopyalar --> kopyaların bir değeri var mı? Doğru yanlış gibi değerlendirir."
      ],
      "metadata": {
        "id": "GDcTUQ3JXFf4"
      },
      "id": "GDcTUQ3JXFf4"
    },
    {
      "cell_type": "code",
      "source": [
        "liste = [\"a\", \"b\", \"c\", \"d\", \"b\", \"c\", \"e\", \"d\"]\n",
        "kopyalar = []\n",
        "for deger in liste:\n",
        "  if liste.count(deger) > 1 and deger not in kopyalar:\n",
        "    kopyalar.append(deger)\n",
        "print(kopyalar)"
      ],
      "metadata": {
        "colab": {
          "base_uri": "https://localhost:8080/"
        },
        "id": "IAn3zBPVWKLN",
        "outputId": "4cadbab4-17d0-46b5-a038-c73f5a226fa3"
      },
      "id": "IAn3zBPVWKLN",
      "execution_count": null,
      "outputs": [
        {
          "output_type": "stream",
          "name": "stdout",
          "text": [
            "['b', 'c', 'd']\n"
          ]
        }
      ]
    },
    {
      "cell_type": "code",
      "source": [
        "liste = [\"a\", \"b\", \"c\", \"d\", \"b\", \"c\", \"e\", \"d\"]\n",
        "kopyalar = []\n",
        "for deger in liste:\n",
        "  if liste.count(deger) > 1:\n",
        "    if deger not in kopyalar:\n",
        "      kopyalar.append(deger)\n",
        "print(kopyalar)"
      ],
      "metadata": {
        "colab": {
          "base_uri": "https://localhost:8080/"
        },
        "id": "QjwrbbDzYc_i",
        "outputId": "430f73a6-c3ea-433a-d592-96902cd54df8"
      },
      "id": "QjwrbbDzYc_i",
      "execution_count": null,
      "outputs": [
        {
          "output_type": "stream",
          "name": "stdout",
          "text": [
            "['b', 'c', 'd']\n"
          ]
        }
      ]
    },
    {
      "cell_type": "markdown",
      "source": [
        "# Fonksiyonlar\n",
        "\n",
        "- def --> define. Fonksiyonları tanımlamak için değişkenlere yaptığımız aynı adlandırma durumunu kullanırız.\n",
        "- def ile fonksiyon tanımlarız ve () kullanırız, yorumlayıcıya bunun üzerinde işlem yapacağımız bir şey olduğunu veya bunun bir veri türü üzerinde bir eylem gerçekleştireceğini bildiririz."
      ],
      "metadata": {
        "id": "4QUyOvoEYsM6"
      },
      "id": "4QUyOvoEYsM6"
    },
    {
      "cell_type": "code",
      "source": [
        "def topla(a, b):\n",
        "  return a + b"
      ],
      "metadata": {
        "id": "p3lJbl3nYoy0"
      },
      "id": "p3lJbl3nYoy0",
      "execution_count": null,
      "outputs": []
    },
    {
      "cell_type": "code",
      "source": [
        "def agac():\n",
        "  for satir in resim:\n",
        "    for sutun in satir:\n",
        "      if sutun == 1:\n",
        "        print(\"*\", end=\" \")\n",
        "      else:\n",
        "        print(\" \", end=\" \")\n",
        "    print(\" \")\n",
        "\n",
        "agac() # bu satır yazmadan aşağıdaki çıktıyı alamazsın."
      ],
      "metadata": {
        "colab": {
          "base_uri": "https://localhost:8080/"
        },
        "id": "OmT3Zie2Y7QH",
        "outputId": "ded0dfd6-f5d3-404e-af61-c055e558eb2e"
      },
      "id": "OmT3Zie2Y7QH",
      "execution_count": null,
      "outputs": [
        {
          "output_type": "stream",
          "name": "stdout",
          "text": [
            "      *        \n",
            "    * * *      \n",
            "  * * * * *    \n",
            "* * * * * * *  \n",
            "      *        \n",
            "      *        \n"
          ]
        }
      ]
    },
    {
      "cell_type": "markdown",
      "source": [
        "# Parametreler ve Bağımsız Değişkenler\n",
        "### Parameters and Arguments\n",
        "\n",
        "Fonksiyonlarda parantez içine parametre adı verilen değişkenler verilebilir. Bu değişkenler bu fonksiyon içinde kullanılabilir.\n",
        "\n",
        "Argümanlar, bir fonksiyona sağladığımız gerçek değerlerdir.\n",
        "\n",
        "Yani parametreler fonksiyonu tanımladığımızda, argümanlar ise fonksiyonu çağırdığımızda kullanılır.\n"
      ],
      "metadata": {
        "id": "ZqYf3g1_Z-XT"
      },
      "id": "ZqYf3g1_Z-XT"
    },
    {
      "cell_type": "code",
      "source": [
        "# Default Parameters\n",
        "\n",
        "def merhaba (isim, emoji):\n",
        "  print(f'merhaba {isim} {emoji}')"
      ],
      "metadata": {
        "id": "Wm_1l11eZVbL"
      },
      "id": "Wm_1l11eZVbL",
      "execution_count": null,
      "outputs": []
    },
    {
      "cell_type": "code",
      "source": [
        "# Arguements\n",
        "\n",
        "merhaba (\"Muhammed\", \":)\")"
      ],
      "metadata": {
        "colab": {
          "base_uri": "https://localhost:8080/"
        },
        "id": "biNWTD8Cakcv",
        "outputId": "56c04c5a-eec1-4f18-89d2-b5d31edc92c7"
      },
      "id": "biNWTD8Cakcv",
      "execution_count": null,
      "outputs": [
        {
          "output_type": "stream",
          "name": "stdout",
          "text": [
            "merhaba Muhammed :)\n"
          ]
        }
      ]
    },
    {
      "cell_type": "markdown",
      "source": [
        "# Temel Parametreler ve Anahtar Kelime Değişkenler\n",
        "\n",
        "### Default Parameters and Keywords Arguments\n",
        "\n",
        "Yazımda konumsallık vardır. merhaba (\"emoji\", \"Muhammed\") yazdığında değişik yerde yazdırma olur.\n",
        "\n",
        "Konumsal argümanlar uygun konumda olması gereken argümanlardır. Yani yukarıdaki gibi, sıralama önemli."
      ],
      "metadata": {
        "id": "kMsjkkiba1wI"
      },
      "id": "kMsjkkiba1wI"
    },
    {
      "cell_type": "code",
      "source": [
        "#Keywords Arguments\n",
        "\n",
        "merhaba(emoji = \":)\", isim = \"Muhammed\")\n",
        "# konum için endişelenme :)"
      ],
      "metadata": {
        "colab": {
          "base_uri": "https://localhost:8080/"
        },
        "id": "2OlN4M1oaxN4",
        "outputId": "2e3ee7e7-4ab6-40e4-8e5d-91e392e74c40"
      },
      "id": "2OlN4M1oaxN4",
      "execution_count": null,
      "outputs": [
        {
          "output_type": "stream",
          "name": "stdout",
          "text": [
            "merhaba Muhammed :)\n"
          ]
        }
      ]
    },
    {
      "cell_type": "code",
      "source": [
        "def merhaba2 (isim = \"Muhammed\", emoji = \":)\"):\n",
        "  print(f'merhaba {emoji} {isim}')\n",
        "merhaba2()"
      ],
      "metadata": {
        "colab": {
          "base_uri": "https://localhost:8080/"
        },
        "id": "zcNpGfrXeekL",
        "outputId": "0fde8d29-8823-4d57-8e54-57a23dfa94ad"
      },
      "id": "zcNpGfrXeekL",
      "execution_count": null,
      "outputs": [
        {
          "output_type": "stream",
          "name": "stdout",
          "text": [
            "merhaba :) Muhammed\n"
          ]
        }
      ]
    },
    {
      "cell_type": "markdown",
      "source": [
        "Çünkü varsayılan parametrelerle, herhangi bir argüman olmadan çağrıldığınız için emojideki adı alamazsın.\n",
        "\n",
        "Anahtar kelime argümanları kodun okunabilirliğini arttırır çünkü say_hello’nun nasıl çağrıldığını tam olarak bilirsin. Varsayılan parametreler fonksiyonun güvenli tutulmasını sağlar çünkü bir değişken kullandığında nasıl çağrıldığından bağımsız olarak bir değişkene sahip olacağımızdan emin oluruz."
      ],
      "metadata": {
        "id": "aV95zqx9e8Ql"
      },
      "id": "aV95zqx9e8Ql"
    },
    {
      "cell_type": "markdown",
      "source": [
        "# Return\n",
        "Fonksiyonlar her zaman bir şey döndürmeleri gerekir ve burada return anahtar sözcüğü yokmuş gibi hiçbir şey döndürmediklerinde, otomatik olarak hiçbir şey döndürmez.\n"
      ],
      "metadata": {
        "id": "Z3ea2dXEfCaP"
      },
      "id": "Z3ea2dXEfCaP"
    },
    {
      "cell_type": "code",
      "source": [
        "def toplam (a, b):\n",
        "  a + b\n",
        "  return a + b\n",
        "print(toplam(55,44))"
      ],
      "metadata": {
        "colab": {
          "base_uri": "https://localhost:8080/"
        },
        "id": "jW3CzKWkexKm",
        "outputId": "4ff5e290-7e11-48b5-f7f8-f64d0aa0b7c6"
      },
      "id": "jW3CzKWkexKm",
      "execution_count": null,
      "outputs": [
        {
          "output_type": "stream",
          "name": "stdout",
          "text": [
            "99\n"
          ]
        }
      ]
    },
    {
      "cell_type": "code",
      "source": [
        "def toplam (a, b):\n",
        "  a + b\n",
        "print(toplam(55,44))"
      ],
      "metadata": {
        "colab": {
          "base_uri": "https://localhost:8080/"
        },
        "id": "963_05z2fQpC",
        "outputId": "7aab20d9-0e7d-4c79-adb6-de6b0a48edfe"
      },
      "id": "963_05z2fQpC",
      "execution_count": null,
      "outputs": [
        {
          "output_type": "stream",
          "name": "stdout",
          "text": [
            "None\n"
          ]
        }
      ]
    },
    {
      "cell_type": "markdown",
      "source": [
        "return ile bulunduğun fonksiyondan çıktığında bu ifade bize neyi veriyorsa onu döndür der."
      ],
      "metadata": {
        "id": "Pnui5iVZfxCo"
      },
      "id": "Pnui5iVZfxCo"
    },
    {
      "cell_type": "code",
      "source": [
        "def toplam(rakam1, rakam2):\n",
        "\tdef toplam2 (rakam3, rakam4):\n",
        "\t\treturn rakam3 + rakam4\n",
        "\treturn toplam2(rakam1, rakam2)\n",
        "\treturn 5\n",
        "\tprint(\"merhaba\")\n",
        "sonuc = toplam(55,44)\n",
        "print(sonuc)"
      ],
      "metadata": {
        "id": "RHxtyIfDfdLA",
        "colab": {
          "base_uri": "https://localhost:8080/"
        },
        "outputId": "0f75c49b-8fbd-4bd8-8492-9566a60e41af"
      },
      "id": "RHxtyIfDfdLA",
      "execution_count": null,
      "outputs": [
        {
          "output_type": "stream",
          "name": "stdout",
          "text": [
            "99\n"
          ]
        }
      ]
    },
    {
      "cell_type": "markdown",
      "source": [
        "5 ve merhaba yazdırılmaz. Çünkü return'u gördüğü anda fonksiyondan çıkar. return rakam3 + rakam4 'de çıkmamasının nedeni bu fonksiyonun içinde tanımlama yapılmasıdır."
      ],
      "metadata": {
        "id": "6Cth6iGHR3kR"
      },
      "id": "6Cth6iGHR3kR"
    },
    {
      "cell_type": "code",
      "source": [
        "yas = input(\"Yaşınızı giriniz: \")\n",
        "yas = int(yas)\n",
        "if yas >= 18:\n",
        "  print(\"ehliyet alabilirsiniz\")\n",
        "else:\n",
        "  print(\"ehliyet alamazsınız\")\n",
        "\n",
        "  #else'yi girintili yazsaydın o zaman hata alırdın."
      ],
      "metadata": {
        "colab": {
          "base_uri": "https://localhost:8080/"
        },
        "id": "5n3J9TDpRwNr",
        "outputId": "762e131b-a1bb-434a-f3eb-6e7a16fba871"
      },
      "id": "5n3J9TDpRwNr",
      "execution_count": null,
      "outputs": [
        {
          "output_type": "stream",
          "name": "stdout",
          "text": [
            "Yaşınızı giriniz: 11\n",
            "ehliyet alamazsınız\n"
          ]
        }
      ]
    },
    {
      "cell_type": "markdown",
      "source": [
        "# Metotlar vs Fonksiyonlar\n",
        "\n",
        "Bazı fonksiyonlar list(), print(), max(), min(), input()\n",
        "\n",
        "Metotlarda . nokta kullanılır. Örneğin \"merhaba\".capitalized()\n",
        "\n",
        "Tek başına .capitalized bir işe yaramaz. Bir metot bir şey tarafından sahiplenilmeli. Noktanın sonundaki şey tarafından."
      ],
      "metadata": {
        "id": "_Mlh7EDuTJx6"
      },
      "id": "_Mlh7EDuTJx6"
    },
    {
      "cell_type": "markdown",
      "source": [
        "# Docstrings"
      ],
      "metadata": {
        "id": "HLXaTsbCTtMi"
      },
      "id": "HLXaTsbCTtMi"
    },
    {
      "cell_type": "code",
      "source": [
        "def test(a):\n",
        "  print(a)\n",
        "test(\"!!!!!\")"
      ],
      "metadata": {
        "colab": {
          "base_uri": "https://localhost:8080/"
        },
        "id": "5CkmwDxVSzRD",
        "outputId": "bc9e7f7e-441a-49e9-ad47-b1092f8d8504"
      },
      "id": "5CkmwDxVSzRD",
      "execution_count": null,
      "outputs": [
        {
          "output_type": "stream",
          "name": "stdout",
          "text": [
            "!!!!!\n"
          ]
        }
      ]
    },
    {
      "cell_type": "code",
      "source": [
        "def test(a):\n",
        "  print(a) # fonk. yazmadığın için çıktı alamadın."
      ],
      "metadata": {
        "id": "PnyoW3v7T6NQ"
      },
      "id": "PnyoW3v7T6NQ",
      "execution_count": null,
      "outputs": []
    },
    {
      "cell_type": "code",
      "source": [
        "def test(a):\n",
        "  '''\n",
        "  Bilgilendirme: Bu fonksiyon test eder ve a çıktısını verir.\n",
        "  '''\n",
        "  print(a)\n",
        "test(\"merhaba\")"
      ],
      "metadata": {
        "colab": {
          "base_uri": "https://localhost:8080/"
        },
        "id": "iFluK0L_T8lS",
        "outputId": "8ff34c3f-ae04-4e24-d8e9-b0b360c57d8b"
      },
      "id": "iFluK0L_T8lS",
      "execution_count": null,
      "outputs": [
        {
          "output_type": "stream",
          "name": "stdout",
          "text": [
            "merhaba\n"
          ]
        }
      ]
    },
    {
      "cell_type": "markdown",
      "source": [
        "test() yazdığın anda test(a) bilgilendirme kutucuğu çıkar ve ‘’’ arasına yazdığın yazılar gelir."
      ],
      "metadata": {
        "id": "fkOjAzEYUWEb"
      },
      "id": "fkOjAzEYUWEb"
    },
    {
      "cell_type": "markdown",
      "source": [
        "# Clean Code"
      ],
      "metadata": {
        "id": "7zrm44s1Ua1v"
      },
      "id": "7zrm44s1Ua1v"
    },
    {
      "cell_type": "code",
      "source": [
        "def teksayı (rakam):\n",
        "  if rakam % 2 == 0:\n",
        "    return False\n",
        "  elif rakam % 2!= 0:\n",
        "    return True\n",
        "print(teksayı(55))"
      ],
      "metadata": {
        "colab": {
          "base_uri": "https://localhost:8080/"
        },
        "id": "zrF0ajPnUOlF",
        "outputId": "523beb21-d43f-4bfa-deb6-c30961cdfb48"
      },
      "id": "zrF0ajPnUOlF",
      "execution_count": null,
      "outputs": [
        {
          "output_type": "stream",
          "name": "stdout",
          "text": [
            "True\n"
          ]
        }
      ]
    },
    {
      "cell_type": "markdown",
      "source": [
        "Örneğin sadece çift olup olmadığını kontrol ediyorsan elif num % 2 != 0: buna gerek yok."
      ],
      "metadata": {
        "id": "MtsoNo51Ya1O"
      },
      "id": "MtsoNo51Ya1O"
    },
    {
      "cell_type": "code",
      "source": [
        "def teksayı (rakam):\n",
        "  if rakam % 2 == 0:\n",
        "    return False\n",
        "  else:\n",
        "    return True\n",
        "print(teksayı(55))"
      ],
      "metadata": {
        "colab": {
          "base_uri": "https://localhost:8080/"
        },
        "id": "mkQ9hyfmYBlh",
        "outputId": "46d953e4-0534-4d47-b098-cd95d5308799"
      },
      "id": "mkQ9hyfmYBlh",
      "execution_count": null,
      "outputs": [
        {
          "output_type": "stream",
          "name": "stdout",
          "text": [
            "True\n"
          ]
        }
      ]
    },
    {
      "cell_type": "code",
      "source": [
        "# Eğer return False değilse bir alt satıra gider.\n",
        "def teksayı (rakam):\n",
        "  if rakam % 2 == 0:\n",
        "    return False\n",
        "  return True\n",
        "print(teksayı(55))"
      ],
      "metadata": {
        "colab": {
          "base_uri": "https://localhost:8080/"
        },
        "id": "5z0npohiYqkr",
        "outputId": "affa9525-dfdb-4821-d74a-6831fa923a67"
      },
      "id": "5z0npohiYqkr",
      "execution_count": null,
      "outputs": [
        {
          "output_type": "stream",
          "name": "stdout",
          "text": [
            "True\n"
          ]
        }
      ]
    },
    {
      "cell_type": "code",
      "source": [
        "# Daha yalını boolean değerine döndürmektir.\n",
        "\n",
        "def teksayı (rakam):\n",
        "  return rakam % 2 != 0\n",
        "print(teksayı(55))"
      ],
      "metadata": {
        "colab": {
          "base_uri": "https://localhost:8080/"
        },
        "id": "OBbQ6mzUZCvg",
        "outputId": "0669787f-e8a6-4bdb-b52c-e4043612db6d"
      },
      "id": "OBbQ6mzUZCvg",
      "execution_count": null,
      "outputs": [
        {
          "output_type": "stream",
          "name": "stdout",
          "text": [
            "True\n"
          ]
        }
      ]
    },
    {
      "cell_type": "markdown",
      "source": [
        "#  *args and **kwargs (Argümanlar ve Anahtar Kelime Argümanlar)"
      ],
      "metadata": {
        "id": "p-swSpCZZrCS"
      },
      "id": "p-swSpCZZrCS"
    },
    {
      "cell_type": "code",
      "source": [
        "def superfonksiyon(args):\n",
        "  return toplam(args)\n",
        "superfonksiyon(1,2,3,4,5)"
      ],
      "metadata": {
        "colab": {
          "base_uri": "https://localhost:8080/",
          "height": 173
        },
        "id": "pSCkpH72ZlR8",
        "outputId": "b369c04a-e19f-4dc5-b631-eddbb952b0ab"
      },
      "id": "pSCkpH72ZlR8",
      "execution_count": null,
      "outputs": [
        {
          "output_type": "error",
          "ename": "TypeError",
          "evalue": "superfonksiyon() takes 1 positional argument but 5 were given",
          "traceback": [
            "\u001b[0;31m---------------------------------------------------------------------------\u001b[0m",
            "\u001b[0;31mTypeError\u001b[0m                                 Traceback (most recent call last)",
            "\u001b[0;32m<ipython-input-20-dd2d76ad1af5>\u001b[0m in \u001b[0;36m<cell line: 3>\u001b[0;34m()\u001b[0m\n\u001b[1;32m      1\u001b[0m \u001b[0;32mdef\u001b[0m \u001b[0msuperfonksiyon\u001b[0m\u001b[0;34m(\u001b[0m\u001b[0margs\u001b[0m\u001b[0;34m)\u001b[0m\u001b[0;34m:\u001b[0m\u001b[0;34m\u001b[0m\u001b[0;34m\u001b[0m\u001b[0m\n\u001b[1;32m      2\u001b[0m   \u001b[0;32mreturn\u001b[0m \u001b[0mtoplam\u001b[0m\u001b[0;34m(\u001b[0m\u001b[0margs\u001b[0m\u001b[0;34m)\u001b[0m\u001b[0;34m\u001b[0m\u001b[0;34m\u001b[0m\u001b[0m\n\u001b[0;32m----> 3\u001b[0;31m \u001b[0msuperfonksiyon\u001b[0m\u001b[0;34m(\u001b[0m\u001b[0;36m1\u001b[0m\u001b[0;34m,\u001b[0m\u001b[0;36m2\u001b[0m\u001b[0;34m,\u001b[0m\u001b[0;36m3\u001b[0m\u001b[0;34m,\u001b[0m\u001b[0;36m4\u001b[0m\u001b[0;34m,\u001b[0m\u001b[0;36m5\u001b[0m\u001b[0;34m)\u001b[0m\u001b[0;34m\u001b[0m\u001b[0;34m\u001b[0m\u001b[0m\n\u001b[0m",
            "\u001b[0;31mTypeError\u001b[0m: superfonksiyon() takes 1 positional argument but 5 were given"
          ]
        }
      ]
    },
    {
      "cell_type": "markdown",
      "source": [
        "Çıktı alamazsın, hata verir. Süper fonksiyon bir poziyonel argüman alır ama beş tane veri var. Bir parametre var o da konumsal bir argüman. *args diyerek bunun herhangi bir sayıda konumsal argümanı kabul edebilir."
      ],
      "metadata": {
        "id": "wlUPwN9bcu9S"
      },
      "id": "wlUPwN9bcu9S"
    },
    {
      "cell_type": "code",
      "source": [
        "def superfonksiyon(*args):\n",
        "  print(*args)\n",
        "  return sum(args)\n",
        "superfonksiyon(1,2,3,4,5)"
      ],
      "metadata": {
        "colab": {
          "base_uri": "https://localhost:8080/"
        },
        "id": "lmaBan--cq6H",
        "outputId": "88571caa-7196-4542-ff10-bd333a39763b"
      },
      "id": "lmaBan--cq6H",
      "execution_count": null,
      "outputs": [
        {
          "output_type": "stream",
          "name": "stdout",
          "text": [
            "1 2 3 4 5\n"
          ]
        },
        {
          "output_type": "execute_result",
          "data": {
            "text/plain": [
              "15"
            ]
          },
          "metadata": {},
          "execution_count": 21
        }
      ]
    },
    {
      "cell_type": "markdown",
      "source": [
        "Burada bir tuple’a dönüşür. Yani bu fonksiyonun içindeki args, ona verdiğimiz bir argüman çiftidir.\n",
        "\n",
        "Herhangi bir sayıda argüman kabul edilebilen bir fonksiyona sahip olmak için *args kullan. (*args) anahtar kelime argümanlarını kullanmamıza izin verir.\n",
        "\n",
        "Args ve kwargs sadece bir değişkendir, farklı bir isimlendirme de olabilirdi.\n"
      ],
      "metadata": {
        "id": "oc2N2U4KfSGO"
      },
      "id": "oc2N2U4KfSGO"
    },
    {
      "cell_type": "code",
      "source": [
        "def superfonksiyon(*args):\n",
        "  print(args)\n",
        "  return sum(args) # *args dersen hata verir.\n",
        "superfonksiyon(1,2,3,4,5)"
      ],
      "metadata": {
        "colab": {
          "base_uri": "https://localhost:8080/"
        },
        "id": "wUDacmBYdjLL",
        "outputId": "aea9dab1-0ded-4bb2-e7d0-ba0baab62421"
      },
      "id": "wUDacmBYdjLL",
      "execution_count": null,
      "outputs": [
        {
          "output_type": "stream",
          "name": "stdout",
          "text": [
            "(1, 2, 3, 4, 5)\n"
          ]
        },
        {
          "output_type": "execute_result",
          "data": {
            "text/plain": [
              "15"
            ]
          },
          "metadata": {},
          "execution_count": 28
        }
      ]
    },
    {
      "cell_type": "code",
      "source": [
        "def fonksiyon1(*args, **kwargs):\n",
        "  print(kwargs)\n",
        "  return sum(args)\n",
        "print(fonksiyon1(1,2,3,4,5, num1 = 10, num2 = 20))"
      ],
      "metadata": {
        "colab": {
          "base_uri": "https://localhost:8080/"
        },
        "id": "LC_dkVBNfxC8",
        "outputId": "696e9de0-a528-4d19-f819-77d56d9e2e86"
      },
      "id": "LC_dkVBNfxC8",
      "execution_count": null,
      "outputs": [
        {
          "output_type": "stream",
          "name": "stdout",
          "text": [
            "{'num1': 10, 'num2': 20}\n",
            "15\n"
          ]
        }
      ]
    },
    {
      "cell_type": "code",
      "source": [
        "def fonksiyon_2 (*a, **b):\n",
        "  toplam = 0\n",
        "  for eleman in b.values():\n",
        "    toplam += eleman\n",
        "  return sum(a) + toplam\n",
        "print(fonksiyon_2(1,2,3,4,5, num1 = 10, num2 = 20))\n"
      ],
      "metadata": {
        "colab": {
          "base_uri": "https://localhost:8080/"
        },
        "id": "9ZWfUa4ogIPc",
        "outputId": "dfdec152-bf52-443b-a026-61b74a8a9fd5"
      },
      "id": "9ZWfUa4ogIPc",
      "execution_count": null,
      "outputs": [
        {
          "output_type": "stream",
          "name": "stdout",
          "text": [
            "45\n"
          ]
        }
      ]
    },
    {
      "cell_type": "markdown",
      "source": [
        "Parametre sıralama kuralı: parametreler *args, default parametreler **kwargs"
      ],
      "metadata": {
        "id": "i7dn2Wi8hMJt"
      },
      "id": "i7dn2Wi8hMJt"
    },
    {
      "cell_type": "code",
      "source": [
        "def fonksiyon_2 (isim, *a, x = \"merhaba\", **b):\n",
        "  print(fonksiyon_2(\"Muhammed\", 1,2,3,4,5, n1 = 13, n2 = 23))"
      ],
      "metadata": {
        "id": "axgFrggng9U1"
      },
      "id": "axgFrggng9U1",
      "execution_count": null,
      "outputs": []
    },
    {
      "cell_type": "markdown",
      "source": [
        "# Örnek"
      ],
      "metadata": {
        "id": "-tGdsoLKijdo"
      },
      "id": "-tGdsoLKijdo"
    },
    {
      "cell_type": "code",
      "source": [
        "# Önce boş bir liste oluşturulur. Listede tek olanları bul ve append ile listeye at.\n",
        "# Sonra max ile en yüksek olanı buluruz.\n",
        "\n",
        "def enyuksektek (liste):\n",
        "  teksayi = []\n",
        "  for sayi in liste:\n",
        "    if sayi % 2 != 0:\n",
        "      teksayi.append(sayi)\n",
        "  return max(teksayi)\n",
        "print (enyuksektek([1,2,3,4,5,6,7,8,9,10]))"
      ],
      "metadata": {
        "colab": {
          "base_uri": "https://localhost:8080/"
        },
        "id": "sGfhhMmoh8pn",
        "outputId": "7c557ecc-7b37-48f6-ee57-1fcc0daecbeb"
      },
      "id": "sGfhhMmoh8pn",
      "execution_count": null,
      "outputs": [
        {
          "output_type": "stream",
          "name": "stdout",
          "text": [
            "9\n"
          ]
        }
      ]
    },
    {
      "cell_type": "code",
      "source": [
        "# Önce boş bir liste oluşturulur. Listede tek olanları bul ve append ile listeye at.\n",
        "# Sonra max ile en yüksek olanı buluruz.\n",
        "\n",
        "def enyuksektek (liste):\n",
        "  teksayi = []\n",
        "  for sayi in liste:\n",
        "    if sayi % 2 != 0:\n",
        "      teksayi.append(sayi)\n",
        "  return max(teksayi)\n",
        "print (enyuksektek([1,2,3,4,5,6,5,7,8,9,10]))"
      ],
      "metadata": {
        "colab": {
          "base_uri": "https://localhost:8080/"
        },
        "id": "Nwush03brDeZ",
        "outputId": "eef947dd-fba9-4808-9dab-5cf4a3acc391"
      },
      "id": "Nwush03brDeZ",
      "execution_count": null,
      "outputs": [
        {
          "output_type": "stream",
          "name": "stdout",
          "text": [
            "9\n"
          ]
        }
      ]
    },
    {
      "cell_type": "markdown",
      "source": [
        "# Scope"
      ],
      "metadata": {
        "id": "d5q9SDEdst-P"
      },
      "id": "d5q9SDEdst-P"
    },
    {
      "cell_type": "code",
      "source": [
        "def fonksiyon_3 ():\n",
        "  toplam = 100\n",
        "print (toplam) #toplam tanımsızdır, hata alırsın."
      ],
      "metadata": {
        "colab": {
          "base_uri": "https://localhost:8080/",
          "height": 173
        },
        "id": "z4CzZOJ1spjy",
        "outputId": "71f5936d-a0ac-4ae0-eb34-157121888cf8"
      },
      "id": "z4CzZOJ1spjy",
      "execution_count": null,
      "outputs": [
        {
          "output_type": "error",
          "ename": "NameError",
          "evalue": "name 'toplam' is not defined",
          "traceback": [
            "\u001b[0;31m---------------------------------------------------------------------------\u001b[0m",
            "\u001b[0;31mNameError\u001b[0m                                 Traceback (most recent call last)",
            "\u001b[0;32m<ipython-input-5-fca892c1e524>\u001b[0m in \u001b[0;36m<cell line: 3>\u001b[0;34m()\u001b[0m\n\u001b[1;32m      1\u001b[0m \u001b[0;32mdef\u001b[0m \u001b[0mfonksiyon_3\u001b[0m \u001b[0;34m(\u001b[0m\u001b[0;34m)\u001b[0m\u001b[0;34m:\u001b[0m\u001b[0;34m\u001b[0m\u001b[0;34m\u001b[0m\u001b[0m\n\u001b[1;32m      2\u001b[0m   \u001b[0mtoplam\u001b[0m \u001b[0;34m=\u001b[0m \u001b[0;36m100\u001b[0m\u001b[0;34m\u001b[0m\u001b[0;34m\u001b[0m\u001b[0m\n\u001b[0;32m----> 3\u001b[0;31m \u001b[0mprint\u001b[0m \u001b[0;34m(\u001b[0m\u001b[0mtoplam\u001b[0m\u001b[0;34m)\u001b[0m \u001b[0;31m#toplam tanımsızdır, hata alırsın.\u001b[0m\u001b[0;34m\u001b[0m\u001b[0;34m\u001b[0m\u001b[0m\n\u001b[0m",
            "\u001b[0;31mNameError\u001b[0m: name 'toplam' is not defined"
          ]
        }
      ]
    },
    {
      "cell_type": "code",
      "source": [
        "if True:\n",
        "  x = 10\n",
        "def fonksiyon_4 ():\n",
        "  toplam = 100\n",
        "print (x)"
      ],
      "metadata": {
        "colab": {
          "base_uri": "https://localhost:8080/"
        },
        "id": "ZZXmj582s67h",
        "outputId": "ad99a3d6-fde6-4598-d029-9ac207aeb309"
      },
      "id": "ZZXmj582s67h",
      "execution_count": null,
      "outputs": [
        {
          "output_type": "stream",
          "name": "stdout",
          "text": [
            "10\n"
          ]
        }
      ]
    },
    {
      "cell_type": "markdown",
      "source": [
        "fonksiyon oluşturduğunda fonksiyonun içinde girintili olan herhangi bir şeyin gerçekten erişemediğimiz kendi dünyası olduğu için yeni bir dünya oluştururuz."
      ],
      "metadata": {
        "id": "Z-jbHPUktaYm"
      },
      "id": "Z-jbHPUktaYm"
    },
    {
      "cell_type": "code",
      "source": [
        "a = 1\n",
        "def karisiklik () :\n",
        "  a = 5\n",
        "  return a\n",
        "print (a)\n",
        "print (karisiklik())"
      ],
      "metadata": {
        "colab": {
          "base_uri": "https://localhost:8080/"
        },
        "id": "O1cxaYVptS-H",
        "outputId": "92c2c2ad-1de4-4749-8189-7d565c9781d1"
      },
      "id": "O1cxaYVptS-H",
      "execution_count": null,
      "outputs": [
        {
          "output_type": "stream",
          "name": "stdout",
          "text": [
            "1\n",
            "5\n"
          ]
        }
      ]
    },
    {
      "cell_type": "code",
      "source": [
        "a = 1\n",
        "def karisiklik () :\n",
        "  a = 5\n",
        "  return a\n",
        "\n",
        "print (karisiklik())\n",
        "print (a)"
      ],
      "metadata": {
        "colab": {
          "base_uri": "https://localhost:8080/"
        },
        "id": "yyNUqLdSu8uZ",
        "outputId": "2bce3887-4c2b-4cb5-cd17-4e6e3300e4a9"
      },
      "id": "yyNUqLdSu8uZ",
      "execution_count": null,
      "outputs": [
        {
          "output_type": "stream",
          "name": "stdout",
          "text": [
            "5\n",
            "1\n"
          ]
        }
      ]
    },
    {
      "cell_type": "markdown",
      "source": [
        "- Konum önemli, a bir yerel scope'dir.\n",
        "- parent local?"
      ],
      "metadata": {
        "id": "6lD9leeMvHKk"
      },
      "id": "6lD9leeMvHKk"
    },
    {
      "cell_type": "code",
      "source": [
        "a = 1 # girinti olmadığı için aşağıdaki ifadeler bu satıra bağlı değil.\n",
        "def aile ():\n",
        "  a = 10\n",
        "  def karisiklik ():\n",
        "    a = 5\n",
        "  return a\n",
        "\n",
        "print(aile())\n",
        "print(a)"
      ],
      "metadata": {
        "colab": {
          "base_uri": "https://localhost:8080/"
        },
        "id": "iTBijAOvvE1G",
        "outputId": "dd265327-80fe-4c4e-e924-dc31f659547e"
      },
      "id": "iTBijAOvvE1G",
      "execution_count": null,
      "outputs": [
        {
          "output_type": "stream",
          "name": "stdout",
          "text": [
            "10\n",
            "1\n"
          ]
        }
      ]
    },
    {
      "cell_type": "markdown",
      "source": [
        "# Global Keyword"
      ],
      "metadata": {
        "id": "ia4J0H2bwD-P"
      },
      "id": "ia4J0H2bwD-P"
    },
    {
      "cell_type": "code",
      "source": [
        "a = 10\n",
        "def karisiklik (b):\n",
        "  print(b)\n",
        "  a = 90\n",
        "\n",
        "karisiklik(3)"
      ],
      "metadata": {
        "colab": {
          "base_uri": "https://localhost:8080/"
        },
        "id": "9-0ImSJ4v1ff",
        "outputId": "03728a82-298b-4877-ebc5-65c543fb99b6"
      },
      "id": "9-0ImSJ4v1ff",
      "execution_count": null,
      "outputs": [
        {
          "output_type": "stream",
          "name": "stdout",
          "text": [
            "3\n"
          ]
        }
      ]
    },
    {
      "cell_type": "markdown",
      "source": [
        "Sebebi b parametresinin yerel kapsamın bir parçası olmasıdır. Yani print(b) def conf’ bir üst satırın bir parçası.\n",
        "\n",
        "Parametreler yerel değişkenlerdir, fonksiyonlar içinde kullanabiliriz, ancak bu fonksiyonların dışında kullanamayız.\n"
      ],
      "metadata": {
        "id": "h9SxB1i7yBHX"
      },
      "id": "h9SxB1i7yBHX"
    },
    {
      "cell_type": "code",
      "source": [
        "toplam = 0\n",
        "def sayma ():\n",
        "  toplam = 0 # yerel değişken, yazmazsan hata alırsın.\n",
        "  toplam += 1\n",
        "  return toplam\n",
        "\n",
        "print(sayma())"
      ],
      "metadata": {
        "colab": {
          "base_uri": "https://localhost:8080/"
        },
        "id": "uIuiCVECx9ti",
        "outputId": "8d848d40-6c27-4d9c-95d9-47939fe9d9df"
      },
      "id": "uIuiCVECx9ti",
      "execution_count": null,
      "outputs": [
        {
          "output_type": "stream",
          "name": "stdout",
          "text": [
            "1\n"
          ]
        }
      ]
    },
    {
      "cell_type": "code",
      "source": [
        "toplam = 0\n",
        "def sayma ():\n",
        "  toplam = 0\n",
        "  toplam += 1\n",
        "  return toplam\n",
        "\n",
        "sayma()\n",
        "sayma()\n",
        "print(sayma())"
      ],
      "metadata": {
        "colab": {
          "base_uri": "https://localhost:8080/"
        },
        "id": "Di_tKSxUyXyU",
        "outputId": "d23e6776-30e3-4bfc-b146-fc37638008a1"
      },
      "id": "Di_tKSxUyXyU",
      "execution_count": null,
      "outputs": [
        {
          "output_type": "stream",
          "name": "stdout",
          "text": [
            "1\n"
          ]
        }
      ]
    },
    {
      "cell_type": "markdown",
      "source": [
        "Çünkü fonksiyonu her çalıştırdığımızda toplamı sıfırlarız. Bunu düzeltmenin yolu global anahtar sözcüğünü kullanmak. Yeni bir değişken kullanmak zorunda kalmak yerine global toplam değişkenini kullanırsın."
      ],
      "metadata": {
        "id": "znAH1Hb1zA2W"
      },
      "id": "znAH1Hb1zA2W"
    },
    {
      "cell_type": "code",
      "source": [
        "toplam = 0\n",
        "\n",
        "def sayma(toplam):\n",
        "    toplam += 1\n",
        "    return toplam\n",
        "\n",
        "print(sayma(sayma(sayma(toplam))))\n",
        "\n"
      ],
      "metadata": {
        "colab": {
          "base_uri": "https://localhost:8080/"
        },
        "id": "zRrhVfyfy830",
        "outputId": "7b9a08e8-7ab3-48b8-c246-f502a127e842"
      },
      "id": "zRrhVfyfy830",
      "execution_count": null,
      "outputs": [
        {
          "output_type": "stream",
          "name": "stdout",
          "text": [
            "3\n"
          ]
        }
      ]
    },
    {
      "cell_type": "markdown",
      "source": [
        "İç içe... Önce 0 ile başlar sonra 1 sonra 2..\n",
        "\n",
        "Bu sayım işlevinin dış küresel kapsam üzerindeki bağımlılığını veya etkisini ortadan kaldırabilirve bunun yerine sadece sağlığına odaklanabiliriz.\n",
        "Bu şekilde küresel anahtar kelimeyi kullanmak zorunda kalmadan sayımızı yapmaya devam ederiz.\n"
      ],
      "metadata": {
        "id": "4fgvexxIzyO8"
      },
      "id": "4fgvexxIzyO8"
    },
    {
      "cell_type": "markdown",
      "source": [
        "# None Local Keyword\n",
        "\n",
        "None-local parçaya, üst yerel parçaya atıfta bulunmak için kullanılır. Global bir değişkeni olmayan ancak fonksiyonun kapsamı dışında olan bir değişkeni kullanmak ister."
      ],
      "metadata": {
        "id": "U0UoWerGnISQ"
      },
      "id": "U0UoWerGnISQ"
    },
    {
      "cell_type": "code",
      "source": [
        "def cıkıs ():\n",
        "  x = \"local\"\n",
        "  def ic ():\n",
        "    nonlocal x\n",
        "    x = \"yereldegil\"\n",
        "    print (\"ic:\", x)\n",
        "  ic()\n",
        "  print (\"cıkıs:\", x)"
      ],
      "metadata": {
        "id": "Y0ytwzxoz7Nk"
      },
      "id": "Y0ytwzxoz7Nk",
      "execution_count": null,
      "outputs": []
    },
    {
      "cell_type": "code",
      "source": [
        "def outer ():\n",
        "  x = \"local\"\n",
        "  def inner ():\n",
        "    nonlocal x\n",
        "    x = \"nonlocal\"\n",
        "    print (\"inner:\", x)\n",
        "  inner()\n",
        "  print (\"outer:\", x)"
      ],
      "metadata": {
        "id": "nS3ESAtRn2EK"
      },
      "id": "nS3ESAtRn2EK",
      "execution_count": null,
      "outputs": []
    },
    {
      "cell_type": "code",
      "source": [
        "metin = \"merHabA\"\n",
        "metin.lower()\n",
        "metin = metin.replace(\"H\", \"j\")\n",
        "print(metin)"
      ],
      "metadata": {
        "colab": {
          "base_uri": "https://localhost:8080/"
        },
        "id": "is_CHmvOoajJ",
        "outputId": "5a917a19-123b-43d3-d88d-8f12e56ea5e1"
      },
      "id": "is_CHmvOoajJ",
      "execution_count": null,
      "outputs": [
        {
          "output_type": "stream",
          "name": "stdout",
          "text": [
            "merjabA\n"
          ]
        }
      ]
    },
    {
      "cell_type": "code",
      "source": [
        "meyveler = [\"elma\", \"armut\", \"kiraz\", \"çilek\"]\n",
        "meyveler.insert(1, \"muz\")      # \"muz\"u listenin 1. indeksine ekler\n",
        "meyveler.remove(\"armut\")       # \"armut\"u listeden kaldırır\n",
        "print(meyveler[-1])            # Listenin son elemanını yazdırır (bu \"çilek\" olacak)\n",
        "meyveler.append(\"portakal\")    # \"portakal\"ı listenin sonuna ekler\n",
        "print(meyveler)                # Güncellenmiş listeyi yazdırır\n",
        "print(meyveler[2:5])           # Listenin 2. ile 4. indeksleri arasındaki elemanları yazdırır\n"
      ],
      "metadata": {
        "colab": {
          "base_uri": "https://localhost:8080/"
        },
        "id": "j21rNPaVp4RS",
        "outputId": "792df116-e06e-496d-8636-27b7d1dcbe64"
      },
      "id": "j21rNPaVp4RS",
      "execution_count": null,
      "outputs": [
        {
          "output_type": "stream",
          "name": "stdout",
          "text": [
            "çilek\n",
            "['elma', 'muz', 'kiraz', 'çilek', 'portakal']\n",
            "['kiraz', 'çilek', 'portakal']\n"
          ]
        }
      ]
    },
    {
      "cell_type": "markdown",
      "source": [
        "# Saf Fonksiyonlar\n",
        "\n",
        "-\tAynı girdiyi verdiğinde her zaman aynı çıktıyı döndürür.\n",
        "-\tFonksiyon fikrinin herhangi bir yan etki üretmemesi gerektiğidir. Yan etki, bir işlevin yaptığı ve dış dünyayı etkileyen şeylerdir.\n",
        "- Daha az hatalıdır ve daha kolay okunur.\n"
      ],
      "metadata": {
        "id": "nChchVNXqX8Z"
      },
      "id": "nChchVNXqX8Z"
    },
    {
      "cell_type": "code",
      "source": [
        "def iki_ile_carp (liste):\n",
        "  yeni_liste = []\n",
        "  for eleman in liste:\n",
        "    yeni_liste.append(eleman * 2)\n",
        "  return yeni_liste\n",
        "print(iki_ile_carp([1,2,3,4,5,6,7,8,9,10]))"
      ],
      "metadata": {
        "colab": {
          "base_uri": "https://localhost:8080/"
        },
        "id": "8jYufwR9qNQl",
        "outputId": "8597cee7-24d4-47fb-bc35-5833cbee5058"
      },
      "id": "8jYufwR9qNQl",
      "execution_count": null,
      "outputs": [
        {
          "output_type": "stream",
          "name": "stdout",
          "text": [
            "[2, 4, 6, 8, 10, 12, 14, 16, 18, 20]\n"
          ]
        }
      ]
    },
    {
      "cell_type": "markdown",
      "source": [
        "Yukarıdaki saf bir fonksiyon örneğidir. Eğer aşağıdaki gibi olsaydı, çıktı yine aynıydı ama,\n",
        "ikinci kurala uymazdı, print deyimi, dış dünya ile iletişime geçerdi.\n"
      ],
      "metadata": {
        "id": "B4MBclg9rYJY"
      },
      "id": "B4MBclg9rYJY"
    },
    {
      "cell_type": "code",
      "source": [
        "def iki_ile_carp_2 (liste):\n",
        "  yeni_liste = []\n",
        "  for eleman in liste:\n",
        "    yeni_liste.append(eleman * 2)\n",
        "  return print(yeni_liste)\n",
        "iki_ile_carp([1,2,3,4,5,6,7,8,9,10])"
      ],
      "metadata": {
        "colab": {
          "base_uri": "https://localhost:8080/"
        },
        "id": "-WQZmUsNrD9D",
        "outputId": "adacbad3-a78f-40f8-b44a-cd808131f526"
      },
      "id": "-WQZmUsNrD9D",
      "execution_count": null,
      "outputs": [
        {
          "output_type": "execute_result",
          "data": {
            "text/plain": [
              "[2, 4, 6, 8, 10, 12, 14, 16, 18, 20]"
            ]
          },
          "metadata": {},
          "execution_count": 14
        }
      ]
    },
    {
      "cell_type": "markdown",
      "source": [
        "# map(), filter(), zip(), reduce()"
      ],
      "metadata": {
        "id": "-cFHxxo4r5Ut"
      },
      "id": "-cFHxxo4r5Ut"
    },
    {
      "cell_type": "code",
      "source": [
        "def iki_ile_carp (liste):\n",
        "  yeni_liste = []\n",
        "  for eleman in liste:\n",
        "    yeni_liste.append(eleman * 2)\n",
        "  return yeni_liste\n",
        "print(iki_ile_carp([1,2,3,4,5,6,7,8,9,10]))\n",
        "\n",
        "print(map(iki_ile_carp([1,2,3,4,5,6,7,8,9,10])))"
      ],
      "metadata": {
        "colab": {
          "base_uri": "https://localhost:8080/",
          "height": 190
        },
        "id": "2G-4Q_6krsJk",
        "outputId": "2c02b6fb-c3a1-4ba6-d617-4f7a5985dd1c"
      },
      "id": "2G-4Q_6krsJk",
      "execution_count": null,
      "outputs": [
        {
          "output_type": "stream",
          "name": "stdout",
          "text": [
            "[2, 4, 6, 8, 10, 12, 14, 16, 18, 20]\n"
          ]
        },
        {
          "output_type": "error",
          "ename": "TypeError",
          "evalue": "map() must have at least two arguments.",
          "traceback": [
            "\u001b[0;31m---------------------------------------------------------------------------\u001b[0m",
            "\u001b[0;31mTypeError\u001b[0m                                 Traceback (most recent call last)",
            "\u001b[0;32m<ipython-input-2-47c07be6c62f>\u001b[0m in \u001b[0;36m<cell line: 8>\u001b[0;34m()\u001b[0m\n\u001b[1;32m      6\u001b[0m \u001b[0mprint\u001b[0m\u001b[0;34m(\u001b[0m\u001b[0miki_ile_carp\u001b[0m\u001b[0;34m(\u001b[0m\u001b[0;34m[\u001b[0m\u001b[0;36m1\u001b[0m\u001b[0;34m,\u001b[0m\u001b[0;36m2\u001b[0m\u001b[0;34m,\u001b[0m\u001b[0;36m3\u001b[0m\u001b[0;34m,\u001b[0m\u001b[0;36m4\u001b[0m\u001b[0;34m,\u001b[0m\u001b[0;36m5\u001b[0m\u001b[0;34m,\u001b[0m\u001b[0;36m6\u001b[0m\u001b[0;34m,\u001b[0m\u001b[0;36m7\u001b[0m\u001b[0;34m,\u001b[0m\u001b[0;36m8\u001b[0m\u001b[0;34m,\u001b[0m\u001b[0;36m9\u001b[0m\u001b[0;34m,\u001b[0m\u001b[0;36m10\u001b[0m\u001b[0;34m]\u001b[0m\u001b[0;34m)\u001b[0m\u001b[0;34m)\u001b[0m\u001b[0;34m\u001b[0m\u001b[0;34m\u001b[0m\u001b[0m\n\u001b[1;32m      7\u001b[0m \u001b[0;34m\u001b[0m\u001b[0m\n\u001b[0;32m----> 8\u001b[0;31m \u001b[0mprint\u001b[0m\u001b[0;34m(\u001b[0m\u001b[0mmap\u001b[0m\u001b[0;34m(\u001b[0m\u001b[0miki_ile_carp\u001b[0m\u001b[0;34m(\u001b[0m\u001b[0;34m[\u001b[0m\u001b[0;36m1\u001b[0m\u001b[0;34m,\u001b[0m\u001b[0;36m2\u001b[0m\u001b[0;34m,\u001b[0m\u001b[0;36m3\u001b[0m\u001b[0;34m,\u001b[0m\u001b[0;36m4\u001b[0m\u001b[0;34m,\u001b[0m\u001b[0;36m5\u001b[0m\u001b[0;34m,\u001b[0m\u001b[0;36m6\u001b[0m\u001b[0;34m,\u001b[0m\u001b[0;36m7\u001b[0m\u001b[0;34m,\u001b[0m\u001b[0;36m8\u001b[0m\u001b[0;34m,\u001b[0m\u001b[0;36m9\u001b[0m\u001b[0;34m,\u001b[0m\u001b[0;36m10\u001b[0m\u001b[0;34m]\u001b[0m\u001b[0;34m)\u001b[0m\u001b[0;34m)\u001b[0m\u001b[0;34m)\u001b[0m\u001b[0;34m\u001b[0m\u001b[0;34m\u001b[0m\u001b[0m\n\u001b[0m",
            "\u001b[0;31mTypeError\u001b[0m: map() must have at least two arguments."
          ]
        }
      ]
    },
    {
      "cell_type": "markdown",
      "source": [
        "Hata alırsın. Çünkü map ile artık bir listeye ekleme yapmak yerine liste oluşturma işlemine gerek kalmamasıdır.\n",
        "\n",
        "Map’e bazı veriler verilir ve daha sonra bu verilerin bunun tarafından harekete geçer.\n",
        "\n",
        "Map ile yapman gereken tek şey geri dönen bir fonksiyon yapmaktır.\n"
      ],
      "metadata": {
        "id": "MGrAHPQs0x8c"
      },
      "id": "MGrAHPQs0x8c"
    },
    {
      "cell_type": "code",
      "source": [
        "def iki_ile_carp(liste):\n",
        "    yeni_liste = []\n",
        "    for eleman in liste:\n",
        "        yeni_liste.append(eleman * 2)\n",
        "    return yeni_liste\n",
        "\n",
        "# `iki_ile_carp` fonksiyonunu `map` ile kullanmak istiyorsanız,\n",
        "# öncelikle fonksiyonu bir argüman olarak vermelisiniz.\n",
        "# Ancak, `iki_ile_carp` zaten bir listeyi işliyor,\n",
        "# bu yüzden `map` fonksiyonuna bu fonksiyonu doğrudan uygulamaktan ziyade,\n",
        "# `map` ile `iki_ile_carp` fonksiyonunu kullanmak pek uygun değil.\n",
        "\n",
        "# Kodunuzu, listeyi doğrudan işlemek için `iki_ile_carp` fonksiyonunu kullanarak çalıştırabilirsiniz:\n",
        "print(iki_ile_carp([1, 2, 3, 4, 5, 6, 7, 8, 9, 10]))\n",
        "\n",
        "# Eğer `map` kullanmak isterseniz, işte uygun bir örnek:\n",
        "def iki_ile_carp(eleman):\n",
        "    return eleman * 2\n",
        "\n",
        "liste = [1, 2, 3, 4, 5, 6, 7, 8, 9, 10]\n",
        "yeni_liste = list(map(iki_ile_carp, liste))\n",
        "print(yeni_liste)\n"
      ],
      "metadata": {
        "colab": {
          "base_uri": "https://localhost:8080/"
        },
        "id": "fjowl7UXr8fT",
        "outputId": "6645ceb6-a84e-4026-c790-9a6b6b75a11d"
      },
      "id": "fjowl7UXr8fT",
      "execution_count": null,
      "outputs": [
        {
          "output_type": "stream",
          "name": "stdout",
          "text": [
            "[2, 4, 6, 8, 10, 12, 14, 16, 18, 20]\n",
            "[2, 4, 6, 8, 10, 12, 14, 16, 18, 20]\n"
          ]
        }
      ]
    },
    {
      "cell_type": "markdown",
      "source": [
        "Map ile yinelenebilir tüm öğeler arasında döngü yapar ve bunu çalıştırırsak listeye dönüştüreceğimiz yeni bir map nesnesine döndürür.\n",
        "\n",
        "Map, üzerinde yineleme yapabileceğimiz bir şeyimiz olduğunda ve değiştirmek istediğimizde kullanışlı. Örneğin kullanıcı adı listesi var ve tamamını büyük harf şeklinde güncellemek lazım."
      ],
      "metadata": {
        "id": "cEdShgfW1za9"
      },
      "id": "cEdShgfW1za9"
    },
    {
      "cell_type": "code",
      "source": [
        "listem = [1,2,3,4,5,6,7,8,9]\n",
        "def iki_ile_carp (eleman):\n",
        "  return eleman * 2\n",
        "def tek_sayi(eleman):\n",
        "  return eleman % 2 != 0\n",
        "\n",
        "print(list(map(iki_ile_carp, listem)))\n",
        "print(list(filter(tek_sayi, listem)))\n",
        "print(listem)"
      ],
      "metadata": {
        "colab": {
          "base_uri": "https://localhost:8080/"
        },
        "id": "AKtK7LG11HiG",
        "outputId": "75cc123e-219d-4b60-9ceb-ada386a4a236"
      },
      "id": "AKtK7LG11HiG",
      "execution_count": null,
      "outputs": [
        {
          "output_type": "stream",
          "name": "stdout",
          "text": [
            "[2, 4, 6, 8, 10, 12, 14, 16, 18]\n",
            "[1, 3, 5, 7, 9]\n",
            "[1, 2, 3, 4, 5, 6, 7, 8, 9]\n"
          ]
        }
      ]
    },
    {
      "cell_type": "markdown",
      "source": [
        "Filtre fonksiyonu, filtrelenmesi gerekip gerekmediğine dair bir doğru ve yanlış değeri ya da bir Boolean değeri almaya çalışır.  "
      ],
      "metadata": {
        "id": "Sek5BFvV372S"
      },
      "id": "Sek5BFvV372S"
    },
    {
      "cell_type": "markdown",
      "source": [
        "Zip ile iki listeye veya iki aralığa ihtiyacımız varsa bunları birbirine sıkıştırabiliriz. Zip ile istediğin kadar liste işlem görebilir."
      ],
      "metadata": {
        "id": "IR4yKtD54Ihg"
      },
      "id": "IR4yKtD54Ihg"
    },
    {
      "cell_type": "code",
      "source": [
        "listem = [1,2,3,4,5,6,7,8,9]\n",
        "listen = [\"a\", \"b\", \"c\", \"d\", \"e\", \"f\", \"g\", \"h\", \"i\"]\n",
        "print(list(zip(listem, listen)))"
      ],
      "metadata": {
        "colab": {
          "base_uri": "https://localhost:8080/"
        },
        "id": "SdCW0kq12_Zw",
        "outputId": "1392859d-cd1d-4f3d-b8f9-19d8c42275b0"
      },
      "id": "SdCW0kq12_Zw",
      "execution_count": null,
      "outputs": [
        {
          "output_type": "stream",
          "name": "stdout",
          "text": [
            "[(1, 'a'), (2, 'b'), (3, 'c'), (4, 'd'), (5, 'e'), (6, 'f'), (7, 'g'), (8, 'h'), (9, 'i')]\n"
          ]
        }
      ]
    },
    {
      "cell_type": "code",
      "source": [
        "listem = [1,2,3,4,5,6,7,8,9]\n",
        "listen = [13,34,56,78]\n",
        "def iki_ile_carp (eleman):\n",
        "  return eleman * 2\n",
        "def tek_sayi(eleman):\n",
        "  return eleman % 2 != 0\n",
        "\n",
        "print(list(map(iki_ile_carp, listem)))\n",
        "print(list(zip(listen, listem)))\n",
        "print(listem)"
      ],
      "metadata": {
        "colab": {
          "base_uri": "https://localhost:8080/"
        },
        "id": "2dim2Rlk4Xj7",
        "outputId": "ff121828-4805-4e17-87c2-5bf9585ff8c6"
      },
      "id": "2dim2Rlk4Xj7",
      "execution_count": null,
      "outputs": [
        {
          "output_type": "stream",
          "name": "stdout",
          "text": [
            "[2, 4, 6, 8, 10, 12, 14, 16, 18]\n",
            "[(13, 1), (34, 2), (56, 3), (78, 4)]\n",
            "[1, 2, 3, 4, 5, 6, 7, 8, 9]\n"
          ]
        }
      ]
    },
    {
      "cell_type": "code",
      "source": [
        "from functools import reduce\n",
        "my_list = [1,2,3]\n",
        "def multiply_by2(item):\n",
        "\treturn item*2\n",
        "def only_odd(item):\n",
        "\treturn item %2 != 0\n",
        "def accumulator(acc, item):\n",
        "\tprint(acc, item)\n",
        "\treturn acc + item\n",
        "print( reduce(accumulator, my_list, 0))\n",
        "print(my_list)\n",
        "\n",
        "# reduce varken liste kullanma"
      ],
      "metadata": {
        "colab": {
          "base_uri": "https://localhost:8080/"
        },
        "id": "Y5TpqaPr5CJT",
        "outputId": "e7146a7f-2dc2-46f1-98d2-01e2a38b0762"
      },
      "id": "Y5TpqaPr5CJT",
      "execution_count": null,
      "outputs": [
        {
          "output_type": "stream",
          "name": "stdout",
          "text": [
            "0 1\n",
            "1 2\n",
            "3 3\n",
            "6\n",
            "[1, 2, 3]\n"
          ]
        }
      ]
    },
    {
      "cell_type": "markdown",
      "source": [
        "Reduce, kendisine verilen yinelenebilir bir şeyi, bir tür değeri azaltmamızı sağlar.\n",
        "My_list’e reduce aracılığıyla accumulate uygulanır. Accumulator listeyi alır ve ilk geçişte yapacağı ilk şey,  accumulator ne olacak? Aslında 0 aldık. Print(acc, item)  print(0,1). 1+2 = 3, 3+3 = 6…\n"
      ],
      "metadata": {
        "id": "EwfnQx8-594n"
      },
      "id": "EwfnQx8-594n"
    },
    {
      "cell_type": "markdown",
      "source": [
        "# List Comprehensions (Liste Anlama)\n",
        "\n",
        "List, set, dictionary için oluşturulabilir. Python’da liste, küme ve dict oluşturmanın hızlı bir yoludur, döngü yapmak ya da listelere bir grup öğe eklemek yerine kullanılabilir."
      ],
      "metadata": {
        "id": "YpOZ7Tgl6Elw"
      },
      "id": "YpOZ7Tgl6Elw"
    },
    {
      "cell_type": "code",
      "source": [
        "listem = []\n",
        "for char in \"merhaba\":\n",
        "  listem.append(char)\n",
        "print(listem)"
      ],
      "metadata": {
        "id": "1UC7U6Kw5riH",
        "colab": {
          "base_uri": "https://localhost:8080/"
        },
        "outputId": "9c6d1b13-dec3-4e25-9df2-038419440df0"
      },
      "id": "1UC7U6Kw5riH",
      "execution_count": 1,
      "outputs": [
        {
          "output_type": "stream",
          "name": "stdout",
          "text": [
            "['m', 'e', 'r', 'h', 'a', 'b', 'a']\n"
          ]
        }
      ]
    },
    {
      "cell_type": "code",
      "source": [
        "listem = []\n",
        "for harf in \"merhaba\":\n",
        "  listem.append(harf)\n",
        "print(listem)"
      ],
      "metadata": {
        "colab": {
          "base_uri": "https://localhost:8080/"
        },
        "id": "8m4B1TKI-hTf",
        "outputId": "cee70228-18ec-405e-8cc7-d339db68e279"
      },
      "id": "8m4B1TKI-hTf",
      "execution_count": 2,
      "outputs": [
        {
          "output_type": "stream",
          "name": "stdout",
          "text": [
            "['m', 'e', 'r', 'h', 'a', 'b', 'a']\n"
          ]
        }
      ]
    },
    {
      "cell_type": "code",
      "source": [
        "listem = [harf for harf in \"merhaba\"]\n",
        "print(listem)"
      ],
      "metadata": {
        "colab": {
          "base_uri": "https://localhost:8080/"
        },
        "id": "Mn2C3dPd-s-9",
        "outputId": "04a919b2-f544-48d3-9804-0c15bd9d7878"
      },
      "id": "Mn2C3dPd-s-9",
      "execution_count": 3,
      "outputs": [
        {
          "output_type": "stream",
          "name": "stdout",
          "text": [
            "['m', 'e', 'r', 'h', 'a', 'b', 'a']\n"
          ]
        }
      ]
    },
    {
      "cell_type": "code",
      "source": [
        "listem = [sayı for sayı in range(0,100)]\n",
        "print(listem)"
      ],
      "metadata": {
        "colab": {
          "base_uri": "https://localhost:8080/"
        },
        "id": "7WkSrZWx--Wc",
        "outputId": "6e571705-cb39-4393-a969-06f6709057d5"
      },
      "id": "7WkSrZWx--Wc",
      "execution_count": 4,
      "outputs": [
        {
          "output_type": "stream",
          "name": "stdout",
          "text": [
            "[0, 1, 2, 3, 4, 5, 6, 7, 8, 9, 10, 11, 12, 13, 14, 15, 16, 17, 18, 19, 20, 21, 22, 23, 24, 25, 26, 27, 28, 29, 30, 31, 32, 33, 34, 35, 36, 37, 38, 39, 40, 41, 42, 43, 44, 45, 46, 47, 48, 49, 50, 51, 52, 53, 54, 55, 56, 57, 58, 59, 60, 61, 62, 63, 64, 65, 66, 67, 68, 69, 70, 71, 72, 73, 74, 75, 76, 77, 78, 79, 80, 81, 82, 83, 84, 85, 86, 87, 88, 89, 90, 91, 92, 93, 94, 95, 96, 97, 98, 99]\n"
          ]
        }
      ]
    },
    {
      "cell_type": "code",
      "source": [
        "listem = [sayı for sayı in range(0,100)]\n",
        "listem_2 = [sayı **2 for sayı in range(0,100)]\n",
        "listem_3 = [sayı **2 for sayı in range(0,100) if sayı %2 == 0]\n",
        "print(listem)\n",
        "print(listem_2)\n",
        "print(listem_3)"
      ],
      "metadata": {
        "colab": {
          "base_uri": "https://localhost:8080/"
        },
        "id": "PJ7tgIxJ_KTa",
        "outputId": "95bc37df-dd01-41fb-dbf7-81b9fbffc281"
      },
      "id": "PJ7tgIxJ_KTa",
      "execution_count": 6,
      "outputs": [
        {
          "output_type": "stream",
          "name": "stdout",
          "text": [
            "[0, 1, 2, 3, 4, 5, 6, 7, 8, 9, 10, 11, 12, 13, 14, 15, 16, 17, 18, 19, 20, 21, 22, 23, 24, 25, 26, 27, 28, 29, 30, 31, 32, 33, 34, 35, 36, 37, 38, 39, 40, 41, 42, 43, 44, 45, 46, 47, 48, 49, 50, 51, 52, 53, 54, 55, 56, 57, 58, 59, 60, 61, 62, 63, 64, 65, 66, 67, 68, 69, 70, 71, 72, 73, 74, 75, 76, 77, 78, 79, 80, 81, 82, 83, 84, 85, 86, 87, 88, 89, 90, 91, 92, 93, 94, 95, 96, 97, 98, 99]\n",
            "[0, 1, 4, 9, 16, 25, 36, 49, 64, 81, 100, 121, 144, 169, 196, 225, 256, 289, 324, 361, 400, 441, 484, 529, 576, 625, 676, 729, 784, 841, 900, 961, 1024, 1089, 1156, 1225, 1296, 1369, 1444, 1521, 1600, 1681, 1764, 1849, 1936, 2025, 2116, 2209, 2304, 2401, 2500, 2601, 2704, 2809, 2916, 3025, 3136, 3249, 3364, 3481, 3600, 3721, 3844, 3969, 4096, 4225, 4356, 4489, 4624, 4761, 4900, 5041, 5184, 5329, 5476, 5625, 5776, 5929, 6084, 6241, 6400, 6561, 6724, 6889, 7056, 7225, 7396, 7569, 7744, 7921, 8100, 8281, 8464, 8649, 8836, 9025, 9216, 9409, 9604, 9801]\n",
            "[0, 4, 16, 36, 64, 100, 144, 196, 256, 324, 400, 484, 576, 676, 784, 900, 1024, 1156, 1296, 1444, 1600, 1764, 1936, 2116, 2304, 2500, 2704, 2916, 3136, 3364, 3600, 3844, 4096, 4356, 4624, 4900, 5184, 5476, 5776, 6084, 6400, 6724, 7056, 7396, 7744, 8100, 8464, 8836, 9216, 9604]\n"
          ]
        }
      ]
    },
    {
      "cell_type": "markdown",
      "source": [
        "Üzerinde yinelediğin her bir öğe ile ilgili bir şeyler yapabilirsin."
      ],
      "metadata": {
        "id": "jCeiKzc5_5LO"
      },
      "id": "jCeiKzc5_5LO"
    },
    {
      "cell_type": "markdown",
      "source": [
        "# Set Comprehensions"
      ],
      "metadata": {
        "id": "CgEBzumKACEh"
      },
      "id": "CgEBzumKACEh"
    },
    {
      "cell_type": "code",
      "source": [
        "listem = {sayı for sayı in range(0,100)}\n",
        "listem_2 = {sayı **2 for sayı in range(0,100)}\n",
        "listem_3 = {sayı **2 for sayı in range(0,100) if sayı %2 == 0}\n",
        "print(listem)\n",
        "print(listem_2)\n",
        "print(listem_3)"
      ],
      "metadata": {
        "colab": {
          "base_uri": "https://localhost:8080/"
        },
        "id": "jdtv2ZWD_fZA",
        "outputId": "89c8c6de-a974-438f-94d0-346ddecb0f1f"
      },
      "id": "jdtv2ZWD_fZA",
      "execution_count": 7,
      "outputs": [
        {
          "output_type": "stream",
          "name": "stdout",
          "text": [
            "{0, 1, 2, 3, 4, 5, 6, 7, 8, 9, 10, 11, 12, 13, 14, 15, 16, 17, 18, 19, 20, 21, 22, 23, 24, 25, 26, 27, 28, 29, 30, 31, 32, 33, 34, 35, 36, 37, 38, 39, 40, 41, 42, 43, 44, 45, 46, 47, 48, 49, 50, 51, 52, 53, 54, 55, 56, 57, 58, 59, 60, 61, 62, 63, 64, 65, 66, 67, 68, 69, 70, 71, 72, 73, 74, 75, 76, 77, 78, 79, 80, 81, 82, 83, 84, 85, 86, 87, 88, 89, 90, 91, 92, 93, 94, 95, 96, 97, 98, 99}\n",
            "{0, 1, 1024, 4096, 4, 9216, 9, 16, 529, 3600, 4624, 25, 36, 2601, 49, 7225, 3136, 64, 576, 1089, 1600, 2116, 5184, 6724, 7744, 9801, 81, 8281, 6241, 100, 625, 121, 4225, 1156, 8836, 3721, 144, 1681, 2704, 5776, 4761, 2209, 676, 169, 3249, 9409, 196, 1225, 5329, 729, 225, 1764, 7396, 6889, 7921, 2809, 256, 2304, 6400, 3844, 4356, 784, 1296, 8464, 289, 3364, 4900, 5929, 1849, 9025, 324, 841, 1369, 2401, 2916, 5476, 361, 3969, 900, 9604, 4489, 400, 1936, 7056, 7569, 3481, 6561, 1444, 8100, 5041, 441, 961, 2500, 6084, 8649, 3025, 484, 2025, 1521, 5625}\n",
            "{0, 256, 1024, 2304, 4, 900, 1156, 3844, 4096, 4356, 8836, 9604, 16, 144, 400, 784, 1296, 1936, 2704, 3600, 4624, 5776, 9216, 36, 676, 1444, 3364, 4900, 8100, 7056, 7744, 64, 576, 1600, 3136, 196, 324, 2116, 2500, 5184, 6084, 6400, 6724, 8464, 100, 484, 1764, 2916, 5476, 7396}\n"
          ]
        }
      ]
    },
    {
      "cell_type": "markdown",
      "source": [
        "# Dictionary Comprehensions"
      ],
      "metadata": {
        "id": "4x_q02KZAT3Q"
      },
      "id": "4x_q02KZAT3Q"
    },
    {
      "cell_type": "code",
      "source": [
        "simple_dict = {\n",
        "    'a': 1,\n",
        "    'b': 2\n",
        "}\n",
        "my_dict = {key: value ** 2 for key, value in simple_dict.items()}\n",
        "print(my_dict)\n"
      ],
      "metadata": {
        "colab": {
          "base_uri": "https://localhost:8080/"
        },
        "id": "mexoVXORAJ6l",
        "outputId": "8268d97a-b44c-480e-9a01-54f03a6c5f1f"
      },
      "id": "mexoVXORAJ6l",
      "execution_count": 8,
      "outputs": [
        {
          "output_type": "stream",
          "name": "stdout",
          "text": [
            "{'a': 1, 'b': 4}\n"
          ]
        }
      ]
    },
    {
      "cell_type": "code",
      "source": [
        "sozluk = {\n",
        "    'a': 1,\n",
        "    'b': 2\n",
        "}\n",
        "sozluk_2 = {x: deger ** 2 for x, deger in sozluk.items()}\n",
        "print(sozluk_2)\n"
      ],
      "metadata": {
        "colab": {
          "base_uri": "https://localhost:8080/"
        },
        "id": "NgSR-HWtCkON",
        "outputId": "9e9d0ff4-1f36-4427-ae21-75c3110778b5"
      },
      "id": "NgSR-HWtCkON",
      "execution_count": 11,
      "outputs": [
        {
          "output_type": "stream",
          "name": "stdout",
          "text": [
            "{'a': 1, 'b': 4}\n"
          ]
        }
      ]
    },
    {
      "cell_type": "code",
      "source": [
        "sozluk = {key: value ** 2 for key,\n",
        "          value in simple_dict.items() if value % 2 == 0}\n",
        "print(sozluk)"
      ],
      "metadata": {
        "colab": {
          "base_uri": "https://localhost:8080/"
        },
        "id": "pJ41QvOMC_aW",
        "outputId": "2d536f3d-dce7-45ee-daa7-82282dc3a470"
      },
      "id": "pJ41QvOMC_aW",
      "execution_count": 12,
      "outputs": [
        {
          "output_type": "stream",
          "name": "stdout",
          "text": [
            "{'b': 4}\n"
          ]
        }
      ]
    },
    {
      "cell_type": "code",
      "source": [
        "sozluk = {rakam: rakam ** 2 for rakam in range(0,100)}\n",
        "print(sozluk)\n",
        "\n",
        "# range(0,100) yerine [1,2,3] vs de diyebilirsin"
      ],
      "metadata": {
        "colab": {
          "base_uri": "https://localhost:8080/"
        },
        "id": "KaqNiERwDlnF",
        "outputId": "d5c350a1-a6f5-4092-fc85-a28a7408e72d"
      },
      "id": "KaqNiERwDlnF",
      "execution_count": 13,
      "outputs": [
        {
          "output_type": "stream",
          "name": "stdout",
          "text": [
            "{0: 0, 1: 1, 2: 4, 3: 9, 4: 16, 5: 25, 6: 36, 7: 49, 8: 64, 9: 81, 10: 100, 11: 121, 12: 144, 13: 169, 14: 196, 15: 225, 16: 256, 17: 289, 18: 324, 19: 361, 20: 400, 21: 441, 22: 484, 23: 529, 24: 576, 25: 625, 26: 676, 27: 729, 28: 784, 29: 841, 30: 900, 31: 961, 32: 1024, 33: 1089, 34: 1156, 35: 1225, 36: 1296, 37: 1369, 38: 1444, 39: 1521, 40: 1600, 41: 1681, 42: 1764, 43: 1849, 44: 1936, 45: 2025, 46: 2116, 47: 2209, 48: 2304, 49: 2401, 50: 2500, 51: 2601, 52: 2704, 53: 2809, 54: 2916, 55: 3025, 56: 3136, 57: 3249, 58: 3364, 59: 3481, 60: 3600, 61: 3721, 62: 3844, 63: 3969, 64: 4096, 65: 4225, 66: 4356, 67: 4489, 68: 4624, 69: 4761, 70: 4900, 71: 5041, 72: 5184, 73: 5329, 74: 5476, 75: 5625, 76: 5776, 77: 5929, 78: 6084, 79: 6241, 80: 6400, 81: 6561, 82: 6724, 83: 6889, 84: 7056, 85: 7225, 86: 7396, 87: 7569, 88: 7744, 89: 7921, 90: 8100, 91: 8281, 92: 8464, 93: 8649, 94: 8836, 95: 9025, 96: 9216, 97: 9409, 98: 9604, 99: 9801}\n"
          ]
        }
      ]
    },
    {
      "cell_type": "markdown",
      "source": [
        "# Örnek"
      ],
      "metadata": {
        "id": "SnJcqtTKD-62"
      },
      "id": "SnJcqtTKD-62"
    },
    {
      "cell_type": "code",
      "source": [
        "# Birinci yol:\n",
        "\n",
        "liste = [\"a\", \"b\", \"c\", \"d\", \"a\", \"b\", \"g\", \"h\", \"d\"]\n",
        "kopyalar = []\n",
        "for harf in liste:\n",
        "  if liste.count(harf) > 1:\n",
        "    if harf not in kopyalar:\n",
        "      kopyalar.append(harf)\n",
        "print(kopyalar)"
      ],
      "metadata": {
        "colab": {
          "base_uri": "https://localhost:8080/"
        },
        "id": "gH2KpdwVD80n",
        "outputId": "0aa81bd7-6581-43f4-f42e-01666bdaeb99"
      },
      "id": "gH2KpdwVD80n",
      "execution_count": 14,
      "outputs": [
        {
          "output_type": "stream",
          "name": "stdout",
          "text": [
            "['a', 'b', 'd']\n"
          ]
        }
      ]
    },
    {
      "cell_type": "code",
      "source": [
        "# İkinci yol\n",
        "\n",
        "liste = [\"a\", \"b\", \"c\", \"d\", \"a\", \"b\", \"g\", \"h\", \"d\"]\n",
        "kopyalar = [harf for harf in liste if liste.count(harf) > 1]\n",
        "print(kopyalar)"
      ],
      "metadata": {
        "colab": {
          "base_uri": "https://localhost:8080/"
        },
        "id": "9wONx4ZHFmEZ",
        "outputId": "861ecb60-cab0-4bee-e16d-8380685d8a5e"
      },
      "id": "9wONx4ZHFmEZ",
      "execution_count": 15,
      "outputs": [
        {
          "output_type": "stream",
          "name": "stdout",
          "text": [
            "['a', 'b', 'd', 'a', 'b', 'd']\n"
          ]
        }
      ]
    },
    {
      "cell_type": "code",
      "source": [
        "# Tekrar etmemesi için, sete dönüştür.\n",
        "\n",
        "liste = [\"a\", \"b\", \"c\", \"d\", \"a\", \"b\", \"g\", \"h\", \"d\"]\n",
        "kopyalar = set([harf for harf in liste if liste.count(harf) > 1])\n",
        "print(kopyalar)"
      ],
      "metadata": {
        "colab": {
          "base_uri": "https://localhost:8080/"
        },
        "id": "bl-7g6HEGAeO",
        "outputId": "d8500c0c-a6a5-4c20-c7b0-07d7c24e313c"
      },
      "id": "bl-7g6HEGAeO",
      "execution_count": 16,
      "outputs": [
        {
          "output_type": "stream",
          "name": "stdout",
          "text": [
            "{'a', 'd', 'b'}\n"
          ]
        }
      ]
    },
    {
      "cell_type": "code",
      "source": [
        "# Ama liste olmasını istemiştik.\n",
        "\n",
        "liste = [\"a\", \"b\", \"c\", \"d\", \"a\", \"b\", \"g\", \"h\", \"d\"]\n",
        "kopyalar = list(set([harf for harf in liste if liste.count(harf) > 1]))\n",
        "print(kopyalar)"
      ],
      "metadata": {
        "colab": {
          "base_uri": "https://localhost:8080/"
        },
        "id": "ISq2ppSnLZRX",
        "outputId": "afda8ff3-fe57-4d65-d572-5481d9e6b688"
      },
      "id": "ISq2ppSnLZRX",
      "execution_count": 17,
      "outputs": [
        {
          "output_type": "stream",
          "name": "stdout",
          "text": [
            "['a', 'd', 'b']\n"
          ]
        }
      ]
    },
    {
      "cell_type": "code",
      "source": [
        "# macos --> | işareti için option ve - aynı anda bas."
      ],
      "metadata": {
        "id": "Xc9YVKzMt1Ty"
      },
      "id": "Xc9YVKzMt1Ty",
      "execution_count": 1,
      "outputs": []
    },
    {
      "cell_type": "code",
      "source": [],
      "metadata": {
        "id": "VOK1INqet2kr"
      },
      "id": "VOK1INqet2kr",
      "execution_count": null,
      "outputs": []
    }
  ],
  "metadata": {
    "kernelspec": {
      "display_name": "Python 3",
      "name": "python3"
    },
    "language_info": {
      "codemirror_mode": {
        "name": "ipython",
        "version": 3
      },
      "file_extension": ".py",
      "mimetype": "text/x-python",
      "name": "python",
      "nbconvert_exporter": "python",
      "pygments_lexer": "ipython3",
      "version": "3.11.5"
    },
    "colab": {
      "provenance": [],
      "gpuType": "T4"
    },
    "accelerator": "GPU"
  },
  "nbformat": 4,
  "nbformat_minor": 5
}